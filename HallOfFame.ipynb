{
  "nbformat": 4,
  "nbformat_minor": 0,
  "metadata": {
    "colab": {
      "name": "Grp Project.ipynb",
      "provenance": [],
      "collapsed_sections": [],
      "toc_visible": true
    },
    "kernelspec": {
      "name": "python3",
      "display_name": "Python 3"
    },
    "language_info": {
      "name": "python"
    }
  },
  "cells": [
    {
      "cell_type": "markdown",
      "source": [
        "# **Exploratory** **Data** **Analysis**"
      ],
      "metadata": {
        "id": "YyTOcxNwazRr"
      }
    },
    {
      "cell_type": "markdown",
      "source": [
        "Import library and datasets"
      ],
      "metadata": {
        "id": "iFgRyYuRbNVR"
      }
    },
    {
      "cell_type": "code",
      "execution_count": 72,
      "metadata": {
        "id": "2g7Dk299Lncp"
      },
      "outputs": [],
      "source": [
        "import pandas as pd"
      ]
    },
    {
      "cell_type": "code",
      "source": [
        "df = pd.read_csv('basketball_hof.csv')\n",
        "master_df = pd.read_csv('basketball_master.csv')"
      ],
      "metadata": {
        "id": "LkgYqlvUHNRr"
      },
      "execution_count": 73,
      "outputs": []
    },
    {
      "cell_type": "markdown",
      "source": [
        "Check datasets for possible common variables."
      ],
      "metadata": {
        "id": "7uUj5bmTba_o"
      }
    },
    {
      "cell_type": "code",
      "source": [
        "df.head()"
      ],
      "metadata": {
        "colab": {
          "base_uri": "https://localhost:8080/",
          "height": 206
        },
        "id": "9G4dF51rH38X",
        "outputId": "d6651b76-e75e-4a18-dcf2-8e95ea757b27"
      },
      "execution_count": 74,
      "outputs": [
        {
          "output_type": "execute_result",
          "data": {
            "text/html": [
              "\n",
              "  <div id=\"df-bd0c863f-fc1a-4877-bd4a-89635b492555\">\n",
              "    <div class=\"colab-df-container\">\n",
              "      <div>\n",
              "<style scoped>\n",
              "    .dataframe tbody tr th:only-of-type {\n",
              "        vertical-align: middle;\n",
              "    }\n",
              "\n",
              "    .dataframe tbody tr th {\n",
              "        vertical-align: top;\n",
              "    }\n",
              "\n",
              "    .dataframe thead th {\n",
              "        text-align: right;\n",
              "    }\n",
              "</style>\n",
              "<table border=\"1\" class=\"dataframe\">\n",
              "  <thead>\n",
              "    <tr style=\"text-align: right;\">\n",
              "      <th></th>\n",
              "      <th>year</th>\n",
              "      <th>hofID</th>\n",
              "      <th>name</th>\n",
              "      <th>category</th>\n",
              "    </tr>\n",
              "  </thead>\n",
              "  <tbody>\n",
              "    <tr>\n",
              "      <th>0</th>\n",
              "      <td>1959</td>\n",
              "      <td>NaN</td>\n",
              "      <td>Amos Alonzo Stagg</td>\n",
              "      <td>Contributor</td>\n",
              "    </tr>\n",
              "    <tr>\n",
              "      <th>1</th>\n",
              "      <td>1959</td>\n",
              "      <td>NaN</td>\n",
              "      <td>Charles Hyatt</td>\n",
              "      <td>Player</td>\n",
              "    </tr>\n",
              "    <tr>\n",
              "      <th>2</th>\n",
              "      <td>1959</td>\n",
              "      <td>NaN</td>\n",
              "      <td>Edward Hickox</td>\n",
              "      <td>Contributor</td>\n",
              "    </tr>\n",
              "    <tr>\n",
              "      <th>3</th>\n",
              "      <td>1959</td>\n",
              "      <td>mikange01</td>\n",
              "      <td>George Mikan</td>\n",
              "      <td>Player</td>\n",
              "    </tr>\n",
              "    <tr>\n",
              "      <th>4</th>\n",
              "      <td>1959</td>\n",
              "      <td>NaN</td>\n",
              "      <td>Hank Luisetti</td>\n",
              "      <td>Player</td>\n",
              "    </tr>\n",
              "  </tbody>\n",
              "</table>\n",
              "</div>\n",
              "      <button class=\"colab-df-convert\" onclick=\"convertToInteractive('df-bd0c863f-fc1a-4877-bd4a-89635b492555')\"\n",
              "              title=\"Convert this dataframe to an interactive table.\"\n",
              "              style=\"display:none;\">\n",
              "        \n",
              "  <svg xmlns=\"http://www.w3.org/2000/svg\" height=\"24px\"viewBox=\"0 0 24 24\"\n",
              "       width=\"24px\">\n",
              "    <path d=\"M0 0h24v24H0V0z\" fill=\"none\"/>\n",
              "    <path d=\"M18.56 5.44l.94 2.06.94-2.06 2.06-.94-2.06-.94-.94-2.06-.94 2.06-2.06.94zm-11 1L8.5 8.5l.94-2.06 2.06-.94-2.06-.94L8.5 2.5l-.94 2.06-2.06.94zm10 10l.94 2.06.94-2.06 2.06-.94-2.06-.94-.94-2.06-.94 2.06-2.06.94z\"/><path d=\"M17.41 7.96l-1.37-1.37c-.4-.4-.92-.59-1.43-.59-.52 0-1.04.2-1.43.59L10.3 9.45l-7.72 7.72c-.78.78-.78 2.05 0 2.83L4 21.41c.39.39.9.59 1.41.59.51 0 1.02-.2 1.41-.59l7.78-7.78 2.81-2.81c.8-.78.8-2.07 0-2.86zM5.41 20L4 18.59l7.72-7.72 1.47 1.35L5.41 20z\"/>\n",
              "  </svg>\n",
              "      </button>\n",
              "      \n",
              "  <style>\n",
              "    .colab-df-container {\n",
              "      display:flex;\n",
              "      flex-wrap:wrap;\n",
              "      gap: 12px;\n",
              "    }\n",
              "\n",
              "    .colab-df-convert {\n",
              "      background-color: #E8F0FE;\n",
              "      border: none;\n",
              "      border-radius: 50%;\n",
              "      cursor: pointer;\n",
              "      display: none;\n",
              "      fill: #1967D2;\n",
              "      height: 32px;\n",
              "      padding: 0 0 0 0;\n",
              "      width: 32px;\n",
              "    }\n",
              "\n",
              "    .colab-df-convert:hover {\n",
              "      background-color: #E2EBFA;\n",
              "      box-shadow: 0px 1px 2px rgba(60, 64, 67, 0.3), 0px 1px 3px 1px rgba(60, 64, 67, 0.15);\n",
              "      fill: #174EA6;\n",
              "    }\n",
              "\n",
              "    [theme=dark] .colab-df-convert {\n",
              "      background-color: #3B4455;\n",
              "      fill: #D2E3FC;\n",
              "    }\n",
              "\n",
              "    [theme=dark] .colab-df-convert:hover {\n",
              "      background-color: #434B5C;\n",
              "      box-shadow: 0px 1px 3px 1px rgba(0, 0, 0, 0.15);\n",
              "      filter: drop-shadow(0px 1px 2px rgba(0, 0, 0, 0.3));\n",
              "      fill: #FFFFFF;\n",
              "    }\n",
              "  </style>\n",
              "\n",
              "      <script>\n",
              "        const buttonEl =\n",
              "          document.querySelector('#df-bd0c863f-fc1a-4877-bd4a-89635b492555 button.colab-df-convert');\n",
              "        buttonEl.style.display =\n",
              "          google.colab.kernel.accessAllowed ? 'block' : 'none';\n",
              "\n",
              "        async function convertToInteractive(key) {\n",
              "          const element = document.querySelector('#df-bd0c863f-fc1a-4877-bd4a-89635b492555');\n",
              "          const dataTable =\n",
              "            await google.colab.kernel.invokeFunction('convertToInteractive',\n",
              "                                                     [key], {});\n",
              "          if (!dataTable) return;\n",
              "\n",
              "          const docLinkHtml = 'Like what you see? Visit the ' +\n",
              "            '<a target=\"_blank\" href=https://colab.research.google.com/notebooks/data_table.ipynb>data table notebook</a>'\n",
              "            + ' to learn more about interactive tables.';\n",
              "          element.innerHTML = '';\n",
              "          dataTable['output_type'] = 'display_data';\n",
              "          await google.colab.output.renderOutput(dataTable, element);\n",
              "          const docLink = document.createElement('div');\n",
              "          docLink.innerHTML = docLinkHtml;\n",
              "          element.appendChild(docLink);\n",
              "        }\n",
              "      </script>\n",
              "    </div>\n",
              "  </div>\n",
              "  "
            ],
            "text/plain": [
              "   year      hofID               name     category\n",
              "0  1959        NaN  Amos Alonzo Stagg  Contributor\n",
              "1  1959        NaN      Charles Hyatt       Player\n",
              "2  1959        NaN      Edward Hickox  Contributor\n",
              "3  1959  mikange01       George Mikan       Player\n",
              "4  1959        NaN      Hank Luisetti       Player"
            ]
          },
          "metadata": {},
          "execution_count": 74
        }
      ]
    },
    {
      "cell_type": "code",
      "source": [
        "master_df.head()"
      ],
      "metadata": {
        "colab": {
          "base_uri": "https://localhost:8080/",
          "height": 375
        },
        "id": "QpbzZBPKH8Gf",
        "outputId": "85a09a58-30e6-49b7-f1ae-dec6f9ce3a73"
      },
      "execution_count": 75,
      "outputs": [
        {
          "output_type": "execute_result",
          "data": {
            "text/html": [
              "\n",
              "  <div id=\"df-cd054781-3263-49f0-813e-c2260ac158a4\">\n",
              "    <div class=\"colab-df-container\">\n",
              "      <div>\n",
              "<style scoped>\n",
              "    .dataframe tbody tr th:only-of-type {\n",
              "        vertical-align: middle;\n",
              "    }\n",
              "\n",
              "    .dataframe tbody tr th {\n",
              "        vertical-align: top;\n",
              "    }\n",
              "\n",
              "    .dataframe thead th {\n",
              "        text-align: right;\n",
              "    }\n",
              "</style>\n",
              "<table border=\"1\" class=\"dataframe\">\n",
              "  <thead>\n",
              "    <tr style=\"text-align: right;\">\n",
              "      <th></th>\n",
              "      <th>bioID</th>\n",
              "      <th>useFirst</th>\n",
              "      <th>firstName</th>\n",
              "      <th>middleName</th>\n",
              "      <th>lastName</th>\n",
              "      <th>nameGiven</th>\n",
              "      <th>fullGivenName</th>\n",
              "      <th>nameSuffix</th>\n",
              "      <th>nameNick</th>\n",
              "      <th>pos</th>\n",
              "      <th>firstseason</th>\n",
              "      <th>lastseason</th>\n",
              "      <th>height</th>\n",
              "      <th>weight</th>\n",
              "      <th>college</th>\n",
              "      <th>collegeOther</th>\n",
              "      <th>birthDate</th>\n",
              "      <th>birthCity</th>\n",
              "      <th>birthState</th>\n",
              "      <th>birthCountry</th>\n",
              "      <th>highSchool</th>\n",
              "      <th>hsCity</th>\n",
              "      <th>hsState</th>\n",
              "      <th>hsCountry</th>\n",
              "      <th>deathDate</th>\n",
              "      <th>race</th>\n",
              "    </tr>\n",
              "  </thead>\n",
              "  <tbody>\n",
              "    <tr>\n",
              "      <th>0</th>\n",
              "      <td>abdelal01</td>\n",
              "      <td>Alaa</td>\n",
              "      <td>Alaa</td>\n",
              "      <td>NaN</td>\n",
              "      <td>Abdelnaby</td>\n",
              "      <td>NaN</td>\n",
              "      <td>NaN</td>\n",
              "      <td>NaN</td>\n",
              "      <td>NaN</td>\n",
              "      <td>F-C</td>\n",
              "      <td>0.0</td>\n",
              "      <td>0.0</td>\n",
              "      <td>82.0</td>\n",
              "      <td>240.0</td>\n",
              "      <td>Duke</td>\n",
              "      <td>NaN</td>\n",
              "      <td>1968-06-24</td>\n",
              "      <td>Cairo</td>\n",
              "      <td>NaN</td>\n",
              "      <td>EGY</td>\n",
              "      <td>Bloomfield Senior</td>\n",
              "      <td>Bloomfield</td>\n",
              "      <td>NJ</td>\n",
              "      <td>USA</td>\n",
              "      <td>0000-00-00</td>\n",
              "      <td>B</td>\n",
              "    </tr>\n",
              "    <tr>\n",
              "      <th>1</th>\n",
              "      <td>abdulka01</td>\n",
              "      <td>Kareem</td>\n",
              "      <td>Kareem</td>\n",
              "      <td>NaN</td>\n",
              "      <td>Abdul-Jabbar</td>\n",
              "      <td>NaN</td>\n",
              "      <td>Ferdinand Lewis Alcindor, Jr.</td>\n",
              "      <td>NaN</td>\n",
              "      <td>Lew, Cap</td>\n",
              "      <td>C</td>\n",
              "      <td>0.0</td>\n",
              "      <td>0.0</td>\n",
              "      <td>85.0</td>\n",
              "      <td>225.0</td>\n",
              "      <td>UCLA</td>\n",
              "      <td>NaN</td>\n",
              "      <td>1947-04-16</td>\n",
              "      <td>New York</td>\n",
              "      <td>NY</td>\n",
              "      <td>USA</td>\n",
              "      <td>Power Memorial</td>\n",
              "      <td>New York</td>\n",
              "      <td>NY</td>\n",
              "      <td>USA</td>\n",
              "      <td>0000-00-00</td>\n",
              "      <td>B</td>\n",
              "    </tr>\n",
              "    <tr>\n",
              "      <th>2</th>\n",
              "      <td>abdulma01</td>\n",
              "      <td>Mahdi</td>\n",
              "      <td>Mahdi</td>\n",
              "      <td>NaN</td>\n",
              "      <td>Abdul-Rahman</td>\n",
              "      <td>NaN</td>\n",
              "      <td>Walter Raphael Hazzard, Jr.</td>\n",
              "      <td>NaN</td>\n",
              "      <td>Walt</td>\n",
              "      <td>G</td>\n",
              "      <td>0.0</td>\n",
              "      <td>0.0</td>\n",
              "      <td>74.0</td>\n",
              "      <td>185.0</td>\n",
              "      <td>UCLA</td>\n",
              "      <td>Santa Monica City</td>\n",
              "      <td>1942-04-15</td>\n",
              "      <td>Wilmington</td>\n",
              "      <td>DE</td>\n",
              "      <td>USA</td>\n",
              "      <td>Overbrook / Moton</td>\n",
              "      <td>Philadelphia / Easton</td>\n",
              "      <td>PA / MD</td>\n",
              "      <td>USA</td>\n",
              "      <td>2011-11-18</td>\n",
              "      <td>B</td>\n",
              "    </tr>\n",
              "    <tr>\n",
              "      <th>3</th>\n",
              "      <td>abdulma02</td>\n",
              "      <td>Mahmoud</td>\n",
              "      <td>Mahmoud</td>\n",
              "      <td>NaN</td>\n",
              "      <td>Abdul-Rauf</td>\n",
              "      <td>NaN</td>\n",
              "      <td>Chris Wayne Jackson</td>\n",
              "      <td>NaN</td>\n",
              "      <td>NaN</td>\n",
              "      <td>G</td>\n",
              "      <td>0.0</td>\n",
              "      <td>0.0</td>\n",
              "      <td>73.0</td>\n",
              "      <td>162.0</td>\n",
              "      <td>Louisiana State</td>\n",
              "      <td>NaN</td>\n",
              "      <td>1969-03-09</td>\n",
              "      <td>Gulfport</td>\n",
              "      <td>MS</td>\n",
              "      <td>USA</td>\n",
              "      <td>Gulfport</td>\n",
              "      <td>Gulfport</td>\n",
              "      <td>MS</td>\n",
              "      <td>USA</td>\n",
              "      <td>0000-00-00</td>\n",
              "      <td>B</td>\n",
              "    </tr>\n",
              "    <tr>\n",
              "      <th>4</th>\n",
              "      <td>abdulta01</td>\n",
              "      <td>Tariq</td>\n",
              "      <td>Tariq</td>\n",
              "      <td>NaN</td>\n",
              "      <td>Abdul-Wahad</td>\n",
              "      <td>NaN</td>\n",
              "      <td>Olivier Michael Saint-Jean</td>\n",
              "      <td>NaN</td>\n",
              "      <td>NaN</td>\n",
              "      <td>G-F</td>\n",
              "      <td>0.0</td>\n",
              "      <td>0.0</td>\n",
              "      <td>78.0</td>\n",
              "      <td>223.0</td>\n",
              "      <td>San Jose State</td>\n",
              "      <td>Michigan</td>\n",
              "      <td>1974-11-03</td>\n",
              "      <td>Maisons Alfort</td>\n",
              "      <td>NaN</td>\n",
              "      <td>FRA</td>\n",
              "      <td>Lycee Aristide Briand</td>\n",
              "      <td>Evreux</td>\n",
              "      <td>NaN</td>\n",
              "      <td>FRA</td>\n",
              "      <td>0000-00-00</td>\n",
              "      <td>B</td>\n",
              "    </tr>\n",
              "  </tbody>\n",
              "</table>\n",
              "</div>\n",
              "      <button class=\"colab-df-convert\" onclick=\"convertToInteractive('df-cd054781-3263-49f0-813e-c2260ac158a4')\"\n",
              "              title=\"Convert this dataframe to an interactive table.\"\n",
              "              style=\"display:none;\">\n",
              "        \n",
              "  <svg xmlns=\"http://www.w3.org/2000/svg\" height=\"24px\"viewBox=\"0 0 24 24\"\n",
              "       width=\"24px\">\n",
              "    <path d=\"M0 0h24v24H0V0z\" fill=\"none\"/>\n",
              "    <path d=\"M18.56 5.44l.94 2.06.94-2.06 2.06-.94-2.06-.94-.94-2.06-.94 2.06-2.06.94zm-11 1L8.5 8.5l.94-2.06 2.06-.94-2.06-.94L8.5 2.5l-.94 2.06-2.06.94zm10 10l.94 2.06.94-2.06 2.06-.94-2.06-.94-.94-2.06-.94 2.06-2.06.94z\"/><path d=\"M17.41 7.96l-1.37-1.37c-.4-.4-.92-.59-1.43-.59-.52 0-1.04.2-1.43.59L10.3 9.45l-7.72 7.72c-.78.78-.78 2.05 0 2.83L4 21.41c.39.39.9.59 1.41.59.51 0 1.02-.2 1.41-.59l7.78-7.78 2.81-2.81c.8-.78.8-2.07 0-2.86zM5.41 20L4 18.59l7.72-7.72 1.47 1.35L5.41 20z\"/>\n",
              "  </svg>\n",
              "      </button>\n",
              "      \n",
              "  <style>\n",
              "    .colab-df-container {\n",
              "      display:flex;\n",
              "      flex-wrap:wrap;\n",
              "      gap: 12px;\n",
              "    }\n",
              "\n",
              "    .colab-df-convert {\n",
              "      background-color: #E8F0FE;\n",
              "      border: none;\n",
              "      border-radius: 50%;\n",
              "      cursor: pointer;\n",
              "      display: none;\n",
              "      fill: #1967D2;\n",
              "      height: 32px;\n",
              "      padding: 0 0 0 0;\n",
              "      width: 32px;\n",
              "    }\n",
              "\n",
              "    .colab-df-convert:hover {\n",
              "      background-color: #E2EBFA;\n",
              "      box-shadow: 0px 1px 2px rgba(60, 64, 67, 0.3), 0px 1px 3px 1px rgba(60, 64, 67, 0.15);\n",
              "      fill: #174EA6;\n",
              "    }\n",
              "\n",
              "    [theme=dark] .colab-df-convert {\n",
              "      background-color: #3B4455;\n",
              "      fill: #D2E3FC;\n",
              "    }\n",
              "\n",
              "    [theme=dark] .colab-df-convert:hover {\n",
              "      background-color: #434B5C;\n",
              "      box-shadow: 0px 1px 3px 1px rgba(0, 0, 0, 0.15);\n",
              "      filter: drop-shadow(0px 1px 2px rgba(0, 0, 0, 0.3));\n",
              "      fill: #FFFFFF;\n",
              "    }\n",
              "  </style>\n",
              "\n",
              "      <script>\n",
              "        const buttonEl =\n",
              "          document.querySelector('#df-cd054781-3263-49f0-813e-c2260ac158a4 button.colab-df-convert');\n",
              "        buttonEl.style.display =\n",
              "          google.colab.kernel.accessAllowed ? 'block' : 'none';\n",
              "\n",
              "        async function convertToInteractive(key) {\n",
              "          const element = document.querySelector('#df-cd054781-3263-49f0-813e-c2260ac158a4');\n",
              "          const dataTable =\n",
              "            await google.colab.kernel.invokeFunction('convertToInteractive',\n",
              "                                                     [key], {});\n",
              "          if (!dataTable) return;\n",
              "\n",
              "          const docLinkHtml = 'Like what you see? Visit the ' +\n",
              "            '<a target=\"_blank\" href=https://colab.research.google.com/notebooks/data_table.ipynb>data table notebook</a>'\n",
              "            + ' to learn more about interactive tables.';\n",
              "          element.innerHTML = '';\n",
              "          dataTable['output_type'] = 'display_data';\n",
              "          await google.colab.output.renderOutput(dataTable, element);\n",
              "          const docLink = document.createElement('div');\n",
              "          docLink.innerHTML = docLinkHtml;\n",
              "          element.appendChild(docLink);\n",
              "        }\n",
              "      </script>\n",
              "    </div>\n",
              "  </div>\n",
              "  "
            ],
            "text/plain": [
              "       bioID useFirst firstName middleName  ...  hsState hsCountry   deathDate race\n",
              "0  abdelal01     Alaa      Alaa        NaN  ...       NJ       USA  0000-00-00    B\n",
              "1  abdulka01   Kareem    Kareem        NaN  ...       NY       USA  0000-00-00    B\n",
              "2  abdulma01    Mahdi     Mahdi        NaN  ...  PA / MD       USA  2011-11-18    B\n",
              "3  abdulma02  Mahmoud   Mahmoud        NaN  ...       MS       USA  0000-00-00    B\n",
              "4  abdulta01    Tariq     Tariq        NaN  ...      NaN       FRA  0000-00-00    B\n",
              "\n",
              "[5 rows x 26 columns]"
            ]
          },
          "metadata": {},
          "execution_count": 75
        }
      ]
    },
    {
      "cell_type": "markdown",
      "source": [
        "There are no similar variables in the two dataframes. This means the data set cannot be merged for analysis. Hence, the focus will be only on the hall of fame dataset"
      ],
      "metadata": {
        "id": "WOsieJ9bbxKR"
      }
    },
    {
      "cell_type": "markdown",
      "source": [
        "Check for null cells in each variable"
      ],
      "metadata": {
        "id": "m-efEvy6cTgH"
      }
    },
    {
      "cell_type": "code",
      "source": [
        " df.isnull().sum()"
      ],
      "metadata": {
        "colab": {
          "base_uri": "https://localhost:8080/"
        },
        "id": "WHZ2FQNpIThs",
        "outputId": "91a7ff54-6b3a-42d7-a2f6-876a71f455f6"
      },
      "execution_count": 76,
      "outputs": [
        {
          "output_type": "execute_result",
          "data": {
            "text/plain": [
              "year          0\n",
              "hofID       188\n",
              "name          0\n",
              "category      0\n",
              "dtype: int64"
            ]
          },
          "metadata": {},
          "execution_count": 76
        }
      ]
    },
    {
      "cell_type": "markdown",
      "source": [
        "hof1D has 188 null cells. This makes it unuseable and the dataframe does not provide enough information on what might be a replacement. Hence, the hofID column will be dropped from the dataframe."
      ],
      "metadata": {
        "id": "vV7J70G6dio-"
      }
    },
    {
      "cell_type": "code",
      "source": [
        "df = df.drop(['hofID'], axis = 1)"
      ],
      "metadata": {
        "id": "lIHsUpW3NH_P"
      },
      "execution_count": 77,
      "outputs": []
    },
    {
      "cell_type": "markdown",
      "source": [
        "Now check if it has effected."
      ],
      "metadata": {
        "id": "xAK7s_40eVHp"
      }
    },
    {
      "cell_type": "code",
      "source": [
        "df.isnull().sum()"
      ],
      "metadata": {
        "colab": {
          "base_uri": "https://localhost:8080/"
        },
        "id": "c0US9FUHNSHX",
        "outputId": "5220d34d-ab78-4312-8bba-fb6321a04b3f"
      },
      "execution_count": 78,
      "outputs": [
        {
          "output_type": "execute_result",
          "data": {
            "text/plain": [
              "year        0\n",
              "name        0\n",
              "category    0\n",
              "dtype: int64"
            ]
          },
          "metadata": {},
          "execution_count": 78
        }
      ]
    },
    {
      "cell_type": "markdown",
      "source": [
        "Check the number of cells in each variable"
      ],
      "metadata": {
        "id": "Wd-swL6UfDaq"
      }
    },
    {
      "cell_type": "code",
      "source": [
        "df.count()"
      ],
      "metadata": {
        "colab": {
          "base_uri": "https://localhost:8080/"
        },
        "id": "nzlS7QpnNZqc",
        "outputId": "ed1524fd-59d4-4b68-d4b7-3198de68b458"
      },
      "execution_count": 79,
      "outputs": [
        {
          "output_type": "execute_result",
          "data": {
            "text/plain": [
              "year        328\n",
              "name        328\n",
              "category    328\n",
              "dtype: int64"
            ]
          },
          "metadata": {},
          "execution_count": 79
        }
      ]
    },
    {
      "cell_type": "code",
      "source": [
        "df['year'].unique()"
      ],
      "metadata": {
        "colab": {
          "base_uri": "https://localhost:8080/"
        },
        "id": "lALbcfpkgS24",
        "outputId": "4708b4f5-8ac0-46bd-e2f7-ff844e559f50"
      },
      "execution_count": 87,
      "outputs": [
        {
          "output_type": "execute_result",
          "data": {
            "text/plain": [
              "array([1959, 1960, 1961, 1962, 1963, 1964, 1965, 1966, 1968, 1969, 1970,\n",
              "       1971, 1972, 1973, 1974, 1975, 1976, 1977, 1978, 1979, 1980, 1981,\n",
              "       1982, 1983, 1984, 1985, 1986, 1987, 1988, 1989, 1990, 1991, 1992,\n",
              "       1993, 1994, 1995, 1996, 1997, 1998, 1999, 2000, 2001, 2002, 2003,\n",
              "       2004, 2005, 2006, 2007, 2008, 2009, 2010, 2011, 2012])"
            ]
          },
          "metadata": {},
          "execution_count": 87
        }
      ]
    },
    {
      "cell_type": "markdown",
      "source": [
        "**Over the time range, a total of 328 Hall of Fame inductions have been made from 1959 to 2012**\n",
        "\n",
        "**Also, there was no induction made in 1967**\n",
        "\n",
        "\n",
        "\n",
        "\n",
        "\n",
        "."
      ],
      "metadata": {
        "id": "o3O9P2HjfXLE"
      }
    },
    {
      "cell_type": "markdown",
      "source": [
        "Check the total inductees under each category"
      ],
      "metadata": {
        "id": "tU6Wh7cUiTBz"
      }
    },
    {
      "cell_type": "code",
      "source": [
        "df['category'].value_counts()"
      ],
      "metadata": {
        "colab": {
          "base_uri": "https://localhost:8080/"
        },
        "id": "wXmzCWqsNkFE",
        "outputId": "bed2f21d-64ce-4e24-ac26-a5c48fcbcc12"
      },
      "execution_count": 91,
      "outputs": [
        {
          "output_type": "execute_result",
          "data": {
            "text/plain": [
              "Player         157\n",
              "Coach           90\n",
              "Contributor     58\n",
              "Referee         14\n",
              "Team             9\n",
              "Name: category, dtype: int64"
            ]
          },
          "metadata": {},
          "execution_count": 91
        }
      ]
    },
    {
      "cell_type": "markdown",
      "source": [
        "**There are 157 players, 90 coaches, 57 contributors, 14 refrees and 9 teams inducted into the hall of fame over the time range**"
      ],
      "metadata": {
        "id": "3rP4So4Xini3"
      }
    },
    {
      "cell_type": "code",
      "source": [
        "df['year'].value_counts()"
      ],
      "metadata": {
        "colab": {
          "base_uri": "https://localhost:8080/"
        },
        "id": "RqYuUDVWYgCt",
        "outputId": "cdc215f0-ae6e-4eb8-9142-e615ecf05f79"
      },
      "execution_count": 81,
      "outputs": [
        {
          "output_type": "execute_result",
          "data": {
            "text/plain": [
              "1959    17\n",
              "1961    17\n",
              "2012    12\n",
              "1960    10\n",
              "2011    10\n",
              "2010    10\n",
              "1992     9\n",
              "1993     8\n",
              "1979     7\n",
              "1964     7\n",
              "2008     7\n",
              "2007     7\n",
              "1991     7\n",
              "1982     7\n",
              "2003     7\n",
              "1985     7\n",
              "1998     7\n",
              "1997     7\n",
              "1995     7\n",
              "1962     6\n",
              "1996     6\n",
              "2002     6\n",
              "2004     6\n",
              "2006     6\n",
              "2000     6\n",
              "1986     6\n",
              "1983     6\n",
              "1972     6\n",
              "1980     6\n",
              "1973     6\n",
              "1984     5\n",
              "1977     5\n",
              "2009     5\n",
              "1969     5\n",
              "2005     5\n",
              "1987     5\n",
              "1999     5\n",
              "1978     5\n",
              "1994     5\n",
              "1976     4\n",
              "1975     4\n",
              "1981     4\n",
              "1990     4\n",
              "1968     4\n",
              "1965     4\n",
              "1988     4\n",
              "1974     3\n",
              "2001     3\n",
              "1971     3\n",
              "1989     3\n",
              "1963     3\n",
              "1970     2\n",
              "1966     2\n",
              "Name: year, dtype: int64"
            ]
          },
          "metadata": {},
          "execution_count": 81
        }
      ]
    },
    {
      "cell_type": "markdown",
      "source": [
        "**From the output above, it is deduced that the maximum inductees in a year is 17 while the minimum is 2.**"
      ],
      "metadata": {
        "id": "XIciLquOjiJk"
      }
    }
  ]
}