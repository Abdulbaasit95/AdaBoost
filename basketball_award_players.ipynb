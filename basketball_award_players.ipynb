{
 "cells": [
  {
   "cell_type": "code",
   "execution_count": 52,
   "metadata": {},
   "outputs": [],
   "source": [
    "import pandas as pd\n",
    "import matplotlib.pyplot as plt\n",
    "import numpy as np"
   ]
  },
  {
   "cell_type": "markdown",
   "metadata": {},
   "source": [
    "Reading the raw data"
   ]
  },
  {
   "cell_type": "code",
   "execution_count": 2,
   "metadata": {},
   "outputs": [],
   "source": [
    "df = pd.read_csv('basketball_awards_players.csv')"
   ]
  },
  {
   "cell_type": "markdown",
   "metadata": {},
   "source": [
    "Viewing the first 10 observations from the dataframe"
   ]
  },
  {
   "cell_type": "code",
   "execution_count": 74,
   "metadata": {},
   "outputs": [
    {
     "data": {
      "text/html": [
       "<div>\n",
       "<style scoped>\n",
       "    .dataframe tbody tr th:only-of-type {\n",
       "        vertical-align: middle;\n",
       "    }\n",
       "\n",
       "    .dataframe tbody tr th {\n",
       "        vertical-align: top;\n",
       "    }\n",
       "\n",
       "    .dataframe thead th {\n",
       "        text-align: right;\n",
       "    }\n",
       "</style>\n",
       "<table border=\"1\" class=\"dataframe\">\n",
       "  <thead>\n",
       "    <tr style=\"text-align: right;\">\n",
       "      <th></th>\n",
       "      <th>playerID</th>\n",
       "      <th>award</th>\n",
       "      <th>year</th>\n",
       "      <th>lgID</th>\n",
       "      <th>note</th>\n",
       "      <th>pos</th>\n",
       "    </tr>\n",
       "  </thead>\n",
       "  <tbody>\n",
       "    <tr>\n",
       "      <th>0</th>\n",
       "      <td>feeribo01</td>\n",
       "      <td>All-NBA First Team</td>\n",
       "      <td>1946</td>\n",
       "      <td>NBA</td>\n",
       "      <td>NaN</td>\n",
       "      <td>NaN</td>\n",
       "    </tr>\n",
       "    <tr>\n",
       "      <th>1</th>\n",
       "      <td>fulksjo01</td>\n",
       "      <td>All-NBA First Team</td>\n",
       "      <td>1946</td>\n",
       "      <td>NBA</td>\n",
       "      <td>NaN</td>\n",
       "      <td>NaN</td>\n",
       "    </tr>\n",
       "    <tr>\n",
       "      <th>2</th>\n",
       "      <td>mckinho01</td>\n",
       "      <td>All-NBA First Team</td>\n",
       "      <td>1946</td>\n",
       "      <td>NBA</td>\n",
       "      <td>NaN</td>\n",
       "      <td>NaN</td>\n",
       "    </tr>\n",
       "    <tr>\n",
       "      <th>3</th>\n",
       "      <td>miasest01</td>\n",
       "      <td>All-NBA First Team</td>\n",
       "      <td>1946</td>\n",
       "      <td>NBA</td>\n",
       "      <td>NaN</td>\n",
       "      <td>NaN</td>\n",
       "    </tr>\n",
       "    <tr>\n",
       "      <th>4</th>\n",
       "      <td>zasloma01</td>\n",
       "      <td>All-NBA First Team</td>\n",
       "      <td>1946</td>\n",
       "      <td>NBA</td>\n",
       "      <td>NaN</td>\n",
       "      <td>NaN</td>\n",
       "    </tr>\n",
       "    <tr>\n",
       "      <th>5</th>\n",
       "      <td>baumhfr01</td>\n",
       "      <td>All-NBA Second Team</td>\n",
       "      <td>1946</td>\n",
       "      <td>NBA</td>\n",
       "      <td>NaN</td>\n",
       "      <td>NaN</td>\n",
       "    </tr>\n",
       "    <tr>\n",
       "      <th>6</th>\n",
       "      <td>calveer01</td>\n",
       "      <td>All-NBA Second Team</td>\n",
       "      <td>1946</td>\n",
       "      <td>NBA</td>\n",
       "      <td>NaN</td>\n",
       "      <td>NaN</td>\n",
       "    </tr>\n",
       "    <tr>\n",
       "      <th>7</th>\n",
       "      <td>halbech01</td>\n",
       "      <td>All-NBA Second Team</td>\n",
       "      <td>1946</td>\n",
       "      <td>NBA</td>\n",
       "      <td>NaN</td>\n",
       "      <td>NaN</td>\n",
       "    </tr>\n",
       "    <tr>\n",
       "      <th>8</th>\n",
       "      <td>loganjo01</td>\n",
       "      <td>All-NBA Second Team</td>\n",
       "      <td>1946</td>\n",
       "      <td>NBA</td>\n",
       "      <td>NaN</td>\n",
       "      <td>NaN</td>\n",
       "    </tr>\n",
       "    <tr>\n",
       "      <th>9</th>\n",
       "      <td>scolafr01</td>\n",
       "      <td>All-NBA Second Team</td>\n",
       "      <td>1946</td>\n",
       "      <td>NBA</td>\n",
       "      <td>NaN</td>\n",
       "      <td>NaN</td>\n",
       "    </tr>\n",
       "  </tbody>\n",
       "</table>\n",
       "</div>"
      ],
      "text/plain": [
       "    playerID                award  year lgID note  pos\n",
       "0  feeribo01   All-NBA First Team  1946  NBA  NaN  NaN\n",
       "1  fulksjo01   All-NBA First Team  1946  NBA  NaN  NaN\n",
       "2  mckinho01   All-NBA First Team  1946  NBA  NaN  NaN\n",
       "3  miasest01   All-NBA First Team  1946  NBA  NaN  NaN\n",
       "4  zasloma01   All-NBA First Team  1946  NBA  NaN  NaN\n",
       "5  baumhfr01  All-NBA Second Team  1946  NBA  NaN  NaN\n",
       "6  calveer01  All-NBA Second Team  1946  NBA  NaN  NaN\n",
       "7  halbech01  All-NBA Second Team  1946  NBA  NaN  NaN\n",
       "8  loganjo01  All-NBA Second Team  1946  NBA  NaN  NaN\n",
       "9  scolafr01  All-NBA Second Team  1946  NBA  NaN  NaN"
      ]
     },
     "execution_count": 74,
     "metadata": {},
     "output_type": "execute_result"
    }
   ],
   "source": [
    "df.head(10)"
   ]
  },
  {
   "cell_type": "markdown",
   "metadata": {},
   "source": [
    "Counting the awards given in NBA, ABA, NBL, ABL1"
   ]
  },
  {
   "cell_type": "code",
   "execution_count": 4,
   "metadata": {},
   "outputs": [
    {
     "data": {
      "text/plain": [
       "NBA     1552\n",
       "ABA      142\n",
       "NBL       24\n",
       "ABL1       1\n",
       "Name: lgID, dtype: int64"
      ]
     },
     "execution_count": 4,
     "metadata": {},
     "output_type": "execute_result"
    }
   ],
   "source": [
    "df['lgID'].value_counts()"
   ]
  },
  {
   "cell_type": "markdown",
   "metadata": {},
   "source": [
    "Visualizing the NBA Award Statistics"
   ]
  },
  {
   "cell_type": "code",
   "execution_count": 5,
   "metadata": {},
   "outputs": [],
   "source": [
    "NBA = df[df['lgID'] == 'NBA']"
   ]
  },
  {
   "cell_type": "code",
   "execution_count": 6,
   "metadata": {},
   "outputs": [
    {
     "data": {
      "text/html": [
       "<div>\n",
       "<style scoped>\n",
       "    .dataframe tbody tr th:only-of-type {\n",
       "        vertical-align: middle;\n",
       "    }\n",
       "\n",
       "    .dataframe tbody tr th {\n",
       "        vertical-align: top;\n",
       "    }\n",
       "\n",
       "    .dataframe thead th {\n",
       "        text-align: right;\n",
       "    }\n",
       "</style>\n",
       "<table border=\"1\" class=\"dataframe\">\n",
       "  <thead>\n",
       "    <tr style=\"text-align: right;\">\n",
       "      <th></th>\n",
       "      <th>playerID</th>\n",
       "      <th>award</th>\n",
       "      <th>year</th>\n",
       "      <th>lgID</th>\n",
       "      <th>note</th>\n",
       "      <th>pos</th>\n",
       "    </tr>\n",
       "  </thead>\n",
       "  <tbody>\n",
       "    <tr>\n",
       "      <th>0</th>\n",
       "      <td>feeribo01</td>\n",
       "      <td>All-NBA First Team</td>\n",
       "      <td>1946</td>\n",
       "      <td>NBA</td>\n",
       "      <td>NaN</td>\n",
       "      <td>NaN</td>\n",
       "    </tr>\n",
       "    <tr>\n",
       "      <th>1</th>\n",
       "      <td>fulksjo01</td>\n",
       "      <td>All-NBA First Team</td>\n",
       "      <td>1946</td>\n",
       "      <td>NBA</td>\n",
       "      <td>NaN</td>\n",
       "      <td>NaN</td>\n",
       "    </tr>\n",
       "    <tr>\n",
       "      <th>2</th>\n",
       "      <td>mckinho01</td>\n",
       "      <td>All-NBA First Team</td>\n",
       "      <td>1946</td>\n",
       "      <td>NBA</td>\n",
       "      <td>NaN</td>\n",
       "      <td>NaN</td>\n",
       "    </tr>\n",
       "    <tr>\n",
       "      <th>3</th>\n",
       "      <td>miasest01</td>\n",
       "      <td>All-NBA First Team</td>\n",
       "      <td>1946</td>\n",
       "      <td>NBA</td>\n",
       "      <td>NaN</td>\n",
       "      <td>NaN</td>\n",
       "    </tr>\n",
       "    <tr>\n",
       "      <th>4</th>\n",
       "      <td>zasloma01</td>\n",
       "      <td>All-NBA First Team</td>\n",
       "      <td>1946</td>\n",
       "      <td>NBA</td>\n",
       "      <td>NaN</td>\n",
       "      <td>NaN</td>\n",
       "    </tr>\n",
       "    <tr>\n",
       "      <th>...</th>\n",
       "      <td>...</td>\n",
       "      <td>...</td>\n",
       "      <td>...</td>\n",
       "      <td>...</td>\n",
       "      <td>...</td>\n",
       "      <td>...</td>\n",
       "    </tr>\n",
       "    <tr>\n",
       "      <th>1689</th>\n",
       "      <td>thompkl01</td>\n",
       "      <td>All-Rookie First Team</td>\n",
       "      <td>2011</td>\n",
       "      <td>NBA</td>\n",
       "      <td>NaN</td>\n",
       "      <td>F/G</td>\n",
       "    </tr>\n",
       "    <tr>\n",
       "      <th>1690</th>\n",
       "      <td>thomptr02</td>\n",
       "      <td>All-Rookie Second Team</td>\n",
       "      <td>2011</td>\n",
       "      <td>NBA</td>\n",
       "      <td>NaN</td>\n",
       "      <td>F/C</td>\n",
       "    </tr>\n",
       "    <tr>\n",
       "      <th>1691</th>\n",
       "      <td>wadedw01</td>\n",
       "      <td>All-NBA Third Team</td>\n",
       "      <td>2011</td>\n",
       "      <td>NBA</td>\n",
       "      <td>NaN</td>\n",
       "      <td>G</td>\n",
       "    </tr>\n",
       "    <tr>\n",
       "      <th>1692</th>\n",
       "      <td>westbru01</td>\n",
       "      <td>All-NBA Second Team</td>\n",
       "      <td>2011</td>\n",
       "      <td>NBA</td>\n",
       "      <td>NaN</td>\n",
       "      <td>G</td>\n",
       "    </tr>\n",
       "    <tr>\n",
       "      <th>1693</th>\n",
       "      <td>willide02</td>\n",
       "      <td>All-Rookie Second Team</td>\n",
       "      <td>2011</td>\n",
       "      <td>NBA</td>\n",
       "      <td>NaN</td>\n",
       "      <td>F</td>\n",
       "    </tr>\n",
       "  </tbody>\n",
       "</table>\n",
       "<p>1552 rows × 6 columns</p>\n",
       "</div>"
      ],
      "text/plain": [
       "       playerID                   award  year lgID note  pos\n",
       "0     feeribo01      All-NBA First Team  1946  NBA  NaN  NaN\n",
       "1     fulksjo01      All-NBA First Team  1946  NBA  NaN  NaN\n",
       "2     mckinho01      All-NBA First Team  1946  NBA  NaN  NaN\n",
       "3     miasest01      All-NBA First Team  1946  NBA  NaN  NaN\n",
       "4     zasloma01      All-NBA First Team  1946  NBA  NaN  NaN\n",
       "...         ...                     ...   ...  ...  ...  ...\n",
       "1689  thompkl01   All-Rookie First Team  2011  NBA  NaN  F/G\n",
       "1690  thomptr02  All-Rookie Second Team  2011  NBA  NaN  F/C\n",
       "1691   wadedw01      All-NBA Third Team  2011  NBA  NaN    G\n",
       "1692  westbru01     All-NBA Second Team  2011  NBA  NaN    G\n",
       "1693  willide02  All-Rookie Second Team  2011  NBA  NaN    F\n",
       "\n",
       "[1552 rows x 6 columns]"
      ]
     },
     "execution_count": 6,
     "metadata": {},
     "output_type": "execute_result"
    }
   ],
   "source": [
    "NBA"
   ]
  },
  {
   "cell_type": "markdown",
   "metadata": {},
   "source": [
    "Listing all the individual players who got the awards"
   ]
  },
  {
   "cell_type": "code",
   "execution_count": 7,
   "metadata": {},
   "outputs": [],
   "source": [
    "playerids = df['playerID'].unique()"
   ]
  },
  {
   "cell_type": "code",
   "execution_count": 8,
   "metadata": {},
   "outputs": [
    {
     "name": "stdout",
     "output_type": "stream",
     "text": [
      "feeribo01\n",
      "fulksjo01\n",
      "mckinho01\n",
      "miasest01\n",
      "zasloma01\n",
      "baumhfr01\n",
      "calveer01\n",
      "halbech01\n",
      "loganjo01\n",
      "scolafr01\n",
      "dallmho01\n",
      "sadowed01\n",
      "braunca01\n",
      "jeannbu01\n",
      "daviebo01\n",
      "mikange01\n",
      "pollaji01\n",
      "risenar01\n",
      "sailoke01\n",
      "grozaal01\n",
      "beardra01\n",
      "brianfr01\n",
      "cervial01\n",
      "schaufr01\n",
      "schaydo01\n",
      "macaued01\n",
      "mcguidi01\n",
      "mikkeve01\n",
      "arizipa01\n",
      "cousybo01\n",
      "foustla01\n",
      "phillan01\n",
      "wanzebo01\n",
      "johnsne01\n",
      "sharmbi01\n",
      "meinedo01\n",
      "gallaha01\n",
      "seymopa01\n",
      "felixra01\n",
      "pettibo01\n",
      "martisl01\n",
      "georgja01\n",
      "lovelcl01\n",
      "stokema01\n",
      "garmadi01\n",
      "yardlge01\n",
      "heinsto01\n",
      "golato01\n",
      "hagancl01\n",
      "russebi01\n",
      "sauldwo01\n",
      "bayloel01\n",
      "gueriri01\n",
      "chambwi01\n",
      "shuege01\n",
      "twymaja01\n",
      "roberos01\n",
      "costela01\n",
      "westje01\n",
      "bellawa01\n",
      "greerha01\n",
      "howelba01\n",
      "dischte01\n",
      "havlijo01\n",
      "lucasje01\n",
      "johnsgu01\n",
      "jonessa01\n",
      "reedwi01\n",
      "barryri01\n",
      "bingda01\n",
      "danieme01\n",
      "hawkico01\n",
      "jonesla01\n",
      "moedo01\n",
      "willich01\n",
      "beasljo01\n",
      "brownla01\n",
      "brownro01\n",
      "dampilo01\n",
      "powelci01\n",
      "monroea01\n",
      "jonesji01\n",
      "freemdo01\n",
      "robbire01\n",
      "debusda01\n",
      "fraziwa01\n",
      "sloanje01\n",
      "thurmna01\n",
      "bridgbi01\n",
      "larusru01\n",
      "sandeto01\n",
      "cunnibi01\n",
      "unselwe01\n",
      "jabalwa01\n",
      "haywosp01\n",
      "vergabo01\n",
      "netolbo01\n",
      "abdulka01\n",
      "caldwjo01\n",
      "hudsolo01\n",
      "calvima01\n",
      "scottch01\n",
      "beatyze01\n",
      "briskjo01\n",
      "cannola01\n",
      "isselda01\n",
      "silaspa01\n",
      "vanlino01\n",
      "lovebo01\n",
      "cowenda01\n",
      "petrige01\n",
      "gilmoar01\n",
      "melchbi01\n",
      "ervinju01\n",
      "simpsra01\n",
      "wisewi01\n",
      "chanedo01\n",
      "archina01\n",
      "clarkar01\n",
      "lewisfr02\n",
      "wickssi01\n",
      "mcginge01\n",
      "riordmi01\n",
      "galemi01\n",
      "keyeju01\n",
      "taylofa01\n",
      "hayesel01\n",
      "maravpe01\n",
      "mcadobo01\n",
      "taylobr01\n",
      "boonero01\n",
      "natersw01\n",
      "priceji01\n",
      "vanardi01\n",
      "mcclate01\n",
      "goodrga01\n",
      "digreer01\n",
      "barnema01\n",
      "gervige01\n",
      "silasja01\n",
      "busedo01\n",
      "jonesbo01\n",
      "joneswi02\n",
      "cheniph01\n",
      "whitejo01\n",
      "wilkeja01\n",
      "knighbi01\n",
      "thompda01\n",
      "wattssl01\n",
      "breweji01\n",
      "cleamji01\n",
      "smithph01\n",
      "smithra01\n",
      "adamsal01\n",
      "colemec01\n",
      "waltobi01\n",
      "westppa01\n",
      "dantlad01\n",
      "hollili01\n",
      "lucasma01\n",
      "bucknqu01\n",
      "grossbo01\n",
      "robintr01\n",
      "daviswa03\n",
      "dandrbo01\n",
      "johnsde01\n",
      "carrml01\n",
      "johnsed02\n",
      "malonmo01\n",
      "johnsma01\n",
      "fordph01\n",
      "freewo01\n",
      "richami01\n",
      "roundda01\n",
      "washike01\n",
      "wedmasc01\n",
      "birdla01\n",
      "willigu01\n",
      "johnsma02\n",
      "jonesca01\n",
      "bradldu01\n",
      "coopemi01\n",
      "johnsge02\n",
      "birdsot01\n",
      "kingbe01\n",
      "maxwece01\n",
      "griffda01\n",
      "moncrsi01\n",
      "sheltlo01\n",
      "sikmaja01\n",
      "englial01\n",
      "parisro01\n",
      "willibu01\n",
      "cheekma01\n",
      "dunntr01\n",
      "mchalke01\n",
      "rollitr01\n",
      "thomais01\n",
      "cummite01\n",
      "paxsoji02\n",
      "sampsra01\n",
      "eatonma01\n",
      "presspa01\n",
      "olajuha01\n",
      "vraneda01\n",
      "jordami01\n",
      "bolma01\n",
      "hanzlbi01\n",
      "roberal01\n",
      "wilkido01\n",
      "barklch01\n",
      "ewingpa01\n",
      "harpede01\n",
      "mccraro01\n",
      "leverfa01\n",
      "ellisda01\n",
      "persoch01\n",
      "piercri01\n",
      "malonka01\n",
      "drexlcl01\n",
      "stockjo01\n",
      "worthja01\n",
      "duckwke01\n",
      "jacksma01\n",
      "tarplro01\n",
      "dumarjo01\n",
      "nancela01\n",
      "rodmade01\n",
      "greenac01\n",
      "chambto01\n",
      "johnske02\n",
      "mullich01\n",
      "pricema01\n",
      "richmmi01\n",
      "johnsed03\n",
      "mahorri01\n",
      "robinda01\n",
      "seikaro01\n",
      "majerda01\n",
      "pippesc01\n",
      "skilesc01\n",
      "colemde01\n",
      "schrede01\n",
      "willimi02\n",
      "hardati01\n",
      "daughbr01\n",
      "willike02\n",
      "ellispe01\n",
      "johnsla02\n",
      "grantho01\n",
      "starkjo01\n",
      "petrodr01\n",
      "abdulma02\n",
      "onealsh01\n",
      "robincl02\n",
      "blaylmo01\n",
      "oaklech01\n",
      "paytoga01\n",
      "mcmilna01\n",
      "sprewla01\n",
      "kempsh01\n",
      "macledo01\n",
      "webbech01\n",
      "curryde01\n",
      "mckeyde01\n",
      "mutomdi01\n",
      "hardaan01\n",
      "millere01\n",
      "barroda01\n",
      "hillgr01\n",
      "kiddja01\n",
      "masonan01\n",
      "phillbo01\n",
      "howarju01\n",
      "muresgh01\n",
      "stoudda01\n",
      "kukocto01\n",
      "brownpj01\n",
      "ricegl01\n",
      "bakervi01\n",
      "austiis01\n",
      "iversal01\n",
      "duncati01\n",
      "jonesed02\n",
      "stricro02\n",
      "hendeal01\n",
      "mannida01\n",
      "mournal01\n",
      "ratlith01\n",
      "bryanko01\n",
      "garneke01\n",
      "mcdyean01\n",
      "armstda01\n",
      "cartevi01\n",
      "marbust01\n",
      "roseja01\n",
      "brandel01\n",
      "francst01\n",
      "rogerro01\n",
      "bowenbr01\n",
      "chrisdo01\n",
      "mcgratr01\n",
      "allenra02\n",
      "nowitdi01\n",
      "millemi01\n",
      "mckieaa01\n",
      "wallabe01\n",
      "nashst01\n",
      "onealje01\n",
      "piercpa01\n",
      "gasolpa01\n",
      "willico02\n",
      "artesro01\n",
      "snower01\n",
      "mashbja01\n",
      "arenagi01\n",
      "stoudam01\n",
      "jacksbo01\n",
      "kirilan01\n",
      "cassesa01\n",
      "stojape01\n",
      "davisba01\n",
      "mingya01\n",
      "reddmi01\n",
      "billuch01\n",
      "randoza01\n",
      "jamesle01\n",
      "jamisan01\n",
      "hughela01\n",
      "cambyma01\n",
      "princta01\n",
      "wadedw01\n",
      "mariosh01\n",
      "simmobo01\n",
      "okafoem01\n",
      "gordobe01\n",
      "anthoca01\n",
      "diawbo01\n",
      "paulch01\n",
      "bellra01\n",
      "hinriki01\n",
      "boshch01\n",
      "howardw01\n",
      "parketo01\n",
      "ellismo01\n",
      "roybr01\n",
      "barbole01\n",
      "aingeda01\n",
      "battish01\n",
      "boozeca01\n",
      "duranke01\n",
      "ginobem01\n",
      "greenje02\n",
      "horfoal01\n",
      "landrca01\n",
      "moonja01\n",
      "navarju01\n",
      "scolalu01\n",
      "stuckro01\n",
      "thornal01\n",
      "turkohe01\n",
      "willide01\n",
      "youngth01\n",
      "augusdj01\n",
      "beaslmi01\n",
      "chalmma01\n",
      "fernaru01\n",
      "gasolma01\n",
      "gordoer01\n",
      "grangda01\n",
      "lopezbr01\n",
      "loveke01\n",
      "mayooj01\n",
      "rondora01\n",
      "rosede01\n",
      "terryja01\n",
      "westbru01\n",
      "blairde01\n",
      "bogutan01\n",
      "brookaa01\n",
      "collida01\n",
      "crawfja01\n",
      "curryst01\n",
      "dalemsa01\n",
      "evansty01\n",
      "flynnjo01\n",
      "gibsota01\n",
      "hardeja01\n",
      "jennibr01\n",
      "jerebjo01\n",
      "johnsjo02\n",
      "sefolth01\n",
      "smithjo03\n",
      "thornma01\n",
      "varejan01\n",
      "wallage01\n",
      "aldrila01\n",
      "allento01\n",
      "bledser01\n",
      "chandty01\n",
      "couside01\n",
      "favorde01\n",
      "fieldla01\n",
      "georgpa01\n",
      "griffbl01\n",
      "iguodan01\n",
      "johnswe01\n",
      "monrogr01\n",
      "nealga01\n",
      "noahjo01\n",
      "odomla01\n",
      "walljo01\n",
      "anderry01\n",
      "brookma01\n",
      "bynuman01\n",
      "denglu01\n",
      "farieke01\n",
      "ibakase01\n",
      "irvinky01\n",
      "knighbr03\n",
      "leonaka01\n",
      "parsoch01\n",
      "rubiori01\n",
      "shumpim01\n",
      "thomais02\n",
      "thompkl01\n",
      "thomptr02\n",
      "willide02\n",
      "edwarco02\n",
      "stephbe01\n",
      "chuckch01\n",
      "mcderbo01\n",
      "ottendo01\n",
      "kesslbo01\n",
      "youngje01\n",
      "glamage01\n",
      "buehlke01\n",
      "riebeme01\n",
      "holzmre01\n",
      "lewisfr01\n",
      "todormi01\n",
      "\n"
     ]
    }
   ],
   "source": [
    "playerid = ''\n",
    "for player in playerids:\n",
    "    playerid += player + '\\n'\n",
    "\n",
    "print(playerid)\n",
    "    "
   ]
  },
  {
   "cell_type": "markdown",
   "metadata": {},
   "source": [
    "Total number of unique awards"
   ]
  },
  {
   "cell_type": "code",
   "execution_count": 9,
   "metadata": {},
   "outputs": [
    {
     "data": {
      "text/plain": [
       "21"
      ]
     },
     "execution_count": 9,
     "metadata": {},
     "output_type": "execute_result"
    }
   ],
   "source": [
    "len(df['award'].unique())"
   ]
  },
  {
   "cell_type": "markdown",
   "metadata": {},
   "source": [
    "Total unique positions"
   ]
  },
  {
   "cell_type": "code",
   "execution_count": 10,
   "metadata": {},
   "outputs": [
    {
     "data": {
      "text/plain": [
       "array(['F', 'G', 'C', 'F/G', 'F/C'], dtype=object)"
      ]
     },
     "execution_count": 10,
     "metadata": {},
     "output_type": "execute_result"
    }
   ],
   "source": [
    "pos = df['pos'].dropna().unique()\n",
    "pos"
   ]
  },
  {
   "cell_type": "markdown",
   "metadata": {},
   "source": [
    "Creating a dataframe for every unique positions to visualize the statistics of every position"
   ]
  },
  {
   "cell_type": "code",
   "execution_count": 11,
   "metadata": {},
   "outputs": [],
   "source": [
    "F = df[df['pos'] == 'F']\n",
    "G = df[df['pos'] == 'G']\n",
    "C = df[df['pos'] == 'C']\n",
    "FG = df[df['pos'] == 'F/G']\n",
    "FC = df[df['pos'] == 'F/C']\n"
   ]
  },
  {
   "cell_type": "markdown",
   "metadata": {},
   "source": [
    "Visualizing the position `F` dataframe"
   ]
  },
  {
   "cell_type": "code",
   "execution_count": 12,
   "metadata": {},
   "outputs": [
    {
     "data": {
      "text/html": [
       "<div>\n",
       "<style scoped>\n",
       "    .dataframe tbody tr th:only-of-type {\n",
       "        vertical-align: middle;\n",
       "    }\n",
       "\n",
       "    .dataframe tbody tr th {\n",
       "        vertical-align: top;\n",
       "    }\n",
       "\n",
       "    .dataframe thead th {\n",
       "        text-align: right;\n",
       "    }\n",
       "</style>\n",
       "<table border=\"1\" class=\"dataframe\">\n",
       "  <thead>\n",
       "    <tr style=\"text-align: right;\">\n",
       "      <th></th>\n",
       "      <th>playerID</th>\n",
       "      <th>award</th>\n",
       "      <th>year</th>\n",
       "      <th>lgID</th>\n",
       "      <th>note</th>\n",
       "      <th>pos</th>\n",
       "    </tr>\n",
       "  </thead>\n",
       "  <tbody>\n",
       "    <tr>\n",
       "      <th>94</th>\n",
       "      <td>arizipa01</td>\n",
       "      <td>All-NBA First Team</td>\n",
       "      <td>1955</td>\n",
       "      <td>NBA</td>\n",
       "      <td>NaN</td>\n",
       "      <td>F</td>\n",
       "    </tr>\n",
       "    <tr>\n",
       "      <th>97</th>\n",
       "      <td>pettibo01</td>\n",
       "      <td>All-NBA First Team</td>\n",
       "      <td>1955</td>\n",
       "      <td>NBA</td>\n",
       "      <td>NaN</td>\n",
       "      <td>F</td>\n",
       "    </tr>\n",
       "    <tr>\n",
       "      <th>102</th>\n",
       "      <td>schaydo01</td>\n",
       "      <td>All-NBA Second Team</td>\n",
       "      <td>1955</td>\n",
       "      <td>NBA</td>\n",
       "      <td>NaN</td>\n",
       "      <td>F</td>\n",
       "    </tr>\n",
       "    <tr>\n",
       "      <th>103</th>\n",
       "      <td>stokema01</td>\n",
       "      <td>All-NBA Second Team</td>\n",
       "      <td>1955</td>\n",
       "      <td>NBA</td>\n",
       "      <td>NaN</td>\n",
       "      <td>F</td>\n",
       "    </tr>\n",
       "    <tr>\n",
       "      <th>106</th>\n",
       "      <td>arizipa01</td>\n",
       "      <td>All-NBA First Team</td>\n",
       "      <td>1956</td>\n",
       "      <td>NBA</td>\n",
       "      <td>NaN</td>\n",
       "      <td>F</td>\n",
       "    </tr>\n",
       "    <tr>\n",
       "      <th>...</th>\n",
       "      <td>...</td>\n",
       "      <td>...</td>\n",
       "      <td>...</td>\n",
       "      <td>...</td>\n",
       "      <td>...</td>\n",
       "      <td>...</td>\n",
       "    </tr>\n",
       "    <tr>\n",
       "      <th>1677</th>\n",
       "      <td>leonaka01</td>\n",
       "      <td>All-Rookie First Team</td>\n",
       "      <td>2011</td>\n",
       "      <td>NBA</td>\n",
       "      <td>tie</td>\n",
       "      <td>F</td>\n",
       "    </tr>\n",
       "    <tr>\n",
       "      <th>1678</th>\n",
       "      <td>loveke01</td>\n",
       "      <td>All-NBA Second Team</td>\n",
       "      <td>2011</td>\n",
       "      <td>NBA</td>\n",
       "      <td>NaN</td>\n",
       "      <td>F</td>\n",
       "    </tr>\n",
       "    <tr>\n",
       "      <th>1679</th>\n",
       "      <td>nowitdi01</td>\n",
       "      <td>All-NBA Third Team</td>\n",
       "      <td>2011</td>\n",
       "      <td>NBA</td>\n",
       "      <td>NaN</td>\n",
       "      <td>F</td>\n",
       "    </tr>\n",
       "    <tr>\n",
       "      <th>1681</th>\n",
       "      <td>parsoch01</td>\n",
       "      <td>All-Rookie Second Team</td>\n",
       "      <td>2011</td>\n",
       "      <td>NBA</td>\n",
       "      <td>NaN</td>\n",
       "      <td>F</td>\n",
       "    </tr>\n",
       "    <tr>\n",
       "      <th>1693</th>\n",
       "      <td>willide02</td>\n",
       "      <td>All-Rookie Second Team</td>\n",
       "      <td>2011</td>\n",
       "      <td>NBA</td>\n",
       "      <td>NaN</td>\n",
       "      <td>F</td>\n",
       "    </tr>\n",
       "  </tbody>\n",
       "</table>\n",
       "<p>330 rows × 6 columns</p>\n",
       "</div>"
      ],
      "text/plain": [
       "       playerID                   award  year lgID note pos\n",
       "94    arizipa01      All-NBA First Team  1955  NBA  NaN   F\n",
       "97    pettibo01      All-NBA First Team  1955  NBA  NaN   F\n",
       "102   schaydo01     All-NBA Second Team  1955  NBA  NaN   F\n",
       "103   stokema01     All-NBA Second Team  1955  NBA  NaN   F\n",
       "106   arizipa01      All-NBA First Team  1956  NBA  NaN   F\n",
       "...         ...                     ...   ...  ...  ...  ..\n",
       "1677  leonaka01   All-Rookie First Team  2011  NBA  tie   F\n",
       "1678   loveke01     All-NBA Second Team  2011  NBA  NaN   F\n",
       "1679  nowitdi01      All-NBA Third Team  2011  NBA  NaN   F\n",
       "1681  parsoch01  All-Rookie Second Team  2011  NBA  NaN   F\n",
       "1693  willide02  All-Rookie Second Team  2011  NBA  NaN   F\n",
       "\n",
       "[330 rows x 6 columns]"
      ]
     },
     "execution_count": 12,
     "metadata": {},
     "output_type": "execute_result"
    }
   ],
   "source": [
    "F"
   ]
  },
  {
   "cell_type": "markdown",
   "metadata": {},
   "source": [
    "Visualizing the scatter plot between the players and which award they got for every position"
   ]
  },
  {
   "cell_type": "code",
   "execution_count": 75,
   "metadata": {},
   "outputs": [
    {
     "data": {
      "text/plain": [
       "<matplotlib.collections.PathCollection at 0x1f97a4d26a0>"
      ]
     },
     "execution_count": 75,
     "metadata": {},
     "output_type": "execute_result"
    },
    {
     "data": {
      "image/png": "[encoded data removed]",
      "text/plain": [
       "<Figure size 432x288 with 1 Axes>"
      ]
     },
     "metadata": {
      "needs_background": "light"
     },
     "output_type": "display_data"
    }
   ],
   "source": [
    "plt.scatter(F['playerID'], F['award'])"
   ]
  },
  {
   "cell_type": "code",
   "execution_count": 76,
   "metadata": {},
   "outputs": [
    {
     "data": {
      "text/plain": [
       "<matplotlib.collections.PathCollection at 0x1f97b096700>"
      ]
     },
     "execution_count": 76,
     "metadata": {},
     "output_type": "execute_result"
    },
    {
     "data": {
      "image/png": "[encoded data removed]",
      "text/plain": [
       "<Figure size 432x288 with 1 Axes>"
      ]
     },
     "metadata": {
      "needs_background": "light"
     },
     "output_type": "display_data"
    }
   ],
   "source": [
    "plt.scatter(C['playerID'], C['award'])"
   ]
  },
  {
   "cell_type": "code",
   "execution_count": 77,
   "metadata": {},
   "outputs": [
    {
     "data": {
      "text/plain": [
       "<matplotlib.collections.PathCollection at 0x1f97b14d790>"
      ]
     },
     "execution_count": 77,
     "metadata": {},
     "output_type": "execute_result"
    },
    {
     "data": {
      "image/png": "[encoded data removed]",
      "text/plain": [
       "<Figure size 432x288 with 1 Axes>"
      ]
     },
     "metadata": {
      "needs_background": "light"
     },
     "output_type": "display_data"
    }
   ],
   "source": [
    "plt.scatter(G['playerID'], G['award'])"
   ]
  },
  {
   "cell_type": "code",
   "execution_count": 78,
   "metadata": {},
   "outputs": [
    {
     "data": {
      "text/plain": [
       "<matplotlib.collections.PathCollection at 0x1f97c29bcd0>"
      ]
     },
     "execution_count": 78,
     "metadata": {},
     "output_type": "execute_result"
    },
    {
     "data": {
      "image/png": "[encoded data removed]",
      "text/plain": [
       "<Figure size 432x288 with 1 Axes>"
      ]
     },
     "metadata": {
      "needs_background": "light"
     },
     "output_type": "display_data"
    }
   ],
   "source": [
    "plt.scatter(FG['playerID'], FG['award'])"
   ]
  },
  {
   "cell_type": "code",
   "execution_count": 79,
   "metadata": {},
   "outputs": [
    {
     "data": {
      "text/plain": [
       "<matplotlib.collections.PathCollection at 0x1f97c2e0100>"
      ]
     },
     "execution_count": 79,
     "metadata": {},
     "output_type": "execute_result"
    },
    {
     "data": {
      "image/png": "[encoded data removed]",
      "text/plain": [
       "<Figure size 432x288 with 1 Axes>"
      ]
     },
     "metadata": {
      "needs_background": "light"
     },
     "output_type": "display_data"
    }
   ],
   "source": [
    "plt.scatter(FC['playerID'], FC['award'])"
   ]
  },
  {
   "cell_type": "code",
   "execution_count": 20,
   "metadata": {},
   "outputs": [
    {
     "data": {
      "text/plain": [
       "<matplotlib.collections.PathCollection at 0x1f979dfa490>"
      ]
     },
     "execution_count": 20,
     "metadata": {},
     "output_type": "execute_result"
    },
    {
     "data": {
      "image/png": "[encoded data removed]",
      "text/plain": [
       "<Figure size 432x288 with 1 Axes>"
      ]
     },
     "metadata": {
      "needs_background": "light"
     },
     "output_type": "display_data"
    }
   ],
   "source": [
    "plt.scatter(F['playerID'], F['award'])\n",
    "plt.scatter(C['playerID'], C['award'])\n",
    "plt.scatter(G['playerID'], G['award'])\n",
    "plt.scatter(FG['playerID'], FG['award'])\n",
    "plt.scatter(FC['playerID'], FC['award'])"
   ]
  },
  {
   "cell_type": "markdown",
   "metadata": {},
   "source": [
    "Visualizing which player got the most award each year"
   ]
  },
  {
   "cell_type": "code",
   "execution_count": 21,
   "metadata": {},
   "outputs": [],
   "source": [
    "MostPlayerAward = df.groupby('year')['playerID'].max()"
   ]
  },
  {
   "cell_type": "code",
   "execution_count": 22,
   "metadata": {},
   "outputs": [
    {
     "data": {
      "text/plain": [
       "<matplotlib.collections.PathCollection at 0x1f97a0f32e0>"
      ]
     },
     "execution_count": 22,
     "metadata": {},
     "output_type": "execute_result"
    },
    {
     "data": {
      "image/png": "[encoded data removed]",
      "text/plain": [
       "<Figure size 432x288 with 1 Axes>"
      ]
     },
     "metadata": {
      "needs_background": "light"
     },
     "output_type": "display_data"
    }
   ],
   "source": [
    "plt.scatter(MostPlayerAward, df['year'].unique())"
   ]
  },
  {
   "cell_type": "markdown",
   "metadata": {},
   "source": [
    "Visualizing which player got the most award each year at each position"
   ]
  },
  {
   "cell_type": "code",
   "execution_count": 23,
   "metadata": {},
   "outputs": [
    {
     "data": {
      "text/plain": [
       "<matplotlib.collections.PathCollection at 0x1f97a1a2970>"
      ]
     },
     "execution_count": 23,
     "metadata": {},
     "output_type": "execute_result"
    },
    {
     "data": {
      "image/png": "[encoded data removed]",
      "text/plain": [
       "<Figure size 432x288 with 1 Axes>"
      ]
     },
     "metadata": {
      "needs_background": "light"
     },
     "output_type": "display_data"
    }
   ],
   "source": [
    "MostPlayerAwardAtF = F.groupby('year')['playerID'].max()\n",
    "plt.scatter(MostPlayerAwardAtF, F['year'].unique())"
   ]
  },
  {
   "cell_type": "code",
   "execution_count": 24,
   "metadata": {},
   "outputs": [
    {
     "data": {
      "text/plain": [
       "<matplotlib.collections.PathCollection at 0x1f97a242fa0>"
      ]
     },
     "execution_count": 24,
     "metadata": {},
     "output_type": "execute_result"
    },
    {
     "data": {
      "image/png": "[encoded data removed]",
      "text/plain": [
       "<Figure size 432x288 with 1 Axes>"
      ]
     },
     "metadata": {
      "needs_background": "light"
     },
     "output_type": "display_data"
    }
   ],
   "source": [
    "MostPlayerAwardAtC = C.groupby('year')['playerID'].max()\n",
    "plt.scatter(MostPlayerAwardAtC, C['year'].unique())"
   ]
  },
  {
   "cell_type": "code",
   "execution_count": 25,
   "metadata": {},
   "outputs": [
    {
     "data": {
      "text/plain": [
       "<matplotlib.collections.PathCollection at 0x1f97a2c58e0>"
      ]
     },
     "execution_count": 25,
     "metadata": {},
     "output_type": "execute_result"
    },
    {
     "data": {
      "image/png": "[encoded data removed]",
      "text/plain": [
       "<Figure size 432x288 with 1 Axes>"
      ]
     },
     "metadata": {
      "needs_background": "light"
     },
     "output_type": "display_data"
    }
   ],
   "source": [
    "MostPlayerAwardAtG = G.groupby('year')['playerID'].max()\n",
    "plt.scatter(MostPlayerAwardAtG, G['year'].unique())"
   ]
  },
  {
   "cell_type": "code",
   "execution_count": 26,
   "metadata": {},
   "outputs": [
    {
     "data": {
      "text/plain": [
       "<matplotlib.collections.PathCollection at 0x1f97a34b7f0>"
      ]
     },
     "execution_count": 26,
     "metadata": {},
     "output_type": "execute_result"
    },
    {
     "data": {
      "image/png": "[encoded data removed]",
      "text/plain": [
       "<Figure size 432x288 with 1 Axes>"
      ]
     },
     "metadata": {
      "needs_background": "light"
     },
     "output_type": "display_data"
    }
   ],
   "source": [
    "MostPlayerAwardAtFG = FG.groupby('year')['playerID'].max()\n",
    "plt.scatter(MostPlayerAwardAtFG, FG['year'].unique())"
   ]
  },
  {
   "cell_type": "code",
   "execution_count": 27,
   "metadata": {},
   "outputs": [
    {
     "data": {
      "text/plain": [
       "<matplotlib.collections.PathCollection at 0x1f97a397ca0>"
      ]
     },
     "execution_count": 27,
     "metadata": {},
     "output_type": "execute_result"
    },
    {
     "data": {
      "image/png": "[encoded data removed]",
      "text/plain": [
       "<Figure size 432x288 with 1 Axes>"
      ]
     },
     "metadata": {
      "needs_background": "light"
     },
     "output_type": "display_data"
    }
   ],
   "source": [
    "MostPlayerAwardAtFC = FC.groupby('year')['playerID'].max()\n",
    "plt.scatter(MostPlayerAwardAtFC, FC['year'].unique())"
   ]
  },
  {
   "cell_type": "markdown",
   "metadata": {},
   "source": [
    "Listing all the year when player did not got an award for every year"
   ]
  },
  {
   "cell_type": "code",
   "execution_count": 69,
   "metadata": {},
   "outputs": [
    {
     "name": "stdout",
     "output_type": "stream",
     "text": [
      "[1937, 1938, 1939, 1940, 1941, 1942, 1943, 1944, 1945, 1946, 1947, 1948, 1949, 1950, 1951, 1952, 1953, 1954]\n"
     ]
    }
   ],
   "source": [
    "NoAwardYearAtF = np.setdiff1d(df['year'].unique(), F['year'].unique())\n",
    "print([i for i in NoAwardYearAtF])"
   ]
  },
  {
   "cell_type": "code",
   "execution_count": 70,
   "metadata": {},
   "outputs": [
    {
     "name": "stdout",
     "output_type": "stream",
     "text": [
      "[1937, 1938, 1939, 1940, 1941, 1942, 1943, 1944, 1945, 1946, 1947, 1948, 1949, 1950, 1951, 1952, 1953, 1954]\n"
     ]
    }
   ],
   "source": [
    "NoAwardYearAtC = np.setdiff1d(df['year'].unique(), C['year'].unique())\n",
    "print([i for i in NoAwardYearAtC])"
   ]
  },
  {
   "cell_type": "code",
   "execution_count": 71,
   "metadata": {},
   "outputs": [
    {
     "name": "stdout",
     "output_type": "stream",
     "text": [
      "[1937, 1938, 1939, 1940, 1941, 1942, 1943, 1944, 1945, 1946, 1947, 1948, 1949, 1950, 1951, 1952, 1953, 1954]\n"
     ]
    }
   ],
   "source": [
    "NoAwardYearAtG = np.setdiff1d(df['year'].unique(), G['year'].unique())\n",
    "print([i for i in NoAwardYearAtG])"
   ]
  },
  {
   "cell_type": "code",
   "execution_count": 72,
   "metadata": {},
   "outputs": [
    {
     "name": "stdout",
     "output_type": "stream",
     "text": [
      "[1937, 1938, 1939, 1940, 1941, 1942, 1943, 1944, 1945, 1946, 1947, 1948, 1949, 1950, 1951, 1952, 1953, 1954, 1955, 1956, 1957, 1958, 1959, 1960, 1961, 1962, 1963, 1964, 1965, 1966, 1967, 1968, 1969, 1970, 1971, 1972, 1973, 1974, 1975, 1976, 1977, 1978, 1979, 1980, 1981, 1982, 1983, 1984, 1985, 1986, 1987, 1988, 1989, 1990, 1991, 1992, 1993, 1994, 1995, 1996, 1997, 1998, 1999, 2000, 2001, 2002, 2003, 2004, 2005, 2006, 2007, 2008, 2009]\n"
     ]
    }
   ],
   "source": [
    "NoAwardYearAtFG = np.setdiff1d(df['year'].unique(), FG['year'].unique())\n",
    "print([i for i in NoAwardYearAtFG])"
   ]
  },
  {
   "cell_type": "code",
   "execution_count": 73,
   "metadata": {},
   "outputs": [
    {
     "name": "stdout",
     "output_type": "stream",
     "text": [
      "[1937, 1938, 1939, 1940, 1941, 1942, 1943, 1944, 1945, 1946, 1947, 1948, 1949, 1950, 1951, 1952, 1953, 1954, 1955, 1956, 1957, 1958, 1959, 1960, 1961, 1962, 1963, 1964, 1965, 1966, 1967, 1968, 1969, 1970, 1971, 1972, 1973, 1974, 1975, 1976, 1977, 1978, 1979, 1980, 1981, 1982, 1983, 1984, 1985, 1986, 1987, 1988, 1989, 1990, 1991, 1992, 1993, 1994, 1995, 1996, 1997, 1998, 1999, 2000, 2001, 2002, 2003, 2004, 2005, 2006, 2007, 2008, 2009]\n"
     ]
    }
   ],
   "source": [
    "NoAwardYearAtFC = np.setdiff1d(df['year'].unique(), FC['year'].unique())\n",
    "print([i for i in NoAwardYearAtFC])"
   ]
  }
 ],
 "metadata": {
  "interpreter": {
   "hash": "c27442db34bf3344f5aacbe11f91b2c06c0c6557f70bd4c82a8495e6426442a0"
  },
  "kernelspec": {
   "display_name": "Python 3.9.7 64-bit ('base': conda)",
   "language": "python",
   "name": "python3"
  },
  "language_info": {
   "codemirror_mode": {
    "name": "ipython",
    "version": 3
   },
   "file_extension": ".py",
   "mimetype": "text/x-python",
   "name": "python",
   "nbconvert_exporter": "python",
   "pygments_lexer": "ipython3",
   "version": "3.9.7"
  },
  "orig_nbformat": 4
 },
 "nbformat": 4,
 "nbformat_minor": 2
}
