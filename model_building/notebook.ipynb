{
 "cells": [
  {
   "cell_type": "markdown",
   "id": "c09bc37b",
   "metadata": {},
   "source": [
    "# Men's Basketball"
   ]
  },
  {
   "cell_type": "markdown",
   "id": "e02b07ce",
   "metadata": {},
   "source": [
    "<img src='mens_basketball.jpg'/>"
   ]
  },
  {
   "cell_type": "markdown",
   "id": "0b5d49a8",
   "metadata": {},
   "source": [
    "# 1. Import Libraries"
   ]
  },
  {
   "cell_type": "code",
   "execution_count": 1,
   "id": "e040a025",
   "metadata": {},
   "outputs": [],
   "source": [
    "import pandas as pd\n",
    "import numpy as np\n",
    "import matplotlib.pyplot as plt\n",
    "import seaborn as sns\n",
    "%matplotlib inline\n",
    "import warnings\n",
    "warnings.filterwarnings('ignore')\n",
    "pd.set_option('display.max_columns',80)"
   ]
  },
  {
   "cell_type": "markdown",
   "id": "0c764281",
   "metadata": {},
   "source": [
    "# 2. Inspect Data"
   ]
  },
  {
   "cell_type": "code",
   "execution_count": 2,
   "id": "1a8949c1",
   "metadata": {},
   "outputs": [],
   "source": [
    "master = pd.read_csv('data/basketball_master.csv')\n",
    "teams = pd.read_csv('data/basketball_teams.csv')\n",
    "coaches = pd.read_csv('data/basketball_coaches.csv')\n",
    "series_post = pd.read_csv('data/basketball_series_post.csv')\n",
    "abbrev = pd.read_csv('data/basketball_abbrev.csv')\n",
    "awards_coaches = pd.read_csv('data/basketball_awards_coaches.csv')\n",
    "awards_players = pd.read_csv('data/basketball_awards_players.csv')\n",
    "draft = pd.read_csv('data/basketball_draft.csv')\n",
    "hof = pd.read_csv('data/basketball_hof.csv')\n",
    "player_allstar = pd.read_csv('data/basketball_player_allstar.csv')"
   ]
  },
  {
   "cell_type": "markdown",
   "id": "2e5baf07",
   "metadata": {},
   "source": [
    "## Data Description"
   ]
  },
  {
   "cell_type": "markdown",
   "id": "130e7b5f",
   "metadata": {},
   "source": [
    "- **master**: biographical information for all the players and coaches\n",
    "- **teams**: stats on each team, per year\n",
    "- **coaches**: stats for each coach, per year\n",
    "- **series_post**: information on post-season winners, per year\n",
    "- **abbrev**: a key to the abbreviations used in other tables\n",
    "- **awards_coaches**: coaching awards, per year\n",
    "- **awards_players**: player awards, per year\n",
    "- **draft**: draft information, per year\n",
    "- **hof**: Hall of Fame information, per year\n",
    "- **player_allstar**: individual player stats for the All-Star Game, per year"
   ]
  },
  {
   "cell_type": "code",
   "execution_count": 3,
   "id": "64a369ad",
   "metadata": {
    "scrolled": true
   },
   "outputs": [
    {
     "data": {
      "text/html": [
       "<div>\n",
       "<style scoped>\n",
       "    .dataframe tbody tr th:only-of-type {\n",
       "        vertical-align: middle;\n",
       "    }\n",
       "\n",
       "    .dataframe tbody tr th {\n",
       "        vertical-align: top;\n",
       "    }\n",
       "\n",
       "    .dataframe thead th {\n",
       "        text-align: right;\n",
       "    }\n",
       "</style>\n",
       "<table border=\"1\" class=\"dataframe\">\n",
       "  <thead>\n",
       "    <tr style=\"text-align: right;\">\n",
       "      <th></th>\n",
       "      <th>year</th>\n",
       "      <th>lgID</th>\n",
       "      <th>tmID</th>\n",
       "      <th>franchID</th>\n",
       "      <th>confID</th>\n",
       "      <th>divID</th>\n",
       "      <th>rank</th>\n",
       "      <th>confRank</th>\n",
       "      <th>playoff</th>\n",
       "      <th>name</th>\n",
       "      <th>o_fgm</th>\n",
       "      <th>o_fga</th>\n",
       "      <th>o_ftm</th>\n",
       "      <th>o_fta</th>\n",
       "      <th>o_3pm</th>\n",
       "      <th>o_3pa</th>\n",
       "      <th>o_oreb</th>\n",
       "      <th>o_dreb</th>\n",
       "      <th>o_reb</th>\n",
       "      <th>o_asts</th>\n",
       "      <th>o_pf</th>\n",
       "      <th>o_stl</th>\n",
       "      <th>o_to</th>\n",
       "      <th>o_blk</th>\n",
       "      <th>o_pts</th>\n",
       "      <th>d_fgm</th>\n",
       "      <th>d_fga</th>\n",
       "      <th>d_ftm</th>\n",
       "      <th>d_fta</th>\n",
       "      <th>d_3pm</th>\n",
       "      <th>d_3pa</th>\n",
       "      <th>d_oreb</th>\n",
       "      <th>d_dreb</th>\n",
       "      <th>d_reb</th>\n",
       "      <th>d_asts</th>\n",
       "      <th>d_pf</th>\n",
       "      <th>d_stl</th>\n",
       "      <th>d_to</th>\n",
       "      <th>d_blk</th>\n",
       "      <th>d_pts</th>\n",
       "      <th>o_tmRebound</th>\n",
       "      <th>d_tmRebound</th>\n",
       "      <th>homeWon</th>\n",
       "      <th>homeLost</th>\n",
       "      <th>awayWon</th>\n",
       "      <th>awayLost</th>\n",
       "      <th>neutWon</th>\n",
       "      <th>neutLoss</th>\n",
       "      <th>confWon</th>\n",
       "      <th>confLoss</th>\n",
       "      <th>divWon</th>\n",
       "      <th>divLoss</th>\n",
       "      <th>pace</th>\n",
       "      <th>won</th>\n",
       "      <th>lost</th>\n",
       "      <th>games</th>\n",
       "      <th>min</th>\n",
       "      <th>arena</th>\n",
       "      <th>attendance</th>\n",
       "      <th>bbtmID</th>\n",
       "    </tr>\n",
       "  </thead>\n",
       "  <tbody>\n",
       "    <tr>\n",
       "      <th>0</th>\n",
       "      <td>1946</td>\n",
       "      <td>NBA</td>\n",
       "      <td>BOS</td>\n",
       "      <td>BOS</td>\n",
       "      <td>NaN</td>\n",
       "      <td>ED</td>\n",
       "      <td>5</td>\n",
       "      <td>0</td>\n",
       "      <td>NaN</td>\n",
       "      <td>Boston Celtics</td>\n",
       "      <td>1397</td>\n",
       "      <td>5133</td>\n",
       "      <td>811</td>\n",
       "      <td>1375</td>\n",
       "      <td>0</td>\n",
       "      <td>0</td>\n",
       "      <td>0</td>\n",
       "      <td>0</td>\n",
       "      <td>0</td>\n",
       "      <td>470</td>\n",
       "      <td>1202</td>\n",
       "      <td>0</td>\n",
       "      <td>0</td>\n",
       "      <td>0</td>\n",
       "      <td>3605</td>\n",
       "      <td>0</td>\n",
       "      <td>0</td>\n",
       "      <td>0</td>\n",
       "      <td>0</td>\n",
       "      <td>0</td>\n",
       "      <td>0</td>\n",
       "      <td>0</td>\n",
       "      <td>0</td>\n",
       "      <td>0</td>\n",
       "      <td>0</td>\n",
       "      <td>0</td>\n",
       "      <td>0</td>\n",
       "      <td>0</td>\n",
       "      <td>0</td>\n",
       "      <td>3898</td>\n",
       "      <td>0</td>\n",
       "      <td>0</td>\n",
       "      <td>14</td>\n",
       "      <td>16</td>\n",
       "      <td>8</td>\n",
       "      <td>22</td>\n",
       "      <td>0</td>\n",
       "      <td>0</td>\n",
       "      <td>0</td>\n",
       "      <td>0</td>\n",
       "      <td>11</td>\n",
       "      <td>19</td>\n",
       "      <td>0</td>\n",
       "      <td>22</td>\n",
       "      <td>38</td>\n",
       "      <td>60</td>\n",
       "      <td>14500.0</td>\n",
       "      <td>Boston Garden</td>\n",
       "      <td>32767</td>\n",
       "      <td>BOS</td>\n",
       "    </tr>\n",
       "    <tr>\n",
       "      <th>1</th>\n",
       "      <td>1946</td>\n",
       "      <td>NBA</td>\n",
       "      <td>CHS</td>\n",
       "      <td>CHS</td>\n",
       "      <td>NaN</td>\n",
       "      <td>WD</td>\n",
       "      <td>1</td>\n",
       "      <td>0</td>\n",
       "      <td>F</td>\n",
       "      <td>Chicago Stags</td>\n",
       "      <td>1879</td>\n",
       "      <td>6309</td>\n",
       "      <td>939</td>\n",
       "      <td>1550</td>\n",
       "      <td>0</td>\n",
       "      <td>0</td>\n",
       "      <td>0</td>\n",
       "      <td>0</td>\n",
       "      <td>0</td>\n",
       "      <td>436</td>\n",
       "      <td>1473</td>\n",
       "      <td>0</td>\n",
       "      <td>0</td>\n",
       "      <td>0</td>\n",
       "      <td>4697</td>\n",
       "      <td>0</td>\n",
       "      <td>0</td>\n",
       "      <td>0</td>\n",
       "      <td>0</td>\n",
       "      <td>0</td>\n",
       "      <td>0</td>\n",
       "      <td>0</td>\n",
       "      <td>0</td>\n",
       "      <td>0</td>\n",
       "      <td>0</td>\n",
       "      <td>0</td>\n",
       "      <td>0</td>\n",
       "      <td>0</td>\n",
       "      <td>0</td>\n",
       "      <td>4473</td>\n",
       "      <td>0</td>\n",
       "      <td>0</td>\n",
       "      <td>22</td>\n",
       "      <td>9</td>\n",
       "      <td>17</td>\n",
       "      <td>13</td>\n",
       "      <td>0</td>\n",
       "      <td>0</td>\n",
       "      <td>0</td>\n",
       "      <td>0</td>\n",
       "      <td>17</td>\n",
       "      <td>8</td>\n",
       "      <td>0</td>\n",
       "      <td>39</td>\n",
       "      <td>22</td>\n",
       "      <td>61</td>\n",
       "      <td>14840.0</td>\n",
       "      <td>Chicago Stadium</td>\n",
       "      <td>0</td>\n",
       "      <td>CHS</td>\n",
       "    </tr>\n",
       "    <tr>\n",
       "      <th>2</th>\n",
       "      <td>1946</td>\n",
       "      <td>NBA</td>\n",
       "      <td>CLR</td>\n",
       "      <td>CLR</td>\n",
       "      <td>NaN</td>\n",
       "      <td>WD</td>\n",
       "      <td>3</td>\n",
       "      <td>0</td>\n",
       "      <td>R1</td>\n",
       "      <td>Cleveland Rebels</td>\n",
       "      <td>1674</td>\n",
       "      <td>5699</td>\n",
       "      <td>903</td>\n",
       "      <td>1428</td>\n",
       "      <td>0</td>\n",
       "      <td>0</td>\n",
       "      <td>0</td>\n",
       "      <td>0</td>\n",
       "      <td>0</td>\n",
       "      <td>494</td>\n",
       "      <td>1246</td>\n",
       "      <td>0</td>\n",
       "      <td>0</td>\n",
       "      <td>0</td>\n",
       "      <td>4251</td>\n",
       "      <td>0</td>\n",
       "      <td>0</td>\n",
       "      <td>0</td>\n",
       "      <td>0</td>\n",
       "      <td>0</td>\n",
       "      <td>0</td>\n",
       "      <td>0</td>\n",
       "      <td>0</td>\n",
       "      <td>0</td>\n",
       "      <td>0</td>\n",
       "      <td>0</td>\n",
       "      <td>0</td>\n",
       "      <td>0</td>\n",
       "      <td>0</td>\n",
       "      <td>4308</td>\n",
       "      <td>0</td>\n",
       "      <td>0</td>\n",
       "      <td>17</td>\n",
       "      <td>13</td>\n",
       "      <td>13</td>\n",
       "      <td>17</td>\n",
       "      <td>0</td>\n",
       "      <td>0</td>\n",
       "      <td>0</td>\n",
       "      <td>0</td>\n",
       "      <td>10</td>\n",
       "      <td>14</td>\n",
       "      <td>0</td>\n",
       "      <td>30</td>\n",
       "      <td>30</td>\n",
       "      <td>60</td>\n",
       "      <td>14600.0</td>\n",
       "      <td>Cleveland Arena</td>\n",
       "      <td>0</td>\n",
       "      <td>CLR</td>\n",
       "    </tr>\n",
       "    <tr>\n",
       "      <th>3</th>\n",
       "      <td>1946</td>\n",
       "      <td>NBA</td>\n",
       "      <td>DTF</td>\n",
       "      <td>DTF</td>\n",
       "      <td>NaN</td>\n",
       "      <td>WD</td>\n",
       "      <td>4</td>\n",
       "      <td>0</td>\n",
       "      <td>NaN</td>\n",
       "      <td>Detroit Falcons</td>\n",
       "      <td>1437</td>\n",
       "      <td>5843</td>\n",
       "      <td>923</td>\n",
       "      <td>1494</td>\n",
       "      <td>0</td>\n",
       "      <td>0</td>\n",
       "      <td>0</td>\n",
       "      <td>0</td>\n",
       "      <td>0</td>\n",
       "      <td>482</td>\n",
       "      <td>1351</td>\n",
       "      <td>0</td>\n",
       "      <td>0</td>\n",
       "      <td>0</td>\n",
       "      <td>3797</td>\n",
       "      <td>0</td>\n",
       "      <td>0</td>\n",
       "      <td>0</td>\n",
       "      <td>0</td>\n",
       "      <td>0</td>\n",
       "      <td>0</td>\n",
       "      <td>0</td>\n",
       "      <td>0</td>\n",
       "      <td>0</td>\n",
       "      <td>0</td>\n",
       "      <td>0</td>\n",
       "      <td>0</td>\n",
       "      <td>0</td>\n",
       "      <td>0</td>\n",
       "      <td>3917</td>\n",
       "      <td>0</td>\n",
       "      <td>0</td>\n",
       "      <td>12</td>\n",
       "      <td>18</td>\n",
       "      <td>8</td>\n",
       "      <td>22</td>\n",
       "      <td>0</td>\n",
       "      <td>0</td>\n",
       "      <td>0</td>\n",
       "      <td>0</td>\n",
       "      <td>8</td>\n",
       "      <td>16</td>\n",
       "      <td>0</td>\n",
       "      <td>20</td>\n",
       "      <td>40</td>\n",
       "      <td>60</td>\n",
       "      <td>14600.0</td>\n",
       "      <td>Detroit Olympia</td>\n",
       "      <td>0</td>\n",
       "      <td>DTF</td>\n",
       "    </tr>\n",
       "    <tr>\n",
       "      <th>4</th>\n",
       "      <td>1946</td>\n",
       "      <td>NBA</td>\n",
       "      <td>NYK</td>\n",
       "      <td>NYK</td>\n",
       "      <td>NaN</td>\n",
       "      <td>ED</td>\n",
       "      <td>3</td>\n",
       "      <td>0</td>\n",
       "      <td>SF</td>\n",
       "      <td>New York Knicks</td>\n",
       "      <td>1465</td>\n",
       "      <td>5255</td>\n",
       "      <td>951</td>\n",
       "      <td>1438</td>\n",
       "      <td>0</td>\n",
       "      <td>0</td>\n",
       "      <td>0</td>\n",
       "      <td>0</td>\n",
       "      <td>0</td>\n",
       "      <td>457</td>\n",
       "      <td>1218</td>\n",
       "      <td>0</td>\n",
       "      <td>0</td>\n",
       "      <td>0</td>\n",
       "      <td>3881</td>\n",
       "      <td>0</td>\n",
       "      <td>0</td>\n",
       "      <td>0</td>\n",
       "      <td>0</td>\n",
       "      <td>0</td>\n",
       "      <td>0</td>\n",
       "      <td>0</td>\n",
       "      <td>0</td>\n",
       "      <td>0</td>\n",
       "      <td>0</td>\n",
       "      <td>0</td>\n",
       "      <td>0</td>\n",
       "      <td>0</td>\n",
       "      <td>0</td>\n",
       "      <td>3842</td>\n",
       "      <td>0</td>\n",
       "      <td>0</td>\n",
       "      <td>18</td>\n",
       "      <td>12</td>\n",
       "      <td>15</td>\n",
       "      <td>15</td>\n",
       "      <td>0</td>\n",
       "      <td>0</td>\n",
       "      <td>0</td>\n",
       "      <td>0</td>\n",
       "      <td>13</td>\n",
       "      <td>17</td>\n",
       "      <td>0</td>\n",
       "      <td>33</td>\n",
       "      <td>27</td>\n",
       "      <td>60</td>\n",
       "      <td>14575.0</td>\n",
       "      <td>Madison Square Garden (III)</td>\n",
       "      <td>32767</td>\n",
       "      <td>NYK</td>\n",
       "    </tr>\n",
       "  </tbody>\n",
       "</table>\n",
       "</div>"
      ],
      "text/plain": [
       "   year lgID tmID franchID confID divID  rank  confRank playoff  \\\n",
       "0  1946  NBA  BOS      BOS    NaN    ED     5         0     NaN   \n",
       "1  1946  NBA  CHS      CHS    NaN    WD     1         0       F   \n",
       "2  1946  NBA  CLR      CLR    NaN    WD     3         0      R1   \n",
       "3  1946  NBA  DTF      DTF    NaN    WD     4         0     NaN   \n",
       "4  1946  NBA  NYK      NYK    NaN    ED     3         0      SF   \n",
       "\n",
       "               name  o_fgm  o_fga  o_ftm  o_fta  o_3pm  o_3pa  o_oreb  o_dreb  \\\n",
       "0    Boston Celtics   1397   5133    811   1375      0      0       0       0   \n",
       "1     Chicago Stags   1879   6309    939   1550      0      0       0       0   \n",
       "2  Cleveland Rebels   1674   5699    903   1428      0      0       0       0   \n",
       "3   Detroit Falcons   1437   5843    923   1494      0      0       0       0   \n",
       "4   New York Knicks   1465   5255    951   1438      0      0       0       0   \n",
       "\n",
       "   o_reb  o_asts  o_pf  o_stl  o_to  o_blk  o_pts  d_fgm  d_fga  d_ftm  d_fta  \\\n",
       "0      0     470  1202      0     0      0   3605      0      0      0      0   \n",
       "1      0     436  1473      0     0      0   4697      0      0      0      0   \n",
       "2      0     494  1246      0     0      0   4251      0      0      0      0   \n",
       "3      0     482  1351      0     0      0   3797      0      0      0      0   \n",
       "4      0     457  1218      0     0      0   3881      0      0      0      0   \n",
       "\n",
       "   d_3pm  d_3pa  d_oreb  d_dreb  d_reb  d_asts  d_pf  d_stl  d_to  d_blk  \\\n",
       "0      0      0       0       0      0       0     0      0     0      0   \n",
       "1      0      0       0       0      0       0     0      0     0      0   \n",
       "2      0      0       0       0      0       0     0      0     0      0   \n",
       "3      0      0       0       0      0       0     0      0     0      0   \n",
       "4      0      0       0       0      0       0     0      0     0      0   \n",
       "\n",
       "   d_pts  o_tmRebound  d_tmRebound  homeWon  homeLost  awayWon  awayLost  \\\n",
       "0   3898            0            0       14        16        8        22   \n",
       "1   4473            0            0       22         9       17        13   \n",
       "2   4308            0            0       17        13       13        17   \n",
       "3   3917            0            0       12        18        8        22   \n",
       "4   3842            0            0       18        12       15        15   \n",
       "\n",
       "   neutWon  neutLoss  confWon  confLoss  divWon  divLoss  pace  won  lost  \\\n",
       "0        0         0        0         0      11       19     0   22    38   \n",
       "1        0         0        0         0      17        8     0   39    22   \n",
       "2        0         0        0         0      10       14     0   30    30   \n",
       "3        0         0        0         0       8       16     0   20    40   \n",
       "4        0         0        0         0      13       17     0   33    27   \n",
       "\n",
       "   games      min                        arena  attendance bbtmID  \n",
       "0     60  14500.0                Boston Garden       32767    BOS  \n",
       "1     61  14840.0              Chicago Stadium           0    CHS  \n",
       "2     60  14600.0              Cleveland Arena           0    CLR  \n",
       "3     60  14600.0              Detroit Olympia           0    DTF  \n",
       "4     60  14575.0  Madison Square Garden (III)       32767    NYK  "
      ]
     },
     "execution_count": 3,
     "metadata": {},
     "output_type": "execute_result"
    }
   ],
   "source": [
    "teams.head()"
   ]
  },
  {
   "cell_type": "markdown",
   "id": "4ea7a4c1",
   "metadata": {},
   "source": [
    "- **lgID** - the league in which a team participated in a particular year\n",
    "- **tmID** - a unique identifier for each team in the dataset\n",
    "- **franchID** - the team's current franchise. **Philadelphia Warriors (PHW)**, for example, relocated to San Francisco in 1962 and became San Francisco Warriors until 1971, when its name was changed to **Golden State Warriors (GSW)**    \n",
    "- **confID** - the conference in which a team belongs\n",
    "- **divID** - the division in which a team belongs\n",
    "- **rank** - a team's rank in its division\n",
    "- **confRank** - a team's rank in its conference\n",
    "- **playoff** - indicates how far a team went in the playoffs\n",
    "- **o_fgm** - overall field goals made\n",
    "- **o_fga** - overall field goals attempted\n",
    "- **o_ftm** - overall free throws made\n",
    "- **o_fta** - overall field throws attempted\n",
    "- **o_3pm** - overall 3-pointers made\n",
    "- **o_3pa** - overall 3-pointers attempted\n",
    "- **o_oreb** - overall offensive rebounds\n",
    "- **o_dreb** - overall defensive rebounds\n",
    "- **o_reb** - overall rebounds\n",
    "- **o_asts** - overall assists\n",
    "- **o_pf** - overall personal fouls\n",
    "- **o_stl** - overall steals\n",
    "- **o_to** - overall turnovers\n",
    "- **o_blk** - overall blocks\n",
    "- **o_pts** - overall points\n",
    "- **d_fgm** - field goals made by opponents \n",
    "- **d_fga** - field goals attempted by opponents\n",
    "- **d_ftm** - free throws made by opponents\n",
    "- **d_fta** - field throws attempted by opponents\n",
    "- **d_3pm** - 3-pointers made by opponents\n",
    "- **d_3pa** - 3-pointers attempted by opponents\n",
    "- **d_oreb** - opponents' offensive rebounds \n",
    "- **d_dreb** - opponents' defensive rebounds\n",
    "- **d_reb** - opponents' overall rebounds\n",
    "- **d_asts** - opponents' assists\n",
    "- **d_pf** - opponents' personal fouls\n",
    "- **d_stl** - opponents' steals\n",
    "- **d_to** - opponents' turnovers\n",
    "- **d_blk** - opponents' blocks\n",
    "- **d_pts** - opponents' points\n",
    "- **o_tmRebound** - overall team rebounds\n",
    "- **d_tmRebound** - opponents' team rebounds\n",
    "- **homeWon** - number of home games won\n",
    "- **homeLost** - number of home games lost\n",
    "- **awayWon** - number of away games won\n",
    "- **awayLost** - number of away games lost\n",
    "- **neutWon** - number of wins on neutral grounds\n",
    "- **neutLoss** - number of losses on neutral grounds,\n",
    "- **confWon** - number of conference games won\n",
    "- **confLoss** - number of conference games lost\n",
    "- **divWon** - number of division games won\n",
    "- **divLoss** - number of division games lost\n",
    "- **pace** - number of possessions per 48 minutes \n",
    "- **won** - total games won\n",
    "- **lost** - total games lost\n",
    "- **games** - total games played\n",
    "- **min** - total minutes played\n",
    "- **arena** - team's home ground "
   ]
  },
  {
   "cell_type": "markdown",
   "id": "b476454b",
   "metadata": {},
   "source": [
    "Let's give the columns consistent and descriptive names"
   ]
  },
  {
   "cell_type": "code",
   "execution_count": 4,
   "id": "e346838e",
   "metadata": {},
   "outputs": [],
   "source": [
    "teams.columns = ['year', 'lg_id', 'tm_id', 'franch_id', 'conf_id', 'div_id', 'div_rank',\n",
    "       'conf_rank', 'playoff', 'name', 'fg_made', 'fg_attempts', 'ft_made', 'ft_attempts',\n",
    "       'treys_made', 'treys_attempts', 'off_reb', 'def_reb', 'reb', 'assists', 'fouls',\n",
    "       'steals', 'turnovers', 'blocks', 'points', 'opp_fg_made', 'opp_fg_attempts', \n",
    "       'opp_ft_made', 'opp_ft_attempts','opp_treys_made', 'opp_treys_attempts', 'opp_off_reb',\n",
    "       'opp_def_reb', 'opp_reb', 'opp_assists', 'opp_fouls', 'opp_steals', 'opp_turnovers',\n",
    "       'opp_blocks', 'opp_points', 'tm_reb', 'opp_tm_reb', 'home_wins', 'home_losses', \n",
    "       'away_wins', 'away_losses', 'net_wins', 'net_losses', 'conf_wins', 'conf_losses', \n",
    "       'div_wins', 'div_losses', 'pace', 'tot_wins', 'tot_losses','games_played', 'mins_played',\n",
    "       'home_ground', 'attendance', 'bbtm_id']"
   ]
  },
  {
   "cell_type": "code",
   "execution_count": 5,
   "id": "7db4eee4",
   "metadata": {},
   "outputs": [
    {
     "name": "stdout",
     "output_type": "stream",
     "text": [
      "<class 'pandas.core.frame.DataFrame'>\n",
      "RangeIndex: 1536 entries, 0 to 1535\n",
      "Data columns (total 60 columns):\n",
      " #   Column              Non-Null Count  Dtype  \n",
      "---  ------              --------------  -----  \n",
      " 0   year                1536 non-null   int64  \n",
      " 1   lg_id               1536 non-null   object \n",
      " 2   tm_id               1536 non-null   object \n",
      " 3   franch_id           1536 non-null   object \n",
      " 4   conf_id             1064 non-null   object \n",
      " 5   div_id              1498 non-null   object \n",
      " 6   div_rank            1536 non-null   int64  \n",
      " 7   conf_rank           1536 non-null   int64  \n",
      " 8   playoff             901 non-null    object \n",
      " 9   name                1536 non-null   object \n",
      " 10  fg_made             1536 non-null   int64  \n",
      " 11  fg_attempts         1536 non-null   int64  \n",
      " 12  ft_made             1536 non-null   int64  \n",
      " 13  ft_attempts         1536 non-null   int64  \n",
      " 14  treys_made          1536 non-null   int64  \n",
      " 15  treys_attempts      1536 non-null   int64  \n",
      " 16  off_reb             1536 non-null   int64  \n",
      " 17  def_reb             1536 non-null   int64  \n",
      " 18  reb                 1536 non-null   int64  \n",
      " 19  assists             1536 non-null   int64  \n",
      " 20  fouls               1536 non-null   int64  \n",
      " 21  steals              1536 non-null   int64  \n",
      " 22  turnovers           1536 non-null   int64  \n",
      " 23  blocks              1536 non-null   int64  \n",
      " 24  points              1536 non-null   int64  \n",
      " 25  opp_fg_made         1536 non-null   int64  \n",
      " 26  opp_fg_attempts     1536 non-null   int64  \n",
      " 27  opp_ft_made         1536 non-null   int64  \n",
      " 28  opp_ft_attempts     1536 non-null   int64  \n",
      " 29  opp_treys_made      1536 non-null   int64  \n",
      " 30  opp_treys_attempts  1536 non-null   int64  \n",
      " 31  opp_off_reb         1536 non-null   int64  \n",
      " 32  opp_def_reb         1536 non-null   int64  \n",
      " 33  opp_reb             1536 non-null   int64  \n",
      " 34  opp_assists         1536 non-null   int64  \n",
      " 35  opp_fouls           1536 non-null   int64  \n",
      " 36  opp_steals          1536 non-null   int64  \n",
      " 37  opp_turnovers       1536 non-null   int64  \n",
      " 38  opp_blocks          1536 non-null   int64  \n",
      " 39  opp_points          1536 non-null   int64  \n",
      " 40  tm_reb              1536 non-null   int64  \n",
      " 41  opp_tm_reb          1536 non-null   int64  \n",
      " 42  home_wins           1536 non-null   int64  \n",
      " 43  home_losses         1536 non-null   int64  \n",
      " 44  away_wins           1536 non-null   int64  \n",
      " 45  away_losses         1536 non-null   int64  \n",
      " 46  net_wins            1536 non-null   int64  \n",
      " 47  net_losses          1536 non-null   int64  \n",
      " 48  conf_wins           1536 non-null   int64  \n",
      " 49  conf_losses         1536 non-null   int64  \n",
      " 50  div_wins            1536 non-null   int64  \n",
      " 51  div_losses          1536 non-null   int64  \n",
      " 52  pace                1536 non-null   int64  \n",
      " 53  tot_wins            1536 non-null   int64  \n",
      " 54  tot_losses          1536 non-null   int64  \n",
      " 55  games_played        1536 non-null   int64  \n",
      " 56  mins_played         1322 non-null   float64\n",
      " 57  home_ground         1347 non-null   object \n",
      " 58  attendance          1536 non-null   int64  \n",
      " 59  bbtm_id             1316 non-null   object \n",
      "dtypes: float64(1), int64(50), object(9)\n",
      "memory usage: 720.1+ KB\n"
     ]
    }
   ],
   "source": [
    "teams.info()"
   ]
  },
  {
   "cell_type": "markdown",
   "id": "7fdeb62a",
   "metadata": {},
   "source": [
    "- There are **1536 rows** and **60 columns** in the dataset\n",
    "- Most of the columns are numeric\n",
    "- There are not too many missing values. **playoff** has almost **50 percent** missing values. This is reasonable because only **16 teams** participate in the tournament."
   ]
  },
  {
   "cell_type": "code",
   "execution_count": 6,
   "id": "9f6326f0",
   "metadata": {
    "scrolled": true
   },
   "outputs": [
    {
     "data": {
      "text/html": [
       "<div>\n",
       "<style scoped>\n",
       "    .dataframe tbody tr th:only-of-type {\n",
       "        vertical-align: middle;\n",
       "    }\n",
       "\n",
       "    .dataframe tbody tr th {\n",
       "        vertical-align: top;\n",
       "    }\n",
       "\n",
       "    .dataframe thead th {\n",
       "        text-align: right;\n",
       "    }\n",
       "</style>\n",
       "<table border=\"1\" class=\"dataframe\">\n",
       "  <thead>\n",
       "    <tr style=\"text-align: right;\">\n",
       "      <th></th>\n",
       "      <th>year</th>\n",
       "      <th>div_rank</th>\n",
       "      <th>conf_rank</th>\n",
       "      <th>fg_made</th>\n",
       "      <th>fg_attempts</th>\n",
       "      <th>ft_made</th>\n",
       "      <th>ft_attempts</th>\n",
       "      <th>treys_made</th>\n",
       "      <th>treys_attempts</th>\n",
       "      <th>off_reb</th>\n",
       "      <th>def_reb</th>\n",
       "      <th>reb</th>\n",
       "      <th>assists</th>\n",
       "      <th>fouls</th>\n",
       "      <th>steals</th>\n",
       "      <th>turnovers</th>\n",
       "      <th>blocks</th>\n",
       "      <th>points</th>\n",
       "      <th>opp_fg_made</th>\n",
       "      <th>opp_fg_attempts</th>\n",
       "      <th>opp_ft_made</th>\n",
       "      <th>opp_ft_attempts</th>\n",
       "      <th>opp_treys_made</th>\n",
       "      <th>opp_treys_attempts</th>\n",
       "      <th>opp_off_reb</th>\n",
       "      <th>opp_def_reb</th>\n",
       "      <th>opp_reb</th>\n",
       "      <th>opp_assists</th>\n",
       "      <th>opp_fouls</th>\n",
       "      <th>opp_steals</th>\n",
       "      <th>opp_turnovers</th>\n",
       "      <th>opp_blocks</th>\n",
       "      <th>opp_points</th>\n",
       "      <th>tm_reb</th>\n",
       "      <th>opp_tm_reb</th>\n",
       "      <th>home_wins</th>\n",
       "      <th>home_losses</th>\n",
       "      <th>away_wins</th>\n",
       "      <th>away_losses</th>\n",
       "      <th>net_wins</th>\n",
       "      <th>net_losses</th>\n",
       "      <th>conf_wins</th>\n",
       "      <th>conf_losses</th>\n",
       "      <th>div_wins</th>\n",
       "      <th>div_losses</th>\n",
       "      <th>pace</th>\n",
       "      <th>tot_wins</th>\n",
       "      <th>tot_losses</th>\n",
       "      <th>games_played</th>\n",
       "      <th>mins_played</th>\n",
       "      <th>attendance</th>\n",
       "    </tr>\n",
       "  </thead>\n",
       "  <tbody>\n",
       "    <tr>\n",
       "      <th>count</th>\n",
       "      <td>1536.000000</td>\n",
       "      <td>1536.000000</td>\n",
       "      <td>1536.000000</td>\n",
       "      <td>1536.000000</td>\n",
       "      <td>1536.000000</td>\n",
       "      <td>1536.000000</td>\n",
       "      <td>1536.000000</td>\n",
       "      <td>1536.000000</td>\n",
       "      <td>1536.000000</td>\n",
       "      <td>1536.000000</td>\n",
       "      <td>1536.000000</td>\n",
       "      <td>1536.000000</td>\n",
       "      <td>1536.000000</td>\n",
       "      <td>1536.000000</td>\n",
       "      <td>1536.000000</td>\n",
       "      <td>1536.000000</td>\n",
       "      <td>1536.000000</td>\n",
       "      <td>1536.000000</td>\n",
       "      <td>1536.000000</td>\n",
       "      <td>1536.000000</td>\n",
       "      <td>1536.000000</td>\n",
       "      <td>1536.000000</td>\n",
       "      <td>1536.000000</td>\n",
       "      <td>1536.000000</td>\n",
       "      <td>1536.000000</td>\n",
       "      <td>1536.000000</td>\n",
       "      <td>1536.000000</td>\n",
       "      <td>1536.000000</td>\n",
       "      <td>1536.000000</td>\n",
       "      <td>1536.000000</td>\n",
       "      <td>1536.000000</td>\n",
       "      <td>1536.000000</td>\n",
       "      <td>1536.000000</td>\n",
       "      <td>1536.000000</td>\n",
       "      <td>1536.000000</td>\n",
       "      <td>1536.000000</td>\n",
       "      <td>1536.000000</td>\n",
       "      <td>1536.000000</td>\n",
       "      <td>1536.000000</td>\n",
       "      <td>1536.000000</td>\n",
       "      <td>1536.000000</td>\n",
       "      <td>1536.000000</td>\n",
       "      <td>1536.000000</td>\n",
       "      <td>1536.000000</td>\n",
       "      <td>1536.000000</td>\n",
       "      <td>1536.000000</td>\n",
       "      <td>1536.000000</td>\n",
       "      <td>1536.000000</td>\n",
       "      <td>1536.000000</td>\n",
       "      <td>1322.000000</td>\n",
       "      <td>1536.000000</td>\n",
       "    </tr>\n",
       "    <tr>\n",
       "      <th>mean</th>\n",
       "      <td>1981.472656</td>\n",
       "      <td>3.346354</td>\n",
       "      <td>4.397135</td>\n",
       "      <td>2920.631510</td>\n",
       "      <td>6363.819010</td>\n",
       "      <td>1572.903646</td>\n",
       "      <td>2093.155599</td>\n",
       "      <td>194.324870</td>\n",
       "      <td>563.151042</td>\n",
       "      <td>741.756510</td>\n",
       "      <td>1677.847005</td>\n",
       "      <td>3299.985677</td>\n",
       "      <td>1659.423177</td>\n",
       "      <td>1725.720052</td>\n",
       "      <td>452.635417</td>\n",
       "      <td>960.897786</td>\n",
       "      <td>278.067708</td>\n",
       "      <td>7623.557292</td>\n",
       "      <td>2428.643229</td>\n",
       "      <td>5239.662109</td>\n",
       "      <td>1246.173828</td>\n",
       "      <td>243.814453</td>\n",
       "      <td>525.278646</td>\n",
       "      <td>1639.120443</td>\n",
       "      <td>741.756510</td>\n",
       "      <td>1677.847005</td>\n",
       "      <td>2686.380208</td>\n",
       "      <td>1413.337240</td>\n",
       "      <td>1418.064453</td>\n",
       "      <td>452.635417</td>\n",
       "      <td>960.897786</td>\n",
       "      <td>278.067708</td>\n",
       "      <td>7623.422526</td>\n",
       "      <td>59.255208</td>\n",
       "      <td>6.106771</td>\n",
       "      <td>21.361328</td>\n",
       "      <td>12.610677</td>\n",
       "      <td>12.609375</td>\n",
       "      <td>21.363281</td>\n",
       "      <td>1.081380</td>\n",
       "      <td>1.083333</td>\n",
       "      <td>16.682292</td>\n",
       "      <td>16.682292</td>\n",
       "      <td>11.761068</td>\n",
       "      <td>11.763672</td>\n",
       "      <td>5.529297</td>\n",
       "      <td>37.552734</td>\n",
       "      <td>37.557943</td>\n",
       "      <td>70.618490</td>\n",
       "      <td>19148.793495</td>\n",
       "      <td>25710.521484</td>\n",
       "    </tr>\n",
       "    <tr>\n",
       "      <th>std</th>\n",
       "      <td>20.123185</td>\n",
       "      <td>1.773812</td>\n",
       "      <td>4.555967</td>\n",
       "      <td>901.436961</td>\n",
       "      <td>2111.758438</td>\n",
       "      <td>476.075297</td>\n",
       "      <td>670.675615</td>\n",
       "      <td>212.856804</td>\n",
       "      <td>585.410835</td>\n",
       "      <td>520.660237</td>\n",
       "      <td>1139.579799</td>\n",
       "      <td>1336.302511</td>\n",
       "      <td>600.846118</td>\n",
       "      <td>567.692912</td>\n",
       "      <td>325.460652</td>\n",
       "      <td>628.799610</td>\n",
       "      <td>205.152812</td>\n",
       "      <td>2213.809270</td>\n",
       "      <td>1435.128608</td>\n",
       "      <td>3075.981633</td>\n",
       "      <td>748.413908</td>\n",
       "      <td>363.634204</td>\n",
       "      <td>540.061639</td>\n",
       "      <td>995.783888</td>\n",
       "      <td>517.685239</td>\n",
       "      <td>1140.484083</td>\n",
       "      <td>1583.100044</td>\n",
       "      <td>843.209954</td>\n",
       "      <td>834.439558</td>\n",
       "      <td>323.010733</td>\n",
       "      <td>629.799579</td>\n",
       "      <td>200.203325</td>\n",
       "      <td>2213.479498</td>\n",
       "      <td>181.357020</td>\n",
       "      <td>62.627291</td>\n",
       "      <td>9.846326</td>\n",
       "      <td>7.661367</td>\n",
       "      <td>7.446033</td>\n",
       "      <td>9.429432</td>\n",
       "      <td>2.680953</td>\n",
       "      <td>2.826277</td>\n",
       "      <td>14.477500</td>\n",
       "      <td>14.473945</td>\n",
       "      <td>7.765761</td>\n",
       "      <td>7.742737</td>\n",
       "      <td>22.181582</td>\n",
       "      <td>14.166431</td>\n",
       "      <td>14.074785</td>\n",
       "      <td>23.965236</td>\n",
       "      <td>2020.620665</td>\n",
       "      <td>13469.406103</td>\n",
       "    </tr>\n",
       "    <tr>\n",
       "      <th>min</th>\n",
       "      <td>1937.000000</td>\n",
       "      <td>0.000000</td>\n",
       "      <td>0.000000</td>\n",
       "      <td>0.000000</td>\n",
       "      <td>0.000000</td>\n",
       "      <td>0.000000</td>\n",
       "      <td>0.000000</td>\n",
       "      <td>0.000000</td>\n",
       "      <td>0.000000</td>\n",
       "      <td>0.000000</td>\n",
       "      <td>0.000000</td>\n",
       "      <td>0.000000</td>\n",
       "      <td>0.000000</td>\n",
       "      <td>0.000000</td>\n",
       "      <td>0.000000</td>\n",
       "      <td>0.000000</td>\n",
       "      <td>0.000000</td>\n",
       "      <td>0.000000</td>\n",
       "      <td>0.000000</td>\n",
       "      <td>0.000000</td>\n",
       "      <td>0.000000</td>\n",
       "      <td>0.000000</td>\n",
       "      <td>0.000000</td>\n",
       "      <td>0.000000</td>\n",
       "      <td>0.000000</td>\n",
       "      <td>0.000000</td>\n",
       "      <td>0.000000</td>\n",
       "      <td>0.000000</td>\n",
       "      <td>0.000000</td>\n",
       "      <td>0.000000</td>\n",
       "      <td>0.000000</td>\n",
       "      <td>0.000000</td>\n",
       "      <td>0.000000</td>\n",
       "      <td>0.000000</td>\n",
       "      <td>0.000000</td>\n",
       "      <td>0.000000</td>\n",
       "      <td>0.000000</td>\n",
       "      <td>0.000000</td>\n",
       "      <td>0.000000</td>\n",
       "      <td>0.000000</td>\n",
       "      <td>0.000000</td>\n",
       "      <td>0.000000</td>\n",
       "      <td>0.000000</td>\n",
       "      <td>0.000000</td>\n",
       "      <td>0.000000</td>\n",
       "      <td>0.000000</td>\n",
       "      <td>0.000000</td>\n",
       "      <td>0.000000</td>\n",
       "      <td>0.000000</td>\n",
       "      <td>2640.000000</td>\n",
       "      <td>0.000000</td>\n",
       "    </tr>\n",
       "    <tr>\n",
       "      <th>25%</th>\n",
       "      <td>1968.000000</td>\n",
       "      <td>2.000000</td>\n",
       "      <td>0.000000</td>\n",
       "      <td>2839.750000</td>\n",
       "      <td>6410.500000</td>\n",
       "      <td>1455.000000</td>\n",
       "      <td>1955.000000</td>\n",
       "      <td>0.000000</td>\n",
       "      <td>0.000000</td>\n",
       "      <td>0.000000</td>\n",
       "      <td>0.000000</td>\n",
       "      <td>3317.750000</td>\n",
       "      <td>1579.000000</td>\n",
       "      <td>1703.750000</td>\n",
       "      <td>0.000000</td>\n",
       "      <td>0.000000</td>\n",
       "      <td>0.000000</td>\n",
       "      <td>7620.500000</td>\n",
       "      <td>1596.500000</td>\n",
       "      <td>3785.500000</td>\n",
       "      <td>802.000000</td>\n",
       "      <td>0.000000</td>\n",
       "      <td>0.000000</td>\n",
       "      <td>1074.500000</td>\n",
       "      <td>0.000000</td>\n",
       "      <td>0.000000</td>\n",
       "      <td>1987.250000</td>\n",
       "      <td>936.500000</td>\n",
       "      <td>1029.250000</td>\n",
       "      <td>0.000000</td>\n",
       "      <td>0.000000</td>\n",
       "      <td>0.000000</td>\n",
       "      <td>7572.000000</td>\n",
       "      <td>0.000000</td>\n",
       "      <td>0.000000</td>\n",
       "      <td>15.000000</td>\n",
       "      <td>7.000000</td>\n",
       "      <td>7.000000</td>\n",
       "      <td>16.000000</td>\n",
       "      <td>0.000000</td>\n",
       "      <td>0.000000</td>\n",
       "      <td>0.000000</td>\n",
       "      <td>0.000000</td>\n",
       "      <td>7.000000</td>\n",
       "      <td>7.000000</td>\n",
       "      <td>0.000000</td>\n",
       "      <td>28.000000</td>\n",
       "      <td>28.000000</td>\n",
       "      <td>75.000000</td>\n",
       "      <td>19730.000000</td>\n",
       "      <td>32767.000000</td>\n",
       "    </tr>\n",
       "    <tr>\n",
       "      <th>50%</th>\n",
       "      <td>1984.000000</td>\n",
       "      <td>3.000000</td>\n",
       "      <td>3.000000</td>\n",
       "      <td>3169.500000</td>\n",
       "      <td>6894.500000</td>\n",
       "      <td>1639.000000</td>\n",
       "      <td>2191.500000</td>\n",
       "      <td>106.000000</td>\n",
       "      <td>352.500000</td>\n",
       "      <td>962.000000</td>\n",
       "      <td>2356.000000</td>\n",
       "      <td>3526.000000</td>\n",
       "      <td>1818.500000</td>\n",
       "      <td>1875.500000</td>\n",
       "      <td>597.000000</td>\n",
       "      <td>1215.000000</td>\n",
       "      <td>352.500000</td>\n",
       "      <td>8321.500000</td>\n",
       "      <td>3071.500000</td>\n",
       "      <td>6710.500000</td>\n",
       "      <td>1554.500000</td>\n",
       "      <td>118.000000</td>\n",
       "      <td>376.000000</td>\n",
       "      <td>2056.500000</td>\n",
       "      <td>970.000000</td>\n",
       "      <td>2336.000000</td>\n",
       "      <td>3423.000000</td>\n",
       "      <td>1793.000000</td>\n",
       "      <td>1818.000000</td>\n",
       "      <td>611.500000</td>\n",
       "      <td>1217.000000</td>\n",
       "      <td>368.000000</td>\n",
       "      <td>8357.000000</td>\n",
       "      <td>0.000000</td>\n",
       "      <td>0.000000</td>\n",
       "      <td>23.000000</td>\n",
       "      <td>12.000000</td>\n",
       "      <td>12.000000</td>\n",
       "      <td>23.000000</td>\n",
       "      <td>0.000000</td>\n",
       "      <td>0.000000</td>\n",
       "      <td>19.000000</td>\n",
       "      <td>19.000000</td>\n",
       "      <td>12.000000</td>\n",
       "      <td>12.000000</td>\n",
       "      <td>0.000000</td>\n",
       "      <td>39.000000</td>\n",
       "      <td>38.000000</td>\n",
       "      <td>82.000000</td>\n",
       "      <td>19780.000000</td>\n",
       "      <td>32767.000000</td>\n",
       "    </tr>\n",
       "    <tr>\n",
       "      <th>75%</th>\n",
       "      <td>1999.000000</td>\n",
       "      <td>5.000000</td>\n",
       "      <td>8.000000</td>\n",
       "      <td>3504.000000</td>\n",
       "      <td>7471.000000</td>\n",
       "      <td>1861.500000</td>\n",
       "      <td>2472.000000</td>\n",
       "      <td>363.000000</td>\n",
       "      <td>1060.000000</td>\n",
       "      <td>1138.250000</td>\n",
       "      <td>2499.000000</td>\n",
       "      <td>3817.250000</td>\n",
       "      <td>2021.250000</td>\n",
       "      <td>2038.000000</td>\n",
       "      <td>699.250000</td>\n",
       "      <td>1404.000000</td>\n",
       "      <td>433.000000</td>\n",
       "      <td>8906.250000</td>\n",
       "      <td>3442.500000</td>\n",
       "      <td>7283.250000</td>\n",
       "      <td>1757.500000</td>\n",
       "      <td>411.250000</td>\n",
       "      <td>1075.500000</td>\n",
       "      <td>2327.250000</td>\n",
       "      <td>1142.000000</td>\n",
       "      <td>2504.250000</td>\n",
       "      <td>3670.000000</td>\n",
       "      <td>2008.250000</td>\n",
       "      <td>1983.250000</td>\n",
       "      <td>701.000000</td>\n",
       "      <td>1410.250000</td>\n",
       "      <td>431.250000</td>\n",
       "      <td>8904.250000</td>\n",
       "      <td>0.000000</td>\n",
       "      <td>0.000000</td>\n",
       "      <td>29.000000</td>\n",
       "      <td>18.000000</td>\n",
       "      <td>18.000000</td>\n",
       "      <td>28.000000</td>\n",
       "      <td>0.000000</td>\n",
       "      <td>0.000000</td>\n",
       "      <td>29.000000</td>\n",
       "      <td>28.000000</td>\n",
       "      <td>17.000000</td>\n",
       "      <td>17.000000</td>\n",
       "      <td>0.000000</td>\n",
       "      <td>48.000000</td>\n",
       "      <td>47.000000</td>\n",
       "      <td>82.000000</td>\n",
       "      <td>19855.000000</td>\n",
       "      <td>32767.000000</td>\n",
       "    </tr>\n",
       "    <tr>\n",
       "      <th>max</th>\n",
       "      <td>2011.000000</td>\n",
       "      <td>9.000000</td>\n",
       "      <td>15.000000</td>\n",
       "      <td>4059.000000</td>\n",
       "      <td>9295.000000</td>\n",
       "      <td>2607.000000</td>\n",
       "      <td>3434.000000</td>\n",
       "      <td>841.000000</td>\n",
       "      <td>2283.000000</td>\n",
       "      <td>1845.000000</td>\n",
       "      <td>3083.000000</td>\n",
       "      <td>6131.000000</td>\n",
       "      <td>2575.000000</td>\n",
       "      <td>2470.000000</td>\n",
       "      <td>1059.000000</td>\n",
       "      <td>2011.000000</td>\n",
       "      <td>716.000000</td>\n",
       "      <td>10371.000000</td>\n",
       "      <td>4265.000000</td>\n",
       "      <td>8962.000000</td>\n",
       "      <td>2377.000000</td>\n",
       "      <td>2285.000000</td>\n",
       "      <td>1768.000000</td>\n",
       "      <td>3273.000000</td>\n",
       "      <td>1724.000000</td>\n",
       "      <td>3154.000000</td>\n",
       "      <td>4885.000000</td>\n",
       "      <td>2537.000000</td>\n",
       "      <td>2453.000000</td>\n",
       "      <td>955.000000</td>\n",
       "      <td>1980.000000</td>\n",
       "      <td>654.000000</td>\n",
       "      <td>10723.000000</td>\n",
       "      <td>1003.000000</td>\n",
       "      <td>769.000000</td>\n",
       "      <td>40.000000</td>\n",
       "      <td>35.000000</td>\n",
       "      <td>33.000000</td>\n",
       "      <td>40.000000</td>\n",
       "      <td>18.000000</td>\n",
       "      <td>23.000000</td>\n",
       "      <td>48.000000</td>\n",
       "      <td>52.000000</td>\n",
       "      <td>44.000000</td>\n",
       "      <td>41.000000</td>\n",
       "      <td>102.000000</td>\n",
       "      <td>72.000000</td>\n",
       "      <td>73.000000</td>\n",
       "      <td>84.000000</td>\n",
       "      <td>20460.000000</td>\n",
       "      <td>32767.000000</td>\n",
       "    </tr>\n",
       "  </tbody>\n",
       "</table>\n",
       "</div>"
      ],
      "text/plain": [
       "              year     div_rank    conf_rank      fg_made  fg_attempts  \\\n",
       "count  1536.000000  1536.000000  1536.000000  1536.000000  1536.000000   \n",
       "mean   1981.472656     3.346354     4.397135  2920.631510  6363.819010   \n",
       "std      20.123185     1.773812     4.555967   901.436961  2111.758438   \n",
       "min    1937.000000     0.000000     0.000000     0.000000     0.000000   \n",
       "25%    1968.000000     2.000000     0.000000  2839.750000  6410.500000   \n",
       "50%    1984.000000     3.000000     3.000000  3169.500000  6894.500000   \n",
       "75%    1999.000000     5.000000     8.000000  3504.000000  7471.000000   \n",
       "max    2011.000000     9.000000    15.000000  4059.000000  9295.000000   \n",
       "\n",
       "           ft_made  ft_attempts   treys_made  treys_attempts      off_reb  \\\n",
       "count  1536.000000  1536.000000  1536.000000     1536.000000  1536.000000   \n",
       "mean   1572.903646  2093.155599   194.324870      563.151042   741.756510   \n",
       "std     476.075297   670.675615   212.856804      585.410835   520.660237   \n",
       "min       0.000000     0.000000     0.000000        0.000000     0.000000   \n",
       "25%    1455.000000  1955.000000     0.000000        0.000000     0.000000   \n",
       "50%    1639.000000  2191.500000   106.000000      352.500000   962.000000   \n",
       "75%    1861.500000  2472.000000   363.000000     1060.000000  1138.250000   \n",
       "max    2607.000000  3434.000000   841.000000     2283.000000  1845.000000   \n",
       "\n",
       "           def_reb          reb      assists        fouls       steals  \\\n",
       "count  1536.000000  1536.000000  1536.000000  1536.000000  1536.000000   \n",
       "mean   1677.847005  3299.985677  1659.423177  1725.720052   452.635417   \n",
       "std    1139.579799  1336.302511   600.846118   567.692912   325.460652   \n",
       "min       0.000000     0.000000     0.000000     0.000000     0.000000   \n",
       "25%       0.000000  3317.750000  1579.000000  1703.750000     0.000000   \n",
       "50%    2356.000000  3526.000000  1818.500000  1875.500000   597.000000   \n",
       "75%    2499.000000  3817.250000  2021.250000  2038.000000   699.250000   \n",
       "max    3083.000000  6131.000000  2575.000000  2470.000000  1059.000000   \n",
       "\n",
       "         turnovers       blocks        points  opp_fg_made  opp_fg_attempts  \\\n",
       "count  1536.000000  1536.000000   1536.000000  1536.000000      1536.000000   \n",
       "mean    960.897786   278.067708   7623.557292  2428.643229      5239.662109   \n",
       "std     628.799610   205.152812   2213.809270  1435.128608      3075.981633   \n",
       "min       0.000000     0.000000      0.000000     0.000000         0.000000   \n",
       "25%       0.000000     0.000000   7620.500000  1596.500000      3785.500000   \n",
       "50%    1215.000000   352.500000   8321.500000  3071.500000      6710.500000   \n",
       "75%    1404.000000   433.000000   8906.250000  3442.500000      7283.250000   \n",
       "max    2011.000000   716.000000  10371.000000  4265.000000      8962.000000   \n",
       "\n",
       "       opp_ft_made  opp_ft_attempts  opp_treys_made  opp_treys_attempts  \\\n",
       "count  1536.000000      1536.000000     1536.000000         1536.000000   \n",
       "mean   1246.173828       243.814453      525.278646         1639.120443   \n",
       "std     748.413908       363.634204      540.061639          995.783888   \n",
       "min       0.000000         0.000000        0.000000            0.000000   \n",
       "25%     802.000000         0.000000        0.000000         1074.500000   \n",
       "50%    1554.500000       118.000000      376.000000         2056.500000   \n",
       "75%    1757.500000       411.250000     1075.500000         2327.250000   \n",
       "max    2377.000000      2285.000000     1768.000000         3273.000000   \n",
       "\n",
       "       opp_off_reb  opp_def_reb      opp_reb  opp_assists    opp_fouls  \\\n",
       "count  1536.000000  1536.000000  1536.000000  1536.000000  1536.000000   \n",
       "mean    741.756510  1677.847005  2686.380208  1413.337240  1418.064453   \n",
       "std     517.685239  1140.484083  1583.100044   843.209954   834.439558   \n",
       "min       0.000000     0.000000     0.000000     0.000000     0.000000   \n",
       "25%       0.000000     0.000000  1987.250000   936.500000  1029.250000   \n",
       "50%     970.000000  2336.000000  3423.000000  1793.000000  1818.000000   \n",
       "75%    1142.000000  2504.250000  3670.000000  2008.250000  1983.250000   \n",
       "max    1724.000000  3154.000000  4885.000000  2537.000000  2453.000000   \n",
       "\n",
       "        opp_steals  opp_turnovers   opp_blocks    opp_points       tm_reb  \\\n",
       "count  1536.000000    1536.000000  1536.000000   1536.000000  1536.000000   \n",
       "mean    452.635417     960.897786   278.067708   7623.422526    59.255208   \n",
       "std     323.010733     629.799579   200.203325   2213.479498   181.357020   \n",
       "min       0.000000       0.000000     0.000000      0.000000     0.000000   \n",
       "25%       0.000000       0.000000     0.000000   7572.000000     0.000000   \n",
       "50%     611.500000    1217.000000   368.000000   8357.000000     0.000000   \n",
       "75%     701.000000    1410.250000   431.250000   8904.250000     0.000000   \n",
       "max     955.000000    1980.000000   654.000000  10723.000000  1003.000000   \n",
       "\n",
       "        opp_tm_reb    home_wins  home_losses    away_wins  away_losses  \\\n",
       "count  1536.000000  1536.000000  1536.000000  1536.000000  1536.000000   \n",
       "mean      6.106771    21.361328    12.610677    12.609375    21.363281   \n",
       "std      62.627291     9.846326     7.661367     7.446033     9.429432   \n",
       "min       0.000000     0.000000     0.000000     0.000000     0.000000   \n",
       "25%       0.000000    15.000000     7.000000     7.000000    16.000000   \n",
       "50%       0.000000    23.000000    12.000000    12.000000    23.000000   \n",
       "75%       0.000000    29.000000    18.000000    18.000000    28.000000   \n",
       "max     769.000000    40.000000    35.000000    33.000000    40.000000   \n",
       "\n",
       "          net_wins   net_losses    conf_wins  conf_losses     div_wins  \\\n",
       "count  1536.000000  1536.000000  1536.000000  1536.000000  1536.000000   \n",
       "mean      1.081380     1.083333    16.682292    16.682292    11.761068   \n",
       "std       2.680953     2.826277    14.477500    14.473945     7.765761   \n",
       "min       0.000000     0.000000     0.000000     0.000000     0.000000   \n",
       "25%       0.000000     0.000000     0.000000     0.000000     7.000000   \n",
       "50%       0.000000     0.000000    19.000000    19.000000    12.000000   \n",
       "75%       0.000000     0.000000    29.000000    28.000000    17.000000   \n",
       "max      18.000000    23.000000    48.000000    52.000000    44.000000   \n",
       "\n",
       "        div_losses         pace     tot_wins   tot_losses  games_played  \\\n",
       "count  1536.000000  1536.000000  1536.000000  1536.000000   1536.000000   \n",
       "mean     11.763672     5.529297    37.552734    37.557943     70.618490   \n",
       "std       7.742737    22.181582    14.166431    14.074785     23.965236   \n",
       "min       0.000000     0.000000     0.000000     0.000000      0.000000   \n",
       "25%       7.000000     0.000000    28.000000    28.000000     75.000000   \n",
       "50%      12.000000     0.000000    39.000000    38.000000     82.000000   \n",
       "75%      17.000000     0.000000    48.000000    47.000000     82.000000   \n",
       "max      41.000000   102.000000    72.000000    73.000000     84.000000   \n",
       "\n",
       "        mins_played    attendance  \n",
       "count   1322.000000   1536.000000  \n",
       "mean   19148.793495  25710.521484  \n",
       "std     2020.620665  13469.406103  \n",
       "min     2640.000000      0.000000  \n",
       "25%    19730.000000  32767.000000  \n",
       "50%    19780.000000  32767.000000  \n",
       "75%    19855.000000  32767.000000  \n",
       "max    20460.000000  32767.000000  "
      ]
     },
     "execution_count": 6,
     "metadata": {},
     "output_type": "execute_result"
    }
   ],
   "source": [
    "teams.describe()"
   ]
  },
  {
   "cell_type": "markdown",
   "id": "4c53d2fb",
   "metadata": {},
   "source": [
    "- The data contains teams statistics between **1937** and **2011**\n",
    "- The highest number of points accumulated by a team over these years is **10,371** while the highest number of points conceded is **10,723**\n",
    "- The highest number of wins by a team over these years is **72** while the highest number of losses is **73**\n",
    "- The highest number of minutes played by a team over these years is **20,460** while the lowest number of minutes is **2,640**"
   ]
  },
  {
   "cell_type": "markdown",
   "id": "867cacfe",
   "metadata": {},
   "source": [
    "# 3. Data Exploration"
   ]
  },
  {
   "cell_type": "markdown",
   "id": "03019dfe",
   "metadata": {},
   "source": [
    "## Leagues"
   ]
  },
  {
   "cell_type": "markdown",
   "id": "8f0898ef",
   "metadata": {},
   "source": [
    "What are the unique basketball leagues in the dataset?"
   ]
  },
  {
   "cell_type": "code",
   "execution_count": 7,
   "id": "63f0a358",
   "metadata": {},
   "outputs": [
    {
     "data": {
      "text/plain": [
       "array(['NBA', 'ABA', 'ABL1', 'NPBL', 'NBL', 'PBLA'], dtype=object)"
      ]
     },
     "execution_count": 7,
     "metadata": {},
     "output_type": "execute_result"
    }
   ],
   "source": [
    "teams.lg_id.unique()"
   ]
  },
  {
   "cell_type": "markdown",
   "id": "67eae3b0",
   "metadata": {},
   "source": [
    "How many unique teams have participated in each league over the years?"
   ]
  },
  {
   "cell_type": "code",
   "execution_count": 8,
   "id": "9419b7ba",
   "metadata": {
    "scrolled": true
   },
   "outputs": [
    {
     "data": {
      "image/png": "[encoded data removed]",
      "text/plain": [
       "<Figure size 432x288 with 1 Axes>"
      ]
     },
     "metadata": {
      "needs_background": "light"
     },
     "output_type": "display_data"
    }
   ],
   "source": [
    "(teams.groupby('lg_id').tm_id.nunique()).plot.barh(color='brown');"
   ]
  },
  {
   "cell_type": "markdown",
   "id": "59da47df",
   "metadata": {},
   "source": [
    "Most teams in the dataset participated in **NBA**. The rest of this notebook will focus on the NBA"
   ]
  },
  {
   "cell_type": "code",
   "execution_count": 9,
   "id": "0e72f003",
   "metadata": {},
   "outputs": [],
   "source": [
    "nba = teams[teams.lg_id=='NBA']"
   ]
  },
  {
   "cell_type": "code",
   "execution_count": 10,
   "id": "aeec6811",
   "metadata": {},
   "outputs": [
    {
     "data": {
      "text/html": [
       "<div>\n",
       "<style scoped>\n",
       "    .dataframe tbody tr th:only-of-type {\n",
       "        vertical-align: middle;\n",
       "    }\n",
       "\n",
       "    .dataframe tbody tr th {\n",
       "        vertical-align: top;\n",
       "    }\n",
       "\n",
       "    .dataframe thead th {\n",
       "        text-align: right;\n",
       "    }\n",
       "</style>\n",
       "<table border=\"1\" class=\"dataframe\">\n",
       "  <thead>\n",
       "    <tr style=\"text-align: right;\">\n",
       "      <th></th>\n",
       "      <th>year</th>\n",
       "      <th>div_rank</th>\n",
       "      <th>conf_rank</th>\n",
       "      <th>fg_made</th>\n",
       "      <th>fg_attempts</th>\n",
       "      <th>ft_made</th>\n",
       "      <th>ft_attempts</th>\n",
       "      <th>treys_made</th>\n",
       "      <th>treys_attempts</th>\n",
       "      <th>off_reb</th>\n",
       "      <th>def_reb</th>\n",
       "      <th>reb</th>\n",
       "      <th>assists</th>\n",
       "      <th>fouls</th>\n",
       "      <th>steals</th>\n",
       "      <th>turnovers</th>\n",
       "      <th>blocks</th>\n",
       "      <th>points</th>\n",
       "      <th>opp_fg_made</th>\n",
       "      <th>opp_fg_attempts</th>\n",
       "      <th>opp_ft_made</th>\n",
       "      <th>opp_ft_attempts</th>\n",
       "      <th>opp_treys_made</th>\n",
       "      <th>opp_treys_attempts</th>\n",
       "      <th>opp_off_reb</th>\n",
       "      <th>opp_def_reb</th>\n",
       "      <th>opp_reb</th>\n",
       "      <th>opp_assists</th>\n",
       "      <th>opp_fouls</th>\n",
       "      <th>opp_steals</th>\n",
       "      <th>opp_turnovers</th>\n",
       "      <th>opp_blocks</th>\n",
       "      <th>opp_points</th>\n",
       "      <th>tm_reb</th>\n",
       "      <th>opp_tm_reb</th>\n",
       "      <th>home_wins</th>\n",
       "      <th>home_losses</th>\n",
       "      <th>away_wins</th>\n",
       "      <th>away_losses</th>\n",
       "      <th>net_wins</th>\n",
       "      <th>net_losses</th>\n",
       "      <th>conf_wins</th>\n",
       "      <th>conf_losses</th>\n",
       "      <th>div_wins</th>\n",
       "      <th>div_losses</th>\n",
       "      <th>pace</th>\n",
       "      <th>tot_wins</th>\n",
       "      <th>tot_losses</th>\n",
       "      <th>games_played</th>\n",
       "      <th>mins_played</th>\n",
       "      <th>attendance</th>\n",
       "    </tr>\n",
       "  </thead>\n",
       "  <tbody>\n",
       "    <tr>\n",
       "      <th>count</th>\n",
       "      <td>1304.000000</td>\n",
       "      <td>1304.000000</td>\n",
       "      <td>1304.000000</td>\n",
       "      <td>1304.000000</td>\n",
       "      <td>1304.000000</td>\n",
       "      <td>1304.000000</td>\n",
       "      <td>1304.000000</td>\n",
       "      <td>1304.000000</td>\n",
       "      <td>1304.000000</td>\n",
       "      <td>1304.000000</td>\n",
       "      <td>1304.000000</td>\n",
       "      <td>1304.000000</td>\n",
       "      <td>1304.000000</td>\n",
       "      <td>1304.000000</td>\n",
       "      <td>1304.000000</td>\n",
       "      <td>1304.000000</td>\n",
       "      <td>1304.000000</td>\n",
       "      <td>1304.000000</td>\n",
       "      <td>1304.000000</td>\n",
       "      <td>1304.000000</td>\n",
       "      <td>1304.000000</td>\n",
       "      <td>1304.00000</td>\n",
       "      <td>1304.000000</td>\n",
       "      <td>1304.000000</td>\n",
       "      <td>1304.000000</td>\n",
       "      <td>1304.000000</td>\n",
       "      <td>1304.000000</td>\n",
       "      <td>1304.000000</td>\n",
       "      <td>1304.000000</td>\n",
       "      <td>1304.000000</td>\n",
       "      <td>1304.000000</td>\n",
       "      <td>1304.000000</td>\n",
       "      <td>1304.000000</td>\n",
       "      <td>1304.000000</td>\n",
       "      <td>1304.000000</td>\n",
       "      <td>1304.000000</td>\n",
       "      <td>1304.000000</td>\n",
       "      <td>1304.000000</td>\n",
       "      <td>1304.000000</td>\n",
       "      <td>1304.000000</td>\n",
       "      <td>1304.000000</td>\n",
       "      <td>1304.000000</td>\n",
       "      <td>1304.000000</td>\n",
       "      <td>1304.000000</td>\n",
       "      <td>1304.000000</td>\n",
       "      <td>1304.000000</td>\n",
       "      <td>1304.000000</td>\n",
       "      <td>1304.000000</td>\n",
       "      <td>1304.000000</td>\n",
       "      <td>1214.000000</td>\n",
       "      <td>1304.000000</td>\n",
       "    </tr>\n",
       "    <tr>\n",
       "      <th>mean</th>\n",
       "      <td>1986.043712</td>\n",
       "      <td>3.359663</td>\n",
       "      <td>5.179448</td>\n",
       "      <td>3113.470092</td>\n",
       "      <td>6883.472393</td>\n",
       "      <td>1665.045245</td>\n",
       "      <td>2227.427147</td>\n",
       "      <td>218.985429</td>\n",
       "      <td>629.649540</td>\n",
       "      <td>821.064417</td>\n",
       "      <td>1874.687883</td>\n",
       "      <td>3554.744632</td>\n",
       "      <td>1821.088957</td>\n",
       "      <td>1865.732362</td>\n",
       "      <td>517.186350</td>\n",
       "      <td>1023.067485</td>\n",
       "      <td>318.474693</td>\n",
       "      <td>8110.970859</td>\n",
       "      <td>2605.380368</td>\n",
       "      <td>5612.307515</td>\n",
       "      <td>1328.318252</td>\n",
       "      <td>277.13727</td>\n",
       "      <td>589.673313</td>\n",
       "      <td>1745.142638</td>\n",
       "      <td>821.064417</td>\n",
       "      <td>1874.687883</td>\n",
       "      <td>2861.329755</td>\n",
       "      <td>1540.506902</td>\n",
       "      <td>1520.813650</td>\n",
       "      <td>517.186350</td>\n",
       "      <td>1023.067485</td>\n",
       "      <td>318.474693</td>\n",
       "      <td>8110.812117</td>\n",
       "      <td>68.705521</td>\n",
       "      <td>7.193252</td>\n",
       "      <td>22.443252</td>\n",
       "      <td>13.394172</td>\n",
       "      <td>13.391871</td>\n",
       "      <td>22.444785</td>\n",
       "      <td>1.110429</td>\n",
       "      <td>1.112730</td>\n",
       "      <td>19.650307</td>\n",
       "      <td>19.650307</td>\n",
       "      <td>12.322853</td>\n",
       "      <td>12.325920</td>\n",
       "      <td>6.513037</td>\n",
       "      <td>39.591258</td>\n",
       "      <td>39.597393</td>\n",
       "      <td>73.897239</td>\n",
       "      <td>19184.155684</td>\n",
       "      <td>29048.046012</td>\n",
       "    </tr>\n",
       "    <tr>\n",
       "      <th>std</th>\n",
       "      <td>17.491243</td>\n",
       "      <td>1.776092</td>\n",
       "      <td>4.516365</td>\n",
       "      <td>546.108032</td>\n",
       "      <td>909.674738</td>\n",
       "      <td>292.366356</td>\n",
       "      <td>384.449769</td>\n",
       "      <td>219.709497</td>\n",
       "      <td>602.499287</td>\n",
       "      <td>466.917059</td>\n",
       "      <td>1025.986839</td>\n",
       "      <td>947.739366</td>\n",
       "      <td>342.857765</td>\n",
       "      <td>254.527159</td>\n",
       "      <td>293.525248</td>\n",
       "      <td>581.478160</td>\n",
       "      <td>187.471140</td>\n",
       "      <td>1256.025830</td>\n",
       "      <td>1293.849664</td>\n",
       "      <td>2749.915283</td>\n",
       "      <td>670.482027</td>\n",
       "      <td>384.29584</td>\n",
       "      <td>555.191476</td>\n",
       "      <td>890.508605</td>\n",
       "      <td>463.145025</td>\n",
       "      <td>1027.026438</td>\n",
       "      <td>1402.191574</td>\n",
       "      <td>770.366825</td>\n",
       "      <td>751.577862</td>\n",
       "      <td>290.630389</td>\n",
       "      <td>582.929518</td>\n",
       "      <td>181.244235</td>\n",
       "      <td>1257.741099</td>\n",
       "      <td>195.012326</td>\n",
       "      <td>67.916879</td>\n",
       "      <td>9.261023</td>\n",
       "      <td>7.515315</td>\n",
       "      <td>7.263422</td>\n",
       "      <td>8.852766</td>\n",
       "      <td>2.805556</td>\n",
       "      <td>2.990703</td>\n",
       "      <td>13.731348</td>\n",
       "      <td>13.726932</td>\n",
       "      <td>6.511993</td>\n",
       "      <td>6.477216</td>\n",
       "      <td>23.941919</td>\n",
       "      <td>12.523903</td>\n",
       "      <td>12.481564</td>\n",
       "      <td>21.324346</td>\n",
       "      <td>1747.536874</td>\n",
       "      <td>10397.656176</td>\n",
       "    </tr>\n",
       "    <tr>\n",
       "      <th>min</th>\n",
       "      <td>1946.000000</td>\n",
       "      <td>0.000000</td>\n",
       "      <td>0.000000</td>\n",
       "      <td>0.000000</td>\n",
       "      <td>0.000000</td>\n",
       "      <td>0.000000</td>\n",
       "      <td>0.000000</td>\n",
       "      <td>0.000000</td>\n",
       "      <td>0.000000</td>\n",
       "      <td>0.000000</td>\n",
       "      <td>0.000000</td>\n",
       "      <td>0.000000</td>\n",
       "      <td>0.000000</td>\n",
       "      <td>0.000000</td>\n",
       "      <td>0.000000</td>\n",
       "      <td>0.000000</td>\n",
       "      <td>0.000000</td>\n",
       "      <td>0.000000</td>\n",
       "      <td>0.000000</td>\n",
       "      <td>0.000000</td>\n",
       "      <td>0.000000</td>\n",
       "      <td>0.00000</td>\n",
       "      <td>0.000000</td>\n",
       "      <td>0.000000</td>\n",
       "      <td>0.000000</td>\n",
       "      <td>0.000000</td>\n",
       "      <td>0.000000</td>\n",
       "      <td>0.000000</td>\n",
       "      <td>0.000000</td>\n",
       "      <td>0.000000</td>\n",
       "      <td>0.000000</td>\n",
       "      <td>0.000000</td>\n",
       "      <td>0.000000</td>\n",
       "      <td>0.000000</td>\n",
       "      <td>0.000000</td>\n",
       "      <td>0.000000</td>\n",
       "      <td>0.000000</td>\n",
       "      <td>0.000000</td>\n",
       "      <td>0.000000</td>\n",
       "      <td>0.000000</td>\n",
       "      <td>0.000000</td>\n",
       "      <td>0.000000</td>\n",
       "      <td>0.000000</td>\n",
       "      <td>0.000000</td>\n",
       "      <td>0.000000</td>\n",
       "      <td>0.000000</td>\n",
       "      <td>3.000000</td>\n",
       "      <td>10.000000</td>\n",
       "      <td>0.000000</td>\n",
       "      <td>3360.000000</td>\n",
       "      <td>0.000000</td>\n",
       "    </tr>\n",
       "    <tr>\n",
       "      <th>25%</th>\n",
       "      <td>1974.750000</td>\n",
       "      <td>2.000000</td>\n",
       "      <td>0.000000</td>\n",
       "      <td>2918.750000</td>\n",
       "      <td>6509.750000</td>\n",
       "      <td>1499.000000</td>\n",
       "      <td>2001.500000</td>\n",
       "      <td>0.000000</td>\n",
       "      <td>0.000000</td>\n",
       "      <td>714.250000</td>\n",
       "      <td>1947.000000</td>\n",
       "      <td>3364.000000</td>\n",
       "      <td>1675.000000</td>\n",
       "      <td>1745.000000</td>\n",
       "      <td>459.500000</td>\n",
       "      <td>920.250000</td>\n",
       "      <td>262.750000</td>\n",
       "      <td>7819.000000</td>\n",
       "      <td>2718.250000</td>\n",
       "      <td>6229.750000</td>\n",
       "      <td>1302.000000</td>\n",
       "      <td>0.00000</td>\n",
       "      <td>0.000000</td>\n",
       "      <td>1606.250000</td>\n",
       "      <td>715.750000</td>\n",
       "      <td>1941.500000</td>\n",
       "      <td>3149.750000</td>\n",
       "      <td>1547.750000</td>\n",
       "      <td>1617.250000</td>\n",
       "      <td>477.750000</td>\n",
       "      <td>903.500000</td>\n",
       "      <td>284.500000</td>\n",
       "      <td>7796.500000</td>\n",
       "      <td>0.000000</td>\n",
       "      <td>0.000000</td>\n",
       "      <td>17.750000</td>\n",
       "      <td>8.000000</td>\n",
       "      <td>8.000000</td>\n",
       "      <td>18.000000</td>\n",
       "      <td>0.000000</td>\n",
       "      <td>0.000000</td>\n",
       "      <td>0.000000</td>\n",
       "      <td>0.000000</td>\n",
       "      <td>8.000000</td>\n",
       "      <td>8.000000</td>\n",
       "      <td>0.000000</td>\n",
       "      <td>30.000000</td>\n",
       "      <td>30.000000</td>\n",
       "      <td>82.000000</td>\n",
       "      <td>19730.000000</td>\n",
       "      <td>32767.000000</td>\n",
       "    </tr>\n",
       "    <tr>\n",
       "      <th>50%</th>\n",
       "      <td>1989.000000</td>\n",
       "      <td>3.000000</td>\n",
       "      <td>5.000000</td>\n",
       "      <td>3203.000000</td>\n",
       "      <td>6920.000000</td>\n",
       "      <td>1653.000000</td>\n",
       "      <td>2210.500000</td>\n",
       "      <td>154.500000</td>\n",
       "      <td>480.000000</td>\n",
       "      <td>997.000000</td>\n",
       "      <td>2381.000000</td>\n",
       "      <td>3533.000000</td>\n",
       "      <td>1860.500000</td>\n",
       "      <td>1884.000000</td>\n",
       "      <td>625.000000</td>\n",
       "      <td>1227.000000</td>\n",
       "      <td>375.500000</td>\n",
       "      <td>8356.000000</td>\n",
       "      <td>3096.000000</td>\n",
       "      <td>6740.500000</td>\n",
       "      <td>1570.500000</td>\n",
       "      <td>172.50000</td>\n",
       "      <td>462.000000</td>\n",
       "      <td>2084.000000</td>\n",
       "      <td>1007.000000</td>\n",
       "      <td>2366.000000</td>\n",
       "      <td>3434.500000</td>\n",
       "      <td>1835.000000</td>\n",
       "      <td>1828.500000</td>\n",
       "      <td>633.000000</td>\n",
       "      <td>1230.000000</td>\n",
       "      <td>386.000000</td>\n",
       "      <td>8417.000000</td>\n",
       "      <td>0.000000</td>\n",
       "      <td>0.000000</td>\n",
       "      <td>24.000000</td>\n",
       "      <td>13.000000</td>\n",
       "      <td>13.000000</td>\n",
       "      <td>23.000000</td>\n",
       "      <td>0.000000</td>\n",
       "      <td>0.000000</td>\n",
       "      <td>22.000000</td>\n",
       "      <td>21.000000</td>\n",
       "      <td>12.000000</td>\n",
       "      <td>12.000000</td>\n",
       "      <td>0.000000</td>\n",
       "      <td>40.000000</td>\n",
       "      <td>39.000000</td>\n",
       "      <td>82.000000</td>\n",
       "      <td>19780.000000</td>\n",
       "      <td>32767.000000</td>\n",
       "    </tr>\n",
       "    <tr>\n",
       "      <th>75%</th>\n",
       "      <td>2001.000000</td>\n",
       "      <td>5.000000</td>\n",
       "      <td>9.000000</td>\n",
       "      <td>3504.000000</td>\n",
       "      <td>7423.250000</td>\n",
       "      <td>1846.000000</td>\n",
       "      <td>2460.500000</td>\n",
       "      <td>407.250000</td>\n",
       "      <td>1160.000000</td>\n",
       "      <td>1143.000000</td>\n",
       "      <td>2505.250000</td>\n",
       "      <td>3769.000000</td>\n",
       "      <td>2049.000000</td>\n",
       "      <td>2033.000000</td>\n",
       "      <td>712.250000</td>\n",
       "      <td>1393.000000</td>\n",
       "      <td>443.000000</td>\n",
       "      <td>8899.500000</td>\n",
       "      <td>3438.000000</td>\n",
       "      <td>7239.000000</td>\n",
       "      <td>1750.250000</td>\n",
       "      <td>438.00000</td>\n",
       "      <td>1168.000000</td>\n",
       "      <td>2318.000000</td>\n",
       "      <td>1145.000000</td>\n",
       "      <td>2509.250000</td>\n",
       "      <td>3647.000000</td>\n",
       "      <td>2029.000000</td>\n",
       "      <td>1975.500000</td>\n",
       "      <td>710.250000</td>\n",
       "      <td>1404.000000</td>\n",
       "      <td>439.000000</td>\n",
       "      <td>8880.000000</td>\n",
       "      <td>0.000000</td>\n",
       "      <td>0.000000</td>\n",
       "      <td>29.000000</td>\n",
       "      <td>18.000000</td>\n",
       "      <td>18.000000</td>\n",
       "      <td>29.000000</td>\n",
       "      <td>0.000000</td>\n",
       "      <td>0.000000</td>\n",
       "      <td>30.000000</td>\n",
       "      <td>29.000000</td>\n",
       "      <td>17.000000</td>\n",
       "      <td>17.000000</td>\n",
       "      <td>0.000000</td>\n",
       "      <td>49.000000</td>\n",
       "      <td>48.000000</td>\n",
       "      <td>82.000000</td>\n",
       "      <td>19830.000000</td>\n",
       "      <td>32767.000000</td>\n",
       "    </tr>\n",
       "    <tr>\n",
       "      <th>max</th>\n",
       "      <td>2011.000000</td>\n",
       "      <td>8.000000</td>\n",
       "      <td>15.000000</td>\n",
       "      <td>3980.000000</td>\n",
       "      <td>9295.000000</td>\n",
       "      <td>2434.000000</td>\n",
       "      <td>3411.000000</td>\n",
       "      <td>841.000000</td>\n",
       "      <td>2283.000000</td>\n",
       "      <td>1520.000000</td>\n",
       "      <td>3074.000000</td>\n",
       "      <td>6131.000000</td>\n",
       "      <td>2575.000000</td>\n",
       "      <td>2470.000000</td>\n",
       "      <td>1059.000000</td>\n",
       "      <td>2011.000000</td>\n",
       "      <td>716.000000</td>\n",
       "      <td>10371.000000</td>\n",
       "      <td>4265.000000</td>\n",
       "      <td>8553.000000</td>\n",
       "      <td>2377.000000</td>\n",
       "      <td>2285.00000</td>\n",
       "      <td>1768.000000</td>\n",
       "      <td>3076.000000</td>\n",
       "      <td>1525.000000</td>\n",
       "      <td>3107.000000</td>\n",
       "      <td>4885.000000</td>\n",
       "      <td>2537.000000</td>\n",
       "      <td>2453.000000</td>\n",
       "      <td>955.000000</td>\n",
       "      <td>1980.000000</td>\n",
       "      <td>654.000000</td>\n",
       "      <td>10723.000000</td>\n",
       "      <td>1003.000000</td>\n",
       "      <td>769.000000</td>\n",
       "      <td>40.000000</td>\n",
       "      <td>35.000000</td>\n",
       "      <td>33.000000</td>\n",
       "      <td>40.000000</td>\n",
       "      <td>18.000000</td>\n",
       "      <td>23.000000</td>\n",
       "      <td>48.000000</td>\n",
       "      <td>52.000000</td>\n",
       "      <td>33.000000</td>\n",
       "      <td>33.000000</td>\n",
       "      <td>102.000000</td>\n",
       "      <td>72.000000</td>\n",
       "      <td>73.000000</td>\n",
       "      <td>82.000000</td>\n",
       "      <td>20080.000000</td>\n",
       "      <td>32767.000000</td>\n",
       "    </tr>\n",
       "  </tbody>\n",
       "</table>\n",
       "</div>"
      ],
      "text/plain": [
       "              year     div_rank    conf_rank      fg_made  fg_attempts  \\\n",
       "count  1304.000000  1304.000000  1304.000000  1304.000000  1304.000000   \n",
       "mean   1986.043712     3.359663     5.179448  3113.470092  6883.472393   \n",
       "std      17.491243     1.776092     4.516365   546.108032   909.674738   \n",
       "min    1946.000000     0.000000     0.000000     0.000000     0.000000   \n",
       "25%    1974.750000     2.000000     0.000000  2918.750000  6509.750000   \n",
       "50%    1989.000000     3.000000     5.000000  3203.000000  6920.000000   \n",
       "75%    2001.000000     5.000000     9.000000  3504.000000  7423.250000   \n",
       "max    2011.000000     8.000000    15.000000  3980.000000  9295.000000   \n",
       "\n",
       "           ft_made  ft_attempts   treys_made  treys_attempts      off_reb  \\\n",
       "count  1304.000000  1304.000000  1304.000000     1304.000000  1304.000000   \n",
       "mean   1665.045245  2227.427147   218.985429      629.649540   821.064417   \n",
       "std     292.366356   384.449769   219.709497      602.499287   466.917059   \n",
       "min       0.000000     0.000000     0.000000        0.000000     0.000000   \n",
       "25%    1499.000000  2001.500000     0.000000        0.000000   714.250000   \n",
       "50%    1653.000000  2210.500000   154.500000      480.000000   997.000000   \n",
       "75%    1846.000000  2460.500000   407.250000     1160.000000  1143.000000   \n",
       "max    2434.000000  3411.000000   841.000000     2283.000000  1520.000000   \n",
       "\n",
       "           def_reb          reb      assists        fouls       steals  \\\n",
       "count  1304.000000  1304.000000  1304.000000  1304.000000  1304.000000   \n",
       "mean   1874.687883  3554.744632  1821.088957  1865.732362   517.186350   \n",
       "std    1025.986839   947.739366   342.857765   254.527159   293.525248   \n",
       "min       0.000000     0.000000     0.000000     0.000000     0.000000   \n",
       "25%    1947.000000  3364.000000  1675.000000  1745.000000   459.500000   \n",
       "50%    2381.000000  3533.000000  1860.500000  1884.000000   625.000000   \n",
       "75%    2505.250000  3769.000000  2049.000000  2033.000000   712.250000   \n",
       "max    3074.000000  6131.000000  2575.000000  2470.000000  1059.000000   \n",
       "\n",
       "         turnovers       blocks        points  opp_fg_made  opp_fg_attempts  \\\n",
       "count  1304.000000  1304.000000   1304.000000  1304.000000      1304.000000   \n",
       "mean   1023.067485   318.474693   8110.970859  2605.380368      5612.307515   \n",
       "std     581.478160   187.471140   1256.025830  1293.849664      2749.915283   \n",
       "min       0.000000     0.000000      0.000000     0.000000         0.000000   \n",
       "25%     920.250000   262.750000   7819.000000  2718.250000      6229.750000   \n",
       "50%    1227.000000   375.500000   8356.000000  3096.000000      6740.500000   \n",
       "75%    1393.000000   443.000000   8899.500000  3438.000000      7239.000000   \n",
       "max    2011.000000   716.000000  10371.000000  4265.000000      8553.000000   \n",
       "\n",
       "       opp_ft_made  opp_ft_attempts  opp_treys_made  opp_treys_attempts  \\\n",
       "count  1304.000000       1304.00000     1304.000000         1304.000000   \n",
       "mean   1328.318252        277.13727      589.673313         1745.142638   \n",
       "std     670.482027        384.29584      555.191476          890.508605   \n",
       "min       0.000000          0.00000        0.000000            0.000000   \n",
       "25%    1302.000000          0.00000        0.000000         1606.250000   \n",
       "50%    1570.500000        172.50000      462.000000         2084.000000   \n",
       "75%    1750.250000        438.00000     1168.000000         2318.000000   \n",
       "max    2377.000000       2285.00000     1768.000000         3076.000000   \n",
       "\n",
       "       opp_off_reb  opp_def_reb      opp_reb  opp_assists    opp_fouls  \\\n",
       "count  1304.000000  1304.000000  1304.000000  1304.000000  1304.000000   \n",
       "mean    821.064417  1874.687883  2861.329755  1540.506902  1520.813650   \n",
       "std     463.145025  1027.026438  1402.191574   770.366825   751.577862   \n",
       "min       0.000000     0.000000     0.000000     0.000000     0.000000   \n",
       "25%     715.750000  1941.500000  3149.750000  1547.750000  1617.250000   \n",
       "50%    1007.000000  2366.000000  3434.500000  1835.000000  1828.500000   \n",
       "75%    1145.000000  2509.250000  3647.000000  2029.000000  1975.500000   \n",
       "max    1525.000000  3107.000000  4885.000000  2537.000000  2453.000000   \n",
       "\n",
       "        opp_steals  opp_turnovers   opp_blocks    opp_points       tm_reb  \\\n",
       "count  1304.000000    1304.000000  1304.000000   1304.000000  1304.000000   \n",
       "mean    517.186350    1023.067485   318.474693   8110.812117    68.705521   \n",
       "std     290.630389     582.929518   181.244235   1257.741099   195.012326   \n",
       "min       0.000000       0.000000     0.000000      0.000000     0.000000   \n",
       "25%     477.750000     903.500000   284.500000   7796.500000     0.000000   \n",
       "50%     633.000000    1230.000000   386.000000   8417.000000     0.000000   \n",
       "75%     710.250000    1404.000000   439.000000   8880.000000     0.000000   \n",
       "max     955.000000    1980.000000   654.000000  10723.000000  1003.000000   \n",
       "\n",
       "        opp_tm_reb    home_wins  home_losses    away_wins  away_losses  \\\n",
       "count  1304.000000  1304.000000  1304.000000  1304.000000  1304.000000   \n",
       "mean      7.193252    22.443252    13.394172    13.391871    22.444785   \n",
       "std      67.916879     9.261023     7.515315     7.263422     8.852766   \n",
       "min       0.000000     0.000000     0.000000     0.000000     0.000000   \n",
       "25%       0.000000    17.750000     8.000000     8.000000    18.000000   \n",
       "50%       0.000000    24.000000    13.000000    13.000000    23.000000   \n",
       "75%       0.000000    29.000000    18.000000    18.000000    29.000000   \n",
       "max     769.000000    40.000000    35.000000    33.000000    40.000000   \n",
       "\n",
       "          net_wins   net_losses    conf_wins  conf_losses     div_wins  \\\n",
       "count  1304.000000  1304.000000  1304.000000  1304.000000  1304.000000   \n",
       "mean      1.110429     1.112730    19.650307    19.650307    12.322853   \n",
       "std       2.805556     2.990703    13.731348    13.726932     6.511993   \n",
       "min       0.000000     0.000000     0.000000     0.000000     0.000000   \n",
       "25%       0.000000     0.000000     0.000000     0.000000     8.000000   \n",
       "50%       0.000000     0.000000    22.000000    21.000000    12.000000   \n",
       "75%       0.000000     0.000000    30.000000    29.000000    17.000000   \n",
       "max      18.000000    23.000000    48.000000    52.000000    33.000000   \n",
       "\n",
       "        div_losses         pace     tot_wins   tot_losses  games_played  \\\n",
       "count  1304.000000  1304.000000  1304.000000  1304.000000   1304.000000   \n",
       "mean     12.325920     6.513037    39.591258    39.597393     73.897239   \n",
       "std       6.477216    23.941919    12.523903    12.481564     21.324346   \n",
       "min       0.000000     0.000000     3.000000    10.000000      0.000000   \n",
       "25%       8.000000     0.000000    30.000000    30.000000     82.000000   \n",
       "50%      12.000000     0.000000    40.000000    39.000000     82.000000   \n",
       "75%      17.000000     0.000000    49.000000    48.000000     82.000000   \n",
       "max      33.000000   102.000000    72.000000    73.000000     82.000000   \n",
       "\n",
       "        mins_played    attendance  \n",
       "count   1214.000000   1304.000000  \n",
       "mean   19184.155684  29048.046012  \n",
       "std     1747.536874  10397.656176  \n",
       "min     3360.000000      0.000000  \n",
       "25%    19730.000000  32767.000000  \n",
       "50%    19780.000000  32767.000000  \n",
       "75%    19830.000000  32767.000000  \n",
       "max    20080.000000  32767.000000  "
      ]
     },
     "execution_count": 10,
     "metadata": {},
     "output_type": "execute_result"
    }
   ],
   "source": [
    "nba.describe()"
   ]
  },
  {
   "cell_type": "markdown",
   "id": "69c7ef70",
   "metadata": {},
   "source": [
    "The nba data consists of records between 1946 and 2011"
   ]
  },
  {
   "cell_type": "markdown",
   "id": "ccb86808",
   "metadata": {},
   "source": [
    "## NBA Teams"
   ]
  },
  {
   "cell_type": "markdown",
   "id": "77f7447f",
   "metadata": {},
   "source": [
    "How many unique teams are in the nba dataset?"
   ]
  },
  {
   "cell_type": "code",
   "execution_count": 11,
   "id": "2ce418f8",
   "metadata": {},
   "outputs": [
    {
     "data": {
      "text/plain": [
       "71"
      ]
     },
     "execution_count": 11,
     "metadata": {},
     "output_type": "execute_result"
    }
   ],
   "source": [
    "nba.tm_id.nunique()"
   ]
  },
  {
   "cell_type": "markdown",
   "id": "e55558fd",
   "metadata": {},
   "source": [
    "## NBA Franchises"
   ]
  },
  {
   "cell_type": "markdown",
   "id": "b611f30e",
   "metadata": {},
   "source": [
    "How many unique franchises are in the nba dataset?"
   ]
  },
  {
   "cell_type": "code",
   "execution_count": 12,
   "id": "f57d1d14",
   "metadata": {},
   "outputs": [
    {
     "data": {
      "text/plain": [
       "45"
      ]
     },
     "execution_count": 12,
     "metadata": {},
     "output_type": "execute_result"
    }
   ],
   "source": [
    "nba.franch_id.nunique()"
   ]
  },
  {
   "cell_type": "markdown",
   "id": "791681fa",
   "metadata": {},
   "source": [
    "There are more teams than franchises. This is because many teams have changed their names over the years.\n",
    "  \n",
    "Which nba teams changed their names?"
   ]
  },
  {
   "cell_type": "code",
   "execution_count": 13,
   "id": "37857446",
   "metadata": {},
   "outputs": [
    {
     "data": {
      "image/png": "[encoded data removed]",
      "text/plain": [
       "<Figure size 576x576 with 1 Axes>"
      ]
     },
     "metadata": {
      "needs_background": "light"
     },
     "output_type": "display_data"
    }
   ],
   "source": [
    "plt.figure(figsize=(8,8))\n",
    "franch = nba.groupby('franch_id').tm_id.nunique()\n",
    "(franch[franch>1]).plot.barh(color='#1d428a');"
   ]
  },
  {
   "cell_type": "code",
   "execution_count": 14,
   "id": "f22aaeea",
   "metadata": {
    "scrolled": false
   },
   "outputs": [
    {
     "data": {
      "text/plain": [
       "array(['CHP', 'CHZ', 'BAL', 'CAP', 'WSB', 'WAS'], dtype=object)"
      ]
     },
     "execution_count": 14,
     "metadata": {},
     "output_type": "execute_result"
    }
   ],
   "source": [
    "nba[nba.franch_id=='WAS'].tm_id.unique()"
   ]
  },
  {
   "cell_type": "markdown",
   "id": "21231780",
   "metadata": {},
   "source": [
    "**Washington Wizards (WAS)** changed their team name 6 times. From **Chicago Packers (CHP)** to **Chicago Zephyrs (CHZ)** to **Baltimore Bullets (BAL)** to **Capital Bullets (CAP)** to **Washington Bullets (WSB)** to what they currently are"
   ]
  },
  {
   "cell_type": "markdown",
   "id": "ae63b84f",
   "metadata": {},
   "source": [
    "## NBA Conferences and Divisions"
   ]
  },
  {
   "cell_type": "markdown",
   "id": "9746266d",
   "metadata": {},
   "source": [
    "How many conferences are in the NBA?"
   ]
  },
  {
   "cell_type": "code",
   "execution_count": 15,
   "id": "538d059f",
   "metadata": {},
   "outputs": [
    {
     "data": {
      "text/plain": [
       "WC    533\n",
       "EC    531\n",
       "Name: conf_id, dtype: int64"
      ]
     },
     "execution_count": 15,
     "metadata": {},
     "output_type": "execute_result"
    }
   ],
   "source": [
    "nba.conf_id.value_counts()"
   ]
  },
  {
   "cell_type": "code",
   "execution_count": 16,
   "id": "8f22cae8",
   "metadata": {},
   "outputs": [
    {
     "data": {
      "image/png": "[encoded data removed]",
      "text/plain": [
       "<Figure size 432x288 with 1 Axes>"
      ]
     },
     "metadata": {
      "needs_background": "light"
     },
     "output_type": "display_data"
    }
   ],
   "source": [
    "conf_abbrev = abbrev[abbrev.abbrev_type=='Conference']\n",
    "conf = nba.merge(conf_abbrev,how='left',left_on='conf_id',right_on='code')\n",
    "conf.drop(columns=['conf_id','abbrev_type','code'],inplace=True)\n",
    "conf.rename(columns={'full_name':'conference'},inplace=True)\n",
    "\n",
    "sns.countplot(x='conference',data=conf);"
   ]
  },
  {
   "cell_type": "markdown",
   "id": "19ae78fe",
   "metadata": {},
   "source": [
    "The NBA is divided into Eastern and Western Conference. There about the same number of records for both conferences.\n",
    "  \n",
    "How many divisions are in the NBA?"
   ]
  },
  {
   "cell_type": "code",
   "execution_count": 17,
   "id": "df4667de",
   "metadata": {},
   "outputs": [
    {
     "data": {
      "image/png": "[encoded data removed]",
      "text/plain": [
       "<Figure size 432x288 with 1 Axes>"
      ]
     },
     "metadata": {
      "needs_background": "light"
     },
     "output_type": "display_data"
    }
   ],
   "source": [
    "div_abbrev = abbrev[abbrev.abbrev_type=='Division']\n",
    "div = nba.merge(div_abbrev,how='left',left_on='div_id',right_on='code')\n",
    "div.drop(columns=['div_id','abbrev_type','code'],inplace=True)\n",
    "div.rename(columns={'full_name':'division'},inplace=True)\n",
    "\n",
    "sns.countplot(y='division',data=div);"
   ]
  },
  {
   "cell_type": "markdown",
   "id": "1bd1af70",
   "metadata": {},
   "source": [
    "The NBA is currently has 6 divisions (central, atlantic, pacific, southeast, southwest, and northwest) but we have 9 in our dataset.\n",
    "\n",
    "- The Eastern and Western division existed until the 1970–71 NBA season when the NBA expanded from 14 to 17 teams and realigned into the Eastern and Western conferences with two divisions each\n",
    "\n",
    "\n",
    "- The Midwest division was disbanded at the start of the 2004–05 season. It was replaced with two new divisions, the Southwest Division and the Northwest Division."
   ]
  },
  {
   "cell_type": "markdown",
   "id": "196d9943",
   "metadata": {},
   "source": [
    "## Field Goals"
   ]
  },
  {
   "cell_type": "markdown",
   "id": "81396d0e",
   "metadata": {},
   "source": [
    "This includes both 2 pointers and 3 pointers made by a team"
   ]
  },
  {
   "cell_type": "markdown",
   "id": "a9ad37a6",
   "metadata": {},
   "source": [
    "### 1. Which teams attempted the most and least field goals in NBA up until 2011? "
   ]
  },
  {
   "cell_type": "markdown",
   "id": "1f3d1407",
   "metadata": {},
   "source": [
    "We'll combine the **franch_id** with **year** to have the team names and the years they made these attempts "
   ]
  },
  {
   "cell_type": "code",
   "execution_count": 18,
   "id": "9ad23e4a",
   "metadata": {},
   "outputs": [],
   "source": [
    "nba['franch_year'] = nba['franch_id'] + '(' + nba['year'].astype(str) + ')'"
   ]
  },
  {
   "cell_type": "markdown",
   "id": "49f9fbe3",
   "metadata": {},
   "source": [
    "Not all teams played the same number of games. Let's create another column, **fg_attempts_pg**"
   ]
  },
  {
   "cell_type": "code",
   "execution_count": 19,
   "id": "2120cae1",
   "metadata": {},
   "outputs": [],
   "source": [
    "# let's exclude teams with 0 games and 0 fg attempts\n",
    "non_zeros = nba[(nba.fg_attempts!=0)&(nba.games_played!=0)]\n",
    "non_zeros['fg_attempts_pg'] = non_zeros['fg_attempts']/non_zeros['games_played']"
   ]
  },
  {
   "cell_type": "code",
   "execution_count": 20,
   "id": "6a206c7e",
   "metadata": {},
   "outputs": [],
   "source": [
    "most_attempts = non_zeros.sort_values(by='fg_attempts_pg',ascending=False).iloc[:10]\n",
    "least_attempts = non_zeros.sort_values(by='fg_attempts_pg',ascending=True).iloc[:10]"
   ]
  },
  {
   "cell_type": "code",
   "execution_count": 21,
   "id": "c0077e77",
   "metadata": {
    "scrolled": true
   },
   "outputs": [
    {
     "data": {
      "image/png": "[encoded data removed]",
      "text/plain": [
       "<Figure size 1080x432 with 2 Axes>"
      ]
     },
     "metadata": {
      "needs_background": "light"
     },
     "output_type": "display_data"
    }
   ],
   "source": [
    "f,ax = plt.subplots(1,2,figsize=(15,6))\n",
    "\n",
    "sns.barplot(y='franch_year',x='fg_attempts_pg',data=most_attempts,ax=ax[0])\n",
    "sns.barplot(y='franch_year',x='fg_attempts_pg',data=least_attempts,ax=ax[1])\n",
    "ax[0].set_title('Most Field Goal Attempts Per Game')\n",
    "ax[0].set_ylabel('')\n",
    "ax[1].set_title('Least Field Goal Attempts Per Game')\n",
    "ax[1].set_ylabel('');"
   ]
  },
  {
   "cell_type": "code",
   "execution_count": 22,
   "id": "16373b21",
   "metadata": {},
   "outputs": [
    {
     "data": {
      "image/png": "[encoded data removed]",
      "text/plain": [
       "<Figure size 432x288 with 1 Axes>"
      ]
     },
     "metadata": {
      "needs_background": "light"
     },
     "output_type": "display_data"
    }
   ],
   "source": [
    "non_zeros.groupby('year').fg_attempts_pg.mean().plot.line()\n",
    "plt.title('Average Field Goal Attempts per Game Over the Years');"
   ]
  },
  {
   "cell_type": "markdown",
   "id": "d74d5671",
   "metadata": {},
   "source": [
    "- NBA teams between the late 50s and early 60s attempted alot of shots at goal\n",
    "\n",
    "\n",
    "- The subplots reflects teams' form. Boston Celtics consistently attempted many shots per game for 4 consecutive years, 1958-61. Same thing applies to Golden State Warriors (1959-61) and Syracruse Nationals(1960-61) \n",
    "\n",
    "\n",
    "- The 1995, '96, and '98 Cleveland Cavaliers team consistently attempted very few shots per game in these years"
   ]
  },
  {
   "cell_type": "markdown",
   "id": "10d7dfc7",
   "metadata": {},
   "source": [
    "### 2. Which teams had the highest and lowest shots conversion in NBA up until 2011? "
   ]
  },
  {
   "cell_type": "markdown",
   "id": "d28e4b8f",
   "metadata": {},
   "source": [
    "We'll create another column, **fg%**."
   ]
  },
  {
   "cell_type": "code",
   "execution_count": 23,
   "id": "00cd683b",
   "metadata": {
    "scrolled": true
   },
   "outputs": [
    {
     "data": {
      "image/png": "[encoded data removed]",
      "text/plain": [
       "<Figure size 1080x432 with 2 Axes>"
      ]
     },
     "metadata": {
      "needs_background": "light"
     },
     "output_type": "display_data"
    }
   ],
   "source": [
    "non_zeros['fg%'] = non_zeros['fg_made']*100/non_zeros['fg_attempts']\n",
    "\n",
    "high_convs = non_zeros.sort_values(by='fg%',ascending=False).iloc[:10]\n",
    "low_convs = non_zeros.sort_values(by='fg%',ascending=True).iloc[:10]\n",
    "f,ax = plt.subplots(1,2,figsize=(15,6))\n",
    "\n",
    "sns.barplot(y='franch_year',x='fg%',data=high_convs,ax=ax[0])\n",
    "sns.barplot(y='franch_year',x='fg%',data=low_convs,ax=ax[1])\n",
    "ax[0].set_title('High Shot Conversions')\n",
    "ax[0].set_ylabel('')\n",
    "ax[1].set_title('Low Shot Conversions')\n",
    "ax[1].set_ylabel('');"
   ]
  },
  {
   "cell_type": "code",
   "execution_count": 24,
   "id": "a020e7aa",
   "metadata": {},
   "outputs": [
    {
     "data": {
      "image/png": "[encoded data removed]",
      "text/plain": [
       "<Figure size 432x288 with 1 Axes>"
      ]
     },
     "metadata": {
      "needs_background": "light"
     },
     "output_type": "display_data"
    }
   ],
   "source": [
    "non_zeros.groupby('year')['fg%'].mean().plot.line()\n",
    "plt.title('Average Shot Conversion Over the Years');"
   ]
  },
  {
   "cell_type": "markdown",
   "id": "d4cd9ba7",
   "metadata": {},
   "source": [
    "- While the attempts at goal reduced, the shot accuracy have generally improved over the years\n",
    "\n",
    "\n",
    "- NBA teams between the mid 70s and mid 80s converted a lot of shots\n",
    "\n",
    "\n",
    "- NBA teams at the start of the league converted very few shots. In 1946, 7 teams failed to convert over 70 percent of their shots\n",
    "\n",
    "\n",
    "- Los Angeles Lakers had the highest conversion rate in '78, '79, '82, '83, '84, and '85\n",
    "\n",
    "\n",
    "- The high conversion teams were only able to convert just a bit above half of their attempts at goal\n",
    "\n",
    "\n",
    "- Detroit Falcons in 1946 were only able to convert less than quarter of their attempts. This is the worst field goal conversion rate in NBA up until 2011"
   ]
  },
  {
   "cell_type": "markdown",
   "id": "3e9c4042",
   "metadata": {},
   "source": [
    "## Free Throws"
   ]
  },
  {
   "cell_type": "markdown",
   "id": "e3baf52e",
   "metadata": {},
   "source": [
    "A free throw, also known as foul shot, is an unguarded scoring attempt that refree awards a basketball player after an opposing team member commits a foul. It is worth one point"
   ]
  },
  {
   "cell_type": "markdown",
   "id": "41b33b9e",
   "metadata": {},
   "source": [
    "### 1. What teams were awarded the most and least free throws in NBA until 2011? "
   ]
  },
  {
   "cell_type": "markdown",
   "id": "725c6657",
   "metadata": {},
   "source": [
    "Not all teams played the same number of games. Let's create another column, **ft_attempts_pg**"
   ]
  },
  {
   "cell_type": "code",
   "execution_count": 25,
   "id": "d619200b",
   "metadata": {},
   "outputs": [],
   "source": [
    "# let's exclude teams with 0 games and 0 ft attempts\n",
    "non_zeros = nba[(nba.ft_attempts!=0)&(nba.games_played!=0)]\n",
    "non_zeros['ft_attempts_pg'] = non_zeros['ft_attempts']/non_zeros['games_played']"
   ]
  },
  {
   "cell_type": "code",
   "execution_count": 26,
   "id": "4e194b09",
   "metadata": {},
   "outputs": [],
   "source": [
    "most_attempts = non_zeros.sort_values(by='ft_attempts_pg',ascending=False).iloc[:10]\n",
    "least_attempts = non_zeros.sort_values(by='ft_attempts_pg',ascending=True).iloc[:10]"
   ]
  },
  {
   "cell_type": "code",
   "execution_count": 27,
   "id": "d4194338",
   "metadata": {},
   "outputs": [
    {
     "data": {
      "image/png": "[encoded data removed]",
      "text/plain": [
       "<Figure size 1080x432 with 2 Axes>"
      ]
     },
     "metadata": {
      "needs_background": "light"
     },
     "output_type": "display_data"
    }
   ],
   "source": [
    "f,ax = plt.subplots(1,2,figsize=(15,6))\n",
    "\n",
    "sns.barplot(y='franch_year',x='ft_attempts_pg',data=most_attempts,ax=ax[0])\n",
    "sns.barplot(y='franch_year',x='ft_attempts_pg',data=least_attempts,ax=ax[1])\n",
    "ax[0].set_title('Most Free Throw Attempts Per Game')\n",
    "ax[0].set_ylabel('')\n",
    "ax[1].set_title('Least Free Throw Attempts Per Game')\n",
    "ax[1].set_ylabel('');"
   ]
  },
  {
   "cell_type": "markdown",
   "id": "3038d75a",
   "metadata": {},
   "source": [
    "- More free throws were awarded in the 1900s than in the 2000s\n",
    "\n",
    "- In 1957 alone, 3 different teams were awarded over 40 free throws per game"
   ]
  },
  {
   "cell_type": "code",
   "execution_count": 28,
   "id": "f46e4565",
   "metadata": {},
   "outputs": [
    {
     "data": {
      "image/png": "[encoded data removed]",
      "text/plain": [
       "<Figure size 432x288 with 1 Axes>"
      ]
     },
     "metadata": {
      "needs_background": "light"
     },
     "output_type": "display_data"
    }
   ],
   "source": [
    "non_zeros.groupby('year').ft_attempts_pg.mean().plot.line()\n",
    "plt.title('Average Free Throws awarded per Game Over the Years');"
   ]
  },
  {
   "cell_type": "markdown",
   "id": "926e8e74",
   "metadata": {},
   "source": [
    "### 2. Which teams had the highest and lowest free throws conversion in NBA up until 2011? "
   ]
  },
  {
   "cell_type": "markdown",
   "id": "26290894",
   "metadata": {},
   "source": [
    "We'll create another column, **fg%**."
   ]
  },
  {
   "cell_type": "code",
   "execution_count": 29,
   "id": "44544667",
   "metadata": {
    "scrolled": true
   },
   "outputs": [
    {
     "data": {
      "image/png": "[encoded data removed]",
      "text/plain": [
       "<Figure size 1080x432 with 2 Axes>"
      ]
     },
     "metadata": {
      "needs_background": "light"
     },
     "output_type": "display_data"
    }
   ],
   "source": [
    "non_zeros['ft%'] = non_zeros['ft_made']*100/non_zeros['ft_attempts']\n",
    "\n",
    "high_convs = non_zeros.sort_values(by='ft%',ascending=False).iloc[:10]\n",
    "low_convs = non_zeros.sort_values(by='ft%',ascending=True).iloc[:10]\n",
    "f,ax = plt.subplots(1,2,figsize=(15,6))\n",
    "\n",
    "sns.barplot(y='franch_year',x='ft%',data=high_convs,ax=ax[0])\n",
    "sns.barplot(y='franch_year',x='ft%',data=low_convs,ax=ax[1])\n",
    "ax[0].set_title('High Free Throw Conversions')\n",
    "ax[0].set_ylabel('')\n",
    "ax[1].set_title('Low Free Throw Conversions')\n",
    "ax[1].set_ylabel('');"
   ]
  },
  {
   "cell_type": "code",
   "execution_count": 30,
   "id": "f179dce1",
   "metadata": {},
   "outputs": [
    {
     "data": {
      "image/png": "[encoded data removed]",
      "text/plain": [
       "<Figure size 432x288 with 1 Axes>"
      ]
     },
     "metadata": {
      "needs_background": "light"
     },
     "output_type": "display_data"
    }
   ],
   "source": [
    "non_zeros.groupby('year')['ft%'].mean().plot.line()\n",
    "plt.title('Average Free Throw Accuracy Over the Years');"
   ]
  },
  {
   "cell_type": "markdown",
   "id": "e216f959",
   "metadata": {},
   "source": [
    "- Free Throw Conversion has improved as the league progressed"
   ]
  },
  {
   "cell_type": "markdown",
   "id": "b397a490",
   "metadata": {},
   "source": [
    "## Treys"
   ]
  },
  {
   "cell_type": "markdown",
   "id": "f2ecdaca",
   "metadata": {},
   "source": [
    "### 1. Which teams attempted the most and least treys in NBA up until 2011? "
   ]
  },
  {
   "cell_type": "markdown",
   "id": "3870f454",
   "metadata": {},
   "source": [
    "Not all teams played the same number of games. Let's create another column, **treys_attempts_pg**"
   ]
  },
  {
   "cell_type": "code",
   "execution_count": 31,
   "id": "5037b585",
   "metadata": {},
   "outputs": [],
   "source": [
    "# let's exclude teams with 0 games and 0 treys attempts\n",
    "non_zeros = nba[(nba.treys_attempts!=0)&(nba.games_played!=0)]\n",
    "non_zeros['treys_attempts_pg'] = non_zeros['treys_attempts']/non_zeros['games_played']"
   ]
  },
  {
   "cell_type": "code",
   "execution_count": 32,
   "id": "61269506",
   "metadata": {},
   "outputs": [],
   "source": [
    "most_attempts = non_zeros.sort_values(by='treys_attempts_pg',ascending=False).iloc[:10]\n",
    "least_attempts = non_zeros.sort_values(by='treys_attempts_pg',ascending=True).iloc[:10]"
   ]
  },
  {
   "cell_type": "code",
   "execution_count": 33,
   "id": "6df48073",
   "metadata": {
    "scrolled": true
   },
   "outputs": [
    {
     "data": {
      "image/png": "[encoded data removed]",
      "text/plain": [
       "<Figure size 1080x432 with 2 Axes>"
      ]
     },
     "metadata": {
      "needs_background": "light"
     },
     "output_type": "display_data"
    }
   ],
   "source": [
    "f,ax = plt.subplots(1,2,figsize=(15,6))\n",
    "\n",
    "sns.barplot(y='franch_year',x='treys_attempts_pg',data=most_attempts,ax=ax[0])\n",
    "sns.barplot(y='franch_year',x='treys_attempts_pg',data=least_attempts,ax=ax[1])\n",
    "ax[0].set_title('Most Treys Attempts Per Game')\n",
    "ax[0].set_ylabel('')\n",
    "ax[1].set_title('Least Treys Attempts Per Game')\n",
    "ax[1].set_ylabel('');"
   ]
  },
  {
   "cell_type": "code",
   "execution_count": 34,
   "id": "5ff6eaae",
   "metadata": {},
   "outputs": [
    {
     "data": {
      "image/png": "[encoded data removed]",
      "text/plain": [
       "<Figure size 432x288 with 1 Axes>"
      ]
     },
     "metadata": {
      "needs_background": "light"
     },
     "output_type": "display_data"
    }
   ],
   "source": [
    "non_zeros.groupby('year').treys_attempts_pg.mean().plot.line()\n",
    "plt.title('Average Treys attempted per Game Over the Years');"
   ]
  },
  {
   "cell_type": "markdown",
   "id": "80808eb7",
   "metadata": {},
   "source": [
    "- Teams have attempted more treys in the 2000s than they did in the 1900s. In 2008, two teams averaged over 25 treys per game\n",
    "\n",
    "\n",
    "- Between 1979 and 1982, Los Angeles Lakers attempted the least treys per game"
   ]
  },
  {
   "cell_type": "markdown",
   "id": "f7bb180d",
   "metadata": {},
   "source": [
    "### 2. Which teams had the highest and lowest treys conversion in NBA up until 2011? "
   ]
  },
  {
   "cell_type": "markdown",
   "id": "b5a873f8",
   "metadata": {},
   "source": [
    "We'll create another column, **treys%**."
   ]
  },
  {
   "cell_type": "code",
   "execution_count": 35,
   "id": "e2056954",
   "metadata": {},
   "outputs": [
    {
     "data": {
      "image/png": "[encoded data removed]",
      "text/plain": [
       "<Figure size 1080x432 with 2 Axes>"
      ]
     },
     "metadata": {
      "needs_background": "light"
     },
     "output_type": "display_data"
    }
   ],
   "source": [
    "non_zeros['treys%'] = non_zeros['treys_made']*100/non_zeros['treys_attempts']\n",
    "\n",
    "high_convs = non_zeros.sort_values(by='treys%',ascending=False).iloc[:10]\n",
    "low_convs = non_zeros.sort_values(by='treys%',ascending=True).iloc[:10]\n",
    "f,ax = plt.subplots(1,2,figsize=(15,6))\n",
    "\n",
    "sns.barplot(y='franch_year',x='treys%',data=high_convs,ax=ax[0])\n",
    "sns.barplot(y='franch_year',x='treys%',data=low_convs,ax=ax[1])\n",
    "ax[0].set_title('High Treys Conversions')\n",
    "ax[0].set_ylabel('')\n",
    "ax[1].set_title('Low Treys Conversions')\n",
    "ax[1].set_ylabel('');"
   ]
  },
  {
   "cell_type": "code",
   "execution_count": 36,
   "id": "dfaf1109",
   "metadata": {},
   "outputs": [
    {
     "data": {
      "image/png": "[encoded data removed]",
      "text/plain": [
       "<Figure size 432x288 with 1 Axes>"
      ]
     },
     "metadata": {
      "needs_background": "light"
     },
     "output_type": "display_data"
    }
   ],
   "source": [
    "non_zeros.groupby('year')['treys%'].mean().plot.line()\n",
    "plt.title('Average Treys Conversion Over the Years');"
   ]
  },
  {
   "cell_type": "markdown",
   "id": "889c6252",
   "metadata": {},
   "source": [
    "Generally, Treys conversion have improved over the years"
   ]
  },
  {
   "cell_type": "markdown",
   "id": "53d2a021",
   "metadata": {},
   "source": [
    "## Personal Fouls"
   ]
  },
  {
   "cell_type": "markdown",
   "id": "a1edb603",
   "metadata": {},
   "source": [
    "Which teams committed the most and least fouls in NBA up until 2011? "
   ]
  },
  {
   "cell_type": "markdown",
   "id": "1d5896f1",
   "metadata": {},
   "source": [
    "Not all teams played the same number of games. Let's create another column, **fouls_pg**"
   ]
  },
  {
   "cell_type": "code",
   "execution_count": 37,
   "id": "349eb032",
   "metadata": {},
   "outputs": [],
   "source": [
    "# let's exclude teams with 0 games and 0 fouls\n",
    "non_zeros = nba[(nba.fouls!=0)&(nba.games_played!=0)]\n",
    "non_zeros['fouls_pg'] = non_zeros['fouls']/non_zeros['games_played']"
   ]
  },
  {
   "cell_type": "code",
   "execution_count": 38,
   "id": "d002121b",
   "metadata": {},
   "outputs": [],
   "source": [
    "most_fouls = non_zeros.sort_values(by='fouls_pg',ascending=False).iloc[:10]\n",
    "least_fouls = non_zeros.sort_values(by='fouls_pg',ascending=True).iloc[:10]"
   ]
  },
  {
   "cell_type": "code",
   "execution_count": 39,
   "id": "8dd5cd2c",
   "metadata": {
    "scrolled": true
   },
   "outputs": [
    {
     "data": {
      "image/png": "[encoded data removed]",
      "text/plain": [
       "<Figure size 1080x432 with 2 Axes>"
      ]
     },
     "metadata": {
      "needs_background": "light"
     },
     "output_type": "display_data"
    }
   ],
   "source": [
    "f,ax = plt.subplots(1,2,figsize=(15,6))\n",
    "\n",
    "sns.barplot(y='franch_year',x='fouls_pg',data=most_fouls,ax=ax[0])\n",
    "sns.barplot(y='franch_year',x='fouls_pg',data=least_fouls,ax=ax[1])\n",
    "ax[0].set_title('Most Fouls Per Game')\n",
    "ax[0].set_ylabel('')\n",
    "ax[1].set_title('Least Fouls Per Game')\n",
    "ax[1].set_ylabel('');"
   ]
  },
  {
   "cell_type": "code",
   "execution_count": 40,
   "id": "e8a31c05",
   "metadata": {},
   "outputs": [
    {
     "data": {
      "image/png": "[encoded data removed]",
      "text/plain": [
       "<Figure size 432x288 with 1 Axes>"
      ]
     },
     "metadata": {
      "needs_background": "light"
     },
     "output_type": "display_data"
    }
   ],
   "source": [
    "non_zeros.groupby('year').fouls_pg.mean().plot.line()\n",
    "plt.title('Average Personal Fouls Commited per Game Over the Years');"
   ]
  },
  {
   "cell_type": "markdown",
   "id": "873909d5",
   "metadata": {},
   "source": [
    "## Steals"
   ]
  },
  {
   "cell_type": "markdown",
   "id": "85419d89",
   "metadata": {},
   "source": [
    "This is the number of times a defensive player or team takes the ball from a player on offense, causing a turnover"
   ]
  },
  {
   "cell_type": "markdown",
   "id": "0e511c4c",
   "metadata": {},
   "source": [
    "Which teams made the most and least steals in NBA up until 2011? "
   ]
  },
  {
   "cell_type": "markdown",
   "id": "345b4391",
   "metadata": {},
   "source": [
    "Not all teams played the same number of games. Let's create another column, **steals_pg**"
   ]
  },
  {
   "cell_type": "code",
   "execution_count": 41,
   "id": "1daef0ee",
   "metadata": {},
   "outputs": [],
   "source": [
    "# let's exclude teams with 0 games and 0 fouls\n",
    "non_zeros = nba[(nba.steals!=0)&(nba.games_played!=0)]\n",
    "non_zeros['steals_pg'] = non_zeros['steals']/non_zeros['games_played']"
   ]
  },
  {
   "cell_type": "code",
   "execution_count": 42,
   "id": "eb47aecb",
   "metadata": {},
   "outputs": [],
   "source": [
    "most_steals = non_zeros.sort_values(by='steals_pg',ascending=False).iloc[:10]\n",
    "least_steals = non_zeros.sort_values(by='steals_pg',ascending=True).iloc[:10]"
   ]
  },
  {
   "cell_type": "code",
   "execution_count": 43,
   "id": "d6fd2865",
   "metadata": {
    "scrolled": false
   },
   "outputs": [
    {
     "data": {
      "image/png": "[encoded data removed]",
      "text/plain": [
       "<Figure size 1080x432 with 2 Axes>"
      ]
     },
     "metadata": {
      "needs_background": "light"
     },
     "output_type": "display_data"
    }
   ],
   "source": [
    "f,ax = plt.subplots(1,2,figsize=(15,6))\n",
    "\n",
    "sns.barplot(y='franch_year',x='steals_pg',data=most_steals,ax=ax[0])\n",
    "sns.barplot(y='franch_year',x='steals_pg',data=least_steals,ax=ax[1])\n",
    "ax[0].set_title('Most Steals Per Game')\n",
    "ax[0].set_ylabel('')\n",
    "ax[1].set_title('Least Steals Per Game')\n",
    "ax[1].set_ylabel('');"
   ]
  },
  {
   "cell_type": "code",
   "execution_count": 44,
   "id": "6dab2ab4",
   "metadata": {},
   "outputs": [
    {
     "data": {
      "image/png": "[encoded data removed]",
      "text/plain": [
       "<Figure size 432x288 with 1 Axes>"
      ]
     },
     "metadata": {
      "needs_background": "light"
     },
     "output_type": "display_data"
    }
   ],
   "source": [
    "non_zeros.groupby('year').steals_pg.mean().plot.line()\n",
    "plt.title('Average Steals made per Game Over the Years');"
   ]
  },
  {
   "cell_type": "markdown",
   "id": "bb6d5ec2",
   "metadata": {},
   "source": [
    "Teams in the 1900s made more steals than teams in the 2000s"
   ]
  },
  {
   "cell_type": "markdown",
   "id": "bd00319d",
   "metadata": {},
   "source": [
    "## Turnovers"
   ]
  },
  {
   "cell_type": "markdown",
   "id": "1f4fadf8",
   "metadata": {},
   "source": [
    "In basketball, a turnover occurs when a team loses possession of the ball to the opposing team before a player takes a shot at their team's basket"
   ]
  },
  {
   "cell_type": "markdown",
   "id": "89c396eb",
   "metadata": {},
   "source": [
    "Which teams made the most and least turnovers in NBA up until 2011? "
   ]
  },
  {
   "cell_type": "markdown",
   "id": "39bc8e36",
   "metadata": {},
   "source": [
    "Not all teams played the same number of games. Let's create another column, **turnovers_pg**"
   ]
  },
  {
   "cell_type": "code",
   "execution_count": 45,
   "id": "9131068d",
   "metadata": {},
   "outputs": [],
   "source": [
    "# let's exclude teams with 0 games and 0 fouls\n",
    "non_zeros = nba[(nba.turnovers!=0)&(nba.games_played!=0)]\n",
    "non_zeros['turnovers_pg'] = non_zeros['turnovers']/non_zeros['games_played']"
   ]
  },
  {
   "cell_type": "code",
   "execution_count": 46,
   "id": "3a447607",
   "metadata": {},
   "outputs": [],
   "source": [
    "most_turnovers = non_zeros.sort_values(by='turnovers_pg',ascending=False).iloc[:10]\n",
    "least_turnovers = non_zeros.sort_values(by='turnovers_pg',ascending=True).iloc[:10]"
   ]
  },
  {
   "cell_type": "code",
   "execution_count": 47,
   "id": "4109c62d",
   "metadata": {
    "scrolled": true
   },
   "outputs": [
    {
     "data": {
      "image/png": "[encoded data removed]",
      "text/plain": [
       "<Figure size 1080x432 with 2 Axes>"
      ]
     },
     "metadata": {
      "needs_background": "light"
     },
     "output_type": "display_data"
    }
   ],
   "source": [
    "f,ax = plt.subplots(1,2,figsize=(15,6))\n",
    "\n",
    "sns.barplot(y='franch_year',x='turnovers_pg',data=most_turnovers,ax=ax[0])\n",
    "sns.barplot(y='franch_year',x='turnovers_pg',data=least_turnovers,ax=ax[1])\n",
    "ax[0].set_title('Most Turnovers Per Game')\n",
    "ax[0].set_ylabel('')\n",
    "ax[1].set_title('Least Turnovers Per Game')\n",
    "ax[1].set_ylabel('');"
   ]
  },
  {
   "cell_type": "code",
   "execution_count": 48,
   "id": "835374ca",
   "metadata": {},
   "outputs": [
    {
     "data": {
      "image/png": "[encoded data removed]",
      "text/plain": [
       "<Figure size 432x288 with 1 Axes>"
      ]
     },
     "metadata": {
      "needs_background": "light"
     },
     "output_type": "display_data"
    }
   ],
   "source": [
    "non_zeros.groupby('year').turnovers_pg.mean().plot.line()\n",
    "plt.title('Average Turnovers made per Game Over the Years');"
   ]
  },
  {
   "cell_type": "markdown",
   "id": "f44057e6",
   "metadata": {},
   "source": [
    "Turnovers were more frequent in the 1900s than in the 2000s"
   ]
  },
  {
   "cell_type": "markdown",
   "id": "f2cbd3d1",
   "metadata": {},
   "source": [
    "## Blocks"
   ]
  },
  {
   "cell_type": "markdown",
   "id": "fdf909d2",
   "metadata": {},
   "source": [
    "In basketball, a block occurs when an offensive player attempts a shot, and the defense player tips the ball, blocking their chance to score"
   ]
  },
  {
   "cell_type": "markdown",
   "id": "9a111ade",
   "metadata": {},
   "source": [
    "Which teams made the most and least blocks in NBA up until 2011? "
   ]
  },
  {
   "cell_type": "markdown",
   "id": "f51a8afc",
   "metadata": {},
   "source": [
    "Not all teams played the same number of games. Let's create another column, **blocks_pg**"
   ]
  },
  {
   "cell_type": "code",
   "execution_count": 49,
   "id": "0b55ec21",
   "metadata": {},
   "outputs": [],
   "source": [
    "# let's exclude teams with 0 games and 0 fouls\n",
    "non_zeros = nba[(nba.blocks!=0)&(nba.games_played!=0)]\n",
    "non_zeros['blocks_pg'] = non_zeros['blocks']/non_zeros['games_played']"
   ]
  },
  {
   "cell_type": "code",
   "execution_count": 50,
   "id": "fac308dd",
   "metadata": {},
   "outputs": [],
   "source": [
    "most_blocks = non_zeros.sort_values(by='blocks_pg',ascending=False).iloc[:10]\n",
    "least_blocks = non_zeros.sort_values(by='blocks_pg',ascending=True).iloc[:10]"
   ]
  },
  {
   "cell_type": "code",
   "execution_count": 51,
   "id": "03476a58",
   "metadata": {
    "scrolled": true
   },
   "outputs": [
    {
     "data": {
      "image/png": "[encoded data removed]",
      "text/plain": [
       "<Figure size 1080x432 with 2 Axes>"
      ]
     },
     "metadata": {
      "needs_background": "light"
     },
     "output_type": "display_data"
    }
   ],
   "source": [
    "f,ax = plt.subplots(1,2,figsize=(15,6))\n",
    "\n",
    "sns.barplot(y='franch_year',x='blocks_pg',data=most_blocks,ax=ax[0])\n",
    "sns.barplot(y='franch_year',x='blocks_pg',data=least_blocks,ax=ax[1])\n",
    "ax[0].set_title('Most Blocks Per Game')\n",
    "ax[0].set_ylabel('')\n",
    "ax[1].set_title('Least Blocks Per Game')\n",
    "ax[1].set_ylabel('');"
   ]
  },
  {
   "cell_type": "code",
   "execution_count": 52,
   "id": "f1bfb2bb",
   "metadata": {},
   "outputs": [
    {
     "data": {
      "image/png": "[encoded data removed]",
      "text/plain": [
       "<Figure size 432x288 with 1 Axes>"
      ]
     },
     "metadata": {
      "needs_background": "light"
     },
     "output_type": "display_data"
    }
   ],
   "source": [
    "non_zeros.groupby('year').blocks_pg.mean().plot.line()\n",
    "plt.title('Average blocks made per Game Over the Years');"
   ]
  },
  {
   "cell_type": "markdown",
   "id": "73381c4d",
   "metadata": {},
   "source": [
    "## Points"
   ]
  },
  {
   "cell_type": "markdown",
   "id": "f6a637c9",
   "metadata": {},
   "source": [
    "Which teams made the most and least points in NBA up until 2011? "
   ]
  },
  {
   "cell_type": "markdown",
   "id": "cf8c538d",
   "metadata": {},
   "source": [
    "Not all teams played the same number of games. Let's create another column, **points_pg**"
   ]
  },
  {
   "cell_type": "code",
   "execution_count": 53,
   "id": "31905e58",
   "metadata": {},
   "outputs": [],
   "source": [
    "# let's exclude teams with 0 games and 0 fouls\n",
    "non_zeros = nba[(nba.points!=0)&(nba.games_played!=0)]\n",
    "non_zeros['points_pg'] = non_zeros['points']/non_zeros['games_played']"
   ]
  },
  {
   "cell_type": "code",
   "execution_count": 54,
   "id": "c22846c9",
   "metadata": {},
   "outputs": [],
   "source": [
    "most_points = non_zeros.sort_values(by='points_pg',ascending=False).iloc[:10]\n",
    "least_points = non_zeros.sort_values(by='points_pg',ascending=True).iloc[:10]"
   ]
  },
  {
   "cell_type": "code",
   "execution_count": 55,
   "id": "fad1c437",
   "metadata": {
    "scrolled": true
   },
   "outputs": [
    {
     "data": {
      "image/png": "[encoded data removed]",
      "text/plain": [
       "<Figure size 1080x432 with 2 Axes>"
      ]
     },
     "metadata": {
      "needs_background": "light"
     },
     "output_type": "display_data"
    }
   ],
   "source": [
    "f,ax = plt.subplots(1,2,figsize=(15,6))\n",
    "\n",
    "sns.barplot(y='franch_year',x='points_pg',data=most_points,ax=ax[0])\n",
    "sns.barplot(y='franch_year',x='points_pg',data=least_points,ax=ax[1])\n",
    "ax[0].set_title('Most Points Per Game')\n",
    "ax[0].set_ylabel('')\n",
    "ax[1].set_title('Least Points Per Game')\n",
    "ax[1].set_ylabel('');"
   ]
  },
  {
   "cell_type": "code",
   "execution_count": 56,
   "id": "4b5954c9",
   "metadata": {},
   "outputs": [
    {
     "data": {
      "image/png": "[encoded data removed]",
      "text/plain": [
       "<Figure size 432x288 with 1 Axes>"
      ]
     },
     "metadata": {
      "needs_background": "light"
     },
     "output_type": "display_data"
    }
   ],
   "source": [
    "non_zeros.groupby('year').points_pg.mean().plot.line()\n",
    "plt.title('Average Points accumulated per Game Over the Years');"
   ]
  },
  {
   "cell_type": "markdown",
   "id": "9660dfe6",
   "metadata": {},
   "source": [
    "## Wins"
   ]
  },
  {
   "cell_type": "markdown",
   "id": "1ff4f394",
   "metadata": {},
   "source": [
    "Which teams made the most and least wins in NBA up until 2011? "
   ]
  },
  {
   "cell_type": "markdown",
   "id": "b98762ea",
   "metadata": {},
   "source": [
    "Not all teams played the same number of games. Let's create another column, **win%**"
   ]
  },
  {
   "cell_type": "code",
   "execution_count": 57,
   "id": "00fc871a",
   "metadata": {},
   "outputs": [],
   "source": [
    "# let's exclude teams with 0 games and 0 fouls\n",
    "non_zeros = nba[(nba.tot_wins!=0)&(nba.games_played!=0)]\n",
    "non_zeros['win%'] = non_zeros['tot_wins']*100/non_zeros['games_played']"
   ]
  },
  {
   "cell_type": "code",
   "execution_count": 58,
   "id": "646e8e76",
   "metadata": {},
   "outputs": [],
   "source": [
    "high_wins = non_zeros.sort_values(by='win%',ascending=False).iloc[:10]\n",
    "low_wins = non_zeros.sort_values(by='win%',ascending=True).iloc[:10]"
   ]
  },
  {
   "cell_type": "code",
   "execution_count": 59,
   "id": "ce336185",
   "metadata": {
    "scrolled": true
   },
   "outputs": [
    {
     "data": {
      "image/png": "[encoded data removed]",
      "text/plain": [
       "<Figure size 1080x432 with 2 Axes>"
      ]
     },
     "metadata": {
      "needs_background": "light"
     },
     "output_type": "display_data"
    }
   ],
   "source": [
    "f,ax = plt.subplots(1,2,figsize=(15,6))\n",
    "\n",
    "sns.barplot(y='franch_year',x='win%',data=high_wins,ax=ax[0])\n",
    "sns.barplot(y='franch_year',x='win%',data=low_wins,ax=ax[1])\n",
    "ax[0].set_title('Top Win Percentage')\n",
    "ax[0].set_ylabel('')\n",
    "ax[1].set_title('Least Win Percentage')\n",
    "ax[1].set_ylabel('');"
   ]
  },
  {
   "cell_type": "code",
   "execution_count": 60,
   "id": "eb5bc4b3",
   "metadata": {},
   "outputs": [
    {
     "data": {
      "image/png": "[encoded data removed]",
      "text/plain": [
       "<Figure size 432x288 with 1 Axes>"
      ]
     },
     "metadata": {
      "needs_background": "light"
     },
     "output_type": "display_data"
    }
   ],
   "source": [
    "non_zeros.groupby('year')['win%'].mean().plot.line()\n",
    "plt.title('Average Win Percentage Over the Years');"
   ]
  },
  {
   "cell_type": "markdown",
   "id": "48ca5b39",
   "metadata": {},
   "source": [
    "# 4. Baseline Model"
   ]
  },
  {
   "cell_type": "code",
   "execution_count": 61,
   "id": "47d366a8",
   "metadata": {},
   "outputs": [],
   "source": [
    "# select playoffs teams\n",
    "playoffs = nba[nba.playoff.notna()].reset_index(drop=True)\n",
    "playoffs['made_finals'] = ((playoffs.playoff=='F') | (playoffs.playoff=='NC')).astype(int)\n",
    "playoff_abbrev = abbrev[abbrev.abbrev_type=='Playoffs']\n",
    "playoffs['playoff'] = playoffs.merge(playoff_abbrev,how='left',left_on='playoff',right_on='code')['full_name']"
   ]
  },
  {
   "cell_type": "code",
   "execution_count": 62,
   "id": "38584c65",
   "metadata": {},
   "outputs": [
    {
     "data": {
      "text/html": [
       "<div>\n",
       "<style scoped>\n",
       "    .dataframe tbody tr th:only-of-type {\n",
       "        vertical-align: middle;\n",
       "    }\n",
       "\n",
       "    .dataframe tbody tr th {\n",
       "        vertical-align: top;\n",
       "    }\n",
       "\n",
       "    .dataframe thead th {\n",
       "        text-align: right;\n",
       "    }\n",
       "</style>\n",
       "<table border=\"1\" class=\"dataframe\">\n",
       "  <thead>\n",
       "    <tr style=\"text-align: right;\">\n",
       "      <th></th>\n",
       "      <th>year</th>\n",
       "      <th>lg_id</th>\n",
       "      <th>tm_id</th>\n",
       "      <th>franch_id</th>\n",
       "      <th>conf_id</th>\n",
       "      <th>div_id</th>\n",
       "      <th>div_rank</th>\n",
       "      <th>conf_rank</th>\n",
       "      <th>playoff</th>\n",
       "      <th>name</th>\n",
       "      <th>fg_made</th>\n",
       "      <th>fg_attempts</th>\n",
       "      <th>ft_made</th>\n",
       "      <th>ft_attempts</th>\n",
       "      <th>treys_made</th>\n",
       "      <th>treys_attempts</th>\n",
       "      <th>off_reb</th>\n",
       "      <th>def_reb</th>\n",
       "      <th>reb</th>\n",
       "      <th>assists</th>\n",
       "      <th>fouls</th>\n",
       "      <th>steals</th>\n",
       "      <th>turnovers</th>\n",
       "      <th>blocks</th>\n",
       "      <th>points</th>\n",
       "      <th>opp_fg_made</th>\n",
       "      <th>opp_fg_attempts</th>\n",
       "      <th>opp_ft_made</th>\n",
       "      <th>opp_ft_attempts</th>\n",
       "      <th>opp_treys_made</th>\n",
       "      <th>opp_treys_attempts</th>\n",
       "      <th>opp_off_reb</th>\n",
       "      <th>opp_def_reb</th>\n",
       "      <th>opp_reb</th>\n",
       "      <th>opp_assists</th>\n",
       "      <th>opp_fouls</th>\n",
       "      <th>opp_steals</th>\n",
       "      <th>opp_turnovers</th>\n",
       "      <th>opp_blocks</th>\n",
       "      <th>opp_points</th>\n",
       "      <th>tm_reb</th>\n",
       "      <th>opp_tm_reb</th>\n",
       "      <th>home_wins</th>\n",
       "      <th>home_losses</th>\n",
       "      <th>away_wins</th>\n",
       "      <th>away_losses</th>\n",
       "      <th>net_wins</th>\n",
       "      <th>net_losses</th>\n",
       "      <th>conf_wins</th>\n",
       "      <th>conf_losses</th>\n",
       "      <th>div_wins</th>\n",
       "      <th>div_losses</th>\n",
       "      <th>pace</th>\n",
       "      <th>tot_wins</th>\n",
       "      <th>tot_losses</th>\n",
       "      <th>games_played</th>\n",
       "      <th>mins_played</th>\n",
       "      <th>home_ground</th>\n",
       "      <th>attendance</th>\n",
       "      <th>bbtm_id</th>\n",
       "      <th>franch_year</th>\n",
       "      <th>made_finals</th>\n",
       "    </tr>\n",
       "  </thead>\n",
       "  <tbody>\n",
       "    <tr>\n",
       "      <th>0</th>\n",
       "      <td>1946</td>\n",
       "      <td>NBA</td>\n",
       "      <td>CHS</td>\n",
       "      <td>CHS</td>\n",
       "      <td>NaN</td>\n",
       "      <td>WD</td>\n",
       "      <td>1</td>\n",
       "      <td>0</td>\n",
       "      <td>Lost finals</td>\n",
       "      <td>Chicago Stags</td>\n",
       "      <td>1879</td>\n",
       "      <td>6309</td>\n",
       "      <td>939</td>\n",
       "      <td>1550</td>\n",
       "      <td>0</td>\n",
       "      <td>0</td>\n",
       "      <td>0</td>\n",
       "      <td>0</td>\n",
       "      <td>0</td>\n",
       "      <td>436</td>\n",
       "      <td>1473</td>\n",
       "      <td>0</td>\n",
       "      <td>0</td>\n",
       "      <td>0</td>\n",
       "      <td>4697</td>\n",
       "      <td>0</td>\n",
       "      <td>0</td>\n",
       "      <td>0</td>\n",
       "      <td>0</td>\n",
       "      <td>0</td>\n",
       "      <td>0</td>\n",
       "      <td>0</td>\n",
       "      <td>0</td>\n",
       "      <td>0</td>\n",
       "      <td>0</td>\n",
       "      <td>0</td>\n",
       "      <td>0</td>\n",
       "      <td>0</td>\n",
       "      <td>0</td>\n",
       "      <td>4473</td>\n",
       "      <td>0</td>\n",
       "      <td>0</td>\n",
       "      <td>22</td>\n",
       "      <td>9</td>\n",
       "      <td>17</td>\n",
       "      <td>13</td>\n",
       "      <td>0</td>\n",
       "      <td>0</td>\n",
       "      <td>0</td>\n",
       "      <td>0</td>\n",
       "      <td>17</td>\n",
       "      <td>8</td>\n",
       "      <td>0</td>\n",
       "      <td>39</td>\n",
       "      <td>22</td>\n",
       "      <td>61</td>\n",
       "      <td>14840.0</td>\n",
       "      <td>Chicago Stadium</td>\n",
       "      <td>0</td>\n",
       "      <td>CHS</td>\n",
       "      <td>CHS(1946)</td>\n",
       "      <td>1</td>\n",
       "    </tr>\n",
       "    <tr>\n",
       "      <th>1</th>\n",
       "      <td>1946</td>\n",
       "      <td>NBA</td>\n",
       "      <td>CLR</td>\n",
       "      <td>CLR</td>\n",
       "      <td>NaN</td>\n",
       "      <td>WD</td>\n",
       "      <td>3</td>\n",
       "      <td>0</td>\n",
       "      <td>Lost round 1</td>\n",
       "      <td>Cleveland Rebels</td>\n",
       "      <td>1674</td>\n",
       "      <td>5699</td>\n",
       "      <td>903</td>\n",
       "      <td>1428</td>\n",
       "      <td>0</td>\n",
       "      <td>0</td>\n",
       "      <td>0</td>\n",
       "      <td>0</td>\n",
       "      <td>0</td>\n",
       "      <td>494</td>\n",
       "      <td>1246</td>\n",
       "      <td>0</td>\n",
       "      <td>0</td>\n",
       "      <td>0</td>\n",
       "      <td>4251</td>\n",
       "      <td>0</td>\n",
       "      <td>0</td>\n",
       "      <td>0</td>\n",
       "      <td>0</td>\n",
       "      <td>0</td>\n",
       "      <td>0</td>\n",
       "      <td>0</td>\n",
       "      <td>0</td>\n",
       "      <td>0</td>\n",
       "      <td>0</td>\n",
       "      <td>0</td>\n",
       "      <td>0</td>\n",
       "      <td>0</td>\n",
       "      <td>0</td>\n",
       "      <td>4308</td>\n",
       "      <td>0</td>\n",
       "      <td>0</td>\n",
       "      <td>17</td>\n",
       "      <td>13</td>\n",
       "      <td>13</td>\n",
       "      <td>17</td>\n",
       "      <td>0</td>\n",
       "      <td>0</td>\n",
       "      <td>0</td>\n",
       "      <td>0</td>\n",
       "      <td>10</td>\n",
       "      <td>14</td>\n",
       "      <td>0</td>\n",
       "      <td>30</td>\n",
       "      <td>30</td>\n",
       "      <td>60</td>\n",
       "      <td>14600.0</td>\n",
       "      <td>Cleveland Arena</td>\n",
       "      <td>0</td>\n",
       "      <td>CLR</td>\n",
       "      <td>CLR(1946)</td>\n",
       "      <td>0</td>\n",
       "    </tr>\n",
       "    <tr>\n",
       "      <th>2</th>\n",
       "      <td>1946</td>\n",
       "      <td>NBA</td>\n",
       "      <td>NYK</td>\n",
       "      <td>NYK</td>\n",
       "      <td>NaN</td>\n",
       "      <td>ED</td>\n",
       "      <td>3</td>\n",
       "      <td>0</td>\n",
       "      <td>Lost semi-finals</td>\n",
       "      <td>New York Knicks</td>\n",
       "      <td>1465</td>\n",
       "      <td>5255</td>\n",
       "      <td>951</td>\n",
       "      <td>1438</td>\n",
       "      <td>0</td>\n",
       "      <td>0</td>\n",
       "      <td>0</td>\n",
       "      <td>0</td>\n",
       "      <td>0</td>\n",
       "      <td>457</td>\n",
       "      <td>1218</td>\n",
       "      <td>0</td>\n",
       "      <td>0</td>\n",
       "      <td>0</td>\n",
       "      <td>3881</td>\n",
       "      <td>0</td>\n",
       "      <td>0</td>\n",
       "      <td>0</td>\n",
       "      <td>0</td>\n",
       "      <td>0</td>\n",
       "      <td>0</td>\n",
       "      <td>0</td>\n",
       "      <td>0</td>\n",
       "      <td>0</td>\n",
       "      <td>0</td>\n",
       "      <td>0</td>\n",
       "      <td>0</td>\n",
       "      <td>0</td>\n",
       "      <td>0</td>\n",
       "      <td>3842</td>\n",
       "      <td>0</td>\n",
       "      <td>0</td>\n",
       "      <td>18</td>\n",
       "      <td>12</td>\n",
       "      <td>15</td>\n",
       "      <td>15</td>\n",
       "      <td>0</td>\n",
       "      <td>0</td>\n",
       "      <td>0</td>\n",
       "      <td>0</td>\n",
       "      <td>13</td>\n",
       "      <td>17</td>\n",
       "      <td>0</td>\n",
       "      <td>33</td>\n",
       "      <td>27</td>\n",
       "      <td>60</td>\n",
       "      <td>14575.0</td>\n",
       "      <td>Madison Square Garden (III)</td>\n",
       "      <td>32767</td>\n",
       "      <td>NYK</td>\n",
       "      <td>NYK(1946)</td>\n",
       "      <td>0</td>\n",
       "    </tr>\n",
       "    <tr>\n",
       "      <th>3</th>\n",
       "      <td>1946</td>\n",
       "      <td>NBA</td>\n",
       "      <td>PHW</td>\n",
       "      <td>GSW</td>\n",
       "      <td>NaN</td>\n",
       "      <td>ED</td>\n",
       "      <td>2</td>\n",
       "      <td>0</td>\n",
       "      <td>Won NBA championship</td>\n",
       "      <td>Philadelphia Warriors</td>\n",
       "      <td>1510</td>\n",
       "      <td>5384</td>\n",
       "      <td>1098</td>\n",
       "      <td>1596</td>\n",
       "      <td>0</td>\n",
       "      <td>0</td>\n",
       "      <td>0</td>\n",
       "      <td>0</td>\n",
       "      <td>0</td>\n",
       "      <td>343</td>\n",
       "      <td>1082</td>\n",
       "      <td>0</td>\n",
       "      <td>0</td>\n",
       "      <td>0</td>\n",
       "      <td>4118</td>\n",
       "      <td>0</td>\n",
       "      <td>0</td>\n",
       "      <td>0</td>\n",
       "      <td>0</td>\n",
       "      <td>0</td>\n",
       "      <td>0</td>\n",
       "      <td>0</td>\n",
       "      <td>0</td>\n",
       "      <td>0</td>\n",
       "      <td>0</td>\n",
       "      <td>0</td>\n",
       "      <td>0</td>\n",
       "      <td>0</td>\n",
       "      <td>0</td>\n",
       "      <td>3909</td>\n",
       "      <td>0</td>\n",
       "      <td>0</td>\n",
       "      <td>23</td>\n",
       "      <td>7</td>\n",
       "      <td>12</td>\n",
       "      <td>18</td>\n",
       "      <td>0</td>\n",
       "      <td>0</td>\n",
       "      <td>0</td>\n",
       "      <td>0</td>\n",
       "      <td>19</td>\n",
       "      <td>11</td>\n",
       "      <td>0</td>\n",
       "      <td>35</td>\n",
       "      <td>25</td>\n",
       "      <td>60</td>\n",
       "      <td>14575.0</td>\n",
       "      <td>Philadelphia Arena</td>\n",
       "      <td>32767</td>\n",
       "      <td>PHW</td>\n",
       "      <td>GSW(1946)</td>\n",
       "      <td>1</td>\n",
       "    </tr>\n",
       "    <tr>\n",
       "      <th>4</th>\n",
       "      <td>1946</td>\n",
       "      <td>NBA</td>\n",
       "      <td>STB</td>\n",
       "      <td>STB</td>\n",
       "      <td>NaN</td>\n",
       "      <td>WD</td>\n",
       "      <td>2</td>\n",
       "      <td>0</td>\n",
       "      <td>Lost round 1</td>\n",
       "      <td>St. Louis Bombers</td>\n",
       "      <td>1601</td>\n",
       "      <td>5877</td>\n",
       "      <td>862</td>\n",
       "      <td>1400</td>\n",
       "      <td>0</td>\n",
       "      <td>0</td>\n",
       "      <td>0</td>\n",
       "      <td>0</td>\n",
       "      <td>0</td>\n",
       "      <td>292</td>\n",
       "      <td>1234</td>\n",
       "      <td>0</td>\n",
       "      <td>0</td>\n",
       "      <td>0</td>\n",
       "      <td>4064</td>\n",
       "      <td>0</td>\n",
       "      <td>0</td>\n",
       "      <td>0</td>\n",
       "      <td>0</td>\n",
       "      <td>0</td>\n",
       "      <td>0</td>\n",
       "      <td>0</td>\n",
       "      <td>0</td>\n",
       "      <td>0</td>\n",
       "      <td>0</td>\n",
       "      <td>0</td>\n",
       "      <td>0</td>\n",
       "      <td>0</td>\n",
       "      <td>0</td>\n",
       "      <td>3911</td>\n",
       "      <td>0</td>\n",
       "      <td>0</td>\n",
       "      <td>22</td>\n",
       "      <td>8</td>\n",
       "      <td>16</td>\n",
       "      <td>15</td>\n",
       "      <td>0</td>\n",
       "      <td>0</td>\n",
       "      <td>0</td>\n",
       "      <td>0</td>\n",
       "      <td>20</td>\n",
       "      <td>5</td>\n",
       "      <td>0</td>\n",
       "      <td>38</td>\n",
       "      <td>23</td>\n",
       "      <td>61</td>\n",
       "      <td>14840.0</td>\n",
       "      <td>St. Louis Arena</td>\n",
       "      <td>0</td>\n",
       "      <td>STB</td>\n",
       "      <td>STB(1946)</td>\n",
       "      <td>0</td>\n",
       "    </tr>\n",
       "  </tbody>\n",
       "</table>\n",
       "</div>"
      ],
      "text/plain": [
       "   year lg_id tm_id franch_id conf_id div_id  div_rank  conf_rank  \\\n",
       "0  1946   NBA   CHS       CHS     NaN     WD         1          0   \n",
       "1  1946   NBA   CLR       CLR     NaN     WD         3          0   \n",
       "2  1946   NBA   NYK       NYK     NaN     ED         3          0   \n",
       "3  1946   NBA   PHW       GSW     NaN     ED         2          0   \n",
       "4  1946   NBA   STB       STB     NaN     WD         2          0   \n",
       "\n",
       "                playoff                   name  fg_made  fg_attempts  ft_made  \\\n",
       "0           Lost finals          Chicago Stags     1879         6309      939   \n",
       "1          Lost round 1       Cleveland Rebels     1674         5699      903   \n",
       "2      Lost semi-finals        New York Knicks     1465         5255      951   \n",
       "3  Won NBA championship  Philadelphia Warriors     1510         5384     1098   \n",
       "4          Lost round 1      St. Louis Bombers     1601         5877      862   \n",
       "\n",
       "   ft_attempts  treys_made  treys_attempts  off_reb  def_reb  reb  assists  \\\n",
       "0         1550           0               0        0        0    0      436   \n",
       "1         1428           0               0        0        0    0      494   \n",
       "2         1438           0               0        0        0    0      457   \n",
       "3         1596           0               0        0        0    0      343   \n",
       "4         1400           0               0        0        0    0      292   \n",
       "\n",
       "   fouls  steals  turnovers  blocks  points  opp_fg_made  opp_fg_attempts  \\\n",
       "0   1473       0          0       0    4697            0                0   \n",
       "1   1246       0          0       0    4251            0                0   \n",
       "2   1218       0          0       0    3881            0                0   \n",
       "3   1082       0          0       0    4118            0                0   \n",
       "4   1234       0          0       0    4064            0                0   \n",
       "\n",
       "   opp_ft_made  opp_ft_attempts  opp_treys_made  opp_treys_attempts  \\\n",
       "0            0                0               0                   0   \n",
       "1            0                0               0                   0   \n",
       "2            0                0               0                   0   \n",
       "3            0                0               0                   0   \n",
       "4            0                0               0                   0   \n",
       "\n",
       "   opp_off_reb  opp_def_reb  opp_reb  opp_assists  opp_fouls  opp_steals  \\\n",
       "0            0            0        0            0          0           0   \n",
       "1            0            0        0            0          0           0   \n",
       "2            0            0        0            0          0           0   \n",
       "3            0            0        0            0          0           0   \n",
       "4            0            0        0            0          0           0   \n",
       "\n",
       "   opp_turnovers  opp_blocks  opp_points  tm_reb  opp_tm_reb  home_wins  \\\n",
       "0              0           0        4473       0           0         22   \n",
       "1              0           0        4308       0           0         17   \n",
       "2              0           0        3842       0           0         18   \n",
       "3              0           0        3909       0           0         23   \n",
       "4              0           0        3911       0           0         22   \n",
       "\n",
       "   home_losses  away_wins  away_losses  net_wins  net_losses  conf_wins  \\\n",
       "0            9         17           13         0           0          0   \n",
       "1           13         13           17         0           0          0   \n",
       "2           12         15           15         0           0          0   \n",
       "3            7         12           18         0           0          0   \n",
       "4            8         16           15         0           0          0   \n",
       "\n",
       "   conf_losses  div_wins  div_losses  pace  tot_wins  tot_losses  \\\n",
       "0            0        17           8     0        39          22   \n",
       "1            0        10          14     0        30          30   \n",
       "2            0        13          17     0        33          27   \n",
       "3            0        19          11     0        35          25   \n",
       "4            0        20           5     0        38          23   \n",
       "\n",
       "   games_played  mins_played                  home_ground  attendance bbtm_id  \\\n",
       "0            61      14840.0              Chicago Stadium           0     CHS   \n",
       "1            60      14600.0              Cleveland Arena           0     CLR   \n",
       "2            60      14575.0  Madison Square Garden (III)       32767     NYK   \n",
       "3            60      14575.0           Philadelphia Arena       32767     PHW   \n",
       "4            61      14840.0              St. Louis Arena           0     STB   \n",
       "\n",
       "  franch_year  made_finals  \n",
       "0   CHS(1946)            1  \n",
       "1   CLR(1946)            0  \n",
       "2   NYK(1946)            0  \n",
       "3   GSW(1946)            1  \n",
       "4   STB(1946)            0  "
      ]
     },
     "execution_count": 62,
     "metadata": {},
     "output_type": "execute_result"
    }
   ],
   "source": [
    "playoffs.head()"
   ]
  },
  {
   "cell_type": "code",
   "execution_count": 63,
   "id": "e5d7086b",
   "metadata": {},
   "outputs": [],
   "source": [
    "# seperate features from target\n",
    "X = playoffs.drop(columns=['lg_id','tm_id','franch_id','playoff','name','home_ground',\n",
    "                           'bbtm_id','franch_year','made_finals'])\n",
    "y = playoffs['made_finals']"
   ]
  },
  {
   "cell_type": "code",
   "execution_count": 64,
   "id": "e78c16f8",
   "metadata": {},
   "outputs": [
    {
     "data": {
      "text/plain": [
       "((575, 53), (192, 53))"
      ]
     },
     "execution_count": 64,
     "metadata": {},
     "output_type": "execute_result"
    }
   ],
   "source": [
    "# create train and test sets\n",
    "from sklearn.model_selection import train_test_split\n",
    "X_train,X_test,y_train,y_test = train_test_split(X,y,test_size=0.25,random_state=42)\n",
    "X_train.shape, X_test.shape"
   ]
  },
  {
   "cell_type": "code",
   "execution_count": 65,
   "id": "9e21981e",
   "metadata": {},
   "outputs": [
    {
     "name": "stdout",
     "output_type": "stream",
     "text": [
      "<class 'pandas.core.frame.DataFrame'>\n",
      "Int64Index: 575 entries, 357 to 102\n",
      "Data columns (total 53 columns):\n",
      " #   Column              Non-Null Count  Dtype  \n",
      "---  ------              --------------  -----  \n",
      " 0   year                575 non-null    int64  \n",
      " 1   conf_id             452 non-null    object \n",
      " 2   div_id              575 non-null    object \n",
      " 3   div_rank            575 non-null    int64  \n",
      " 4   conf_rank           575 non-null    int64  \n",
      " 5   fg_made             575 non-null    int64  \n",
      " 6   fg_attempts         575 non-null    int64  \n",
      " 7   ft_made             575 non-null    int64  \n",
      " 8   ft_attempts         575 non-null    int64  \n",
      " 9   treys_made          575 non-null    int64  \n",
      " 10  treys_attempts      575 non-null    int64  \n",
      " 11  off_reb             575 non-null    int64  \n",
      " 12  def_reb             575 non-null    int64  \n",
      " 13  reb                 575 non-null    int64  \n",
      " 14  assists             575 non-null    int64  \n",
      " 15  fouls               575 non-null    int64  \n",
      " 16  steals              575 non-null    int64  \n",
      " 17  turnovers           575 non-null    int64  \n",
      " 18  blocks              575 non-null    int64  \n",
      " 19  points              575 non-null    int64  \n",
      " 20  opp_fg_made         575 non-null    int64  \n",
      " 21  opp_fg_attempts     575 non-null    int64  \n",
      " 22  opp_ft_made         575 non-null    int64  \n",
      " 23  opp_ft_attempts     575 non-null    int64  \n",
      " 24  opp_treys_made      575 non-null    int64  \n",
      " 25  opp_treys_attempts  575 non-null    int64  \n",
      " 26  opp_off_reb         575 non-null    int64  \n",
      " 27  opp_def_reb         575 non-null    int64  \n",
      " 28  opp_reb             575 non-null    int64  \n",
      " 29  opp_assists         575 non-null    int64  \n",
      " 30  opp_fouls           575 non-null    int64  \n",
      " 31  opp_steals          575 non-null    int64  \n",
      " 32  opp_turnovers       575 non-null    int64  \n",
      " 33  opp_blocks          575 non-null    int64  \n",
      " 34  opp_points          575 non-null    int64  \n",
      " 35  tm_reb              575 non-null    int64  \n",
      " 36  opp_tm_reb          575 non-null    int64  \n",
      " 37  home_wins           575 non-null    int64  \n",
      " 38  home_losses         575 non-null    int64  \n",
      " 39  away_wins           575 non-null    int64  \n",
      " 40  away_losses         575 non-null    int64  \n",
      " 41  net_wins            575 non-null    int64  \n",
      " 42  net_losses          575 non-null    int64  \n",
      " 43  conf_wins           575 non-null    int64  \n",
      " 44  conf_losses         575 non-null    int64  \n",
      " 45  div_wins            575 non-null    int64  \n",
      " 46  div_losses          575 non-null    int64  \n",
      " 47  pace                575 non-null    int64  \n",
      " 48  tot_wins            575 non-null    int64  \n",
      " 49  tot_losses          575 non-null    int64  \n",
      " 50  games_played        575 non-null    int64  \n",
      " 51  mins_played         537 non-null    float64\n",
      " 52  attendance          575 non-null    int64  \n",
      "dtypes: float64(1), int64(50), object(2)\n",
      "memory usage: 242.6+ KB\n"
     ]
    }
   ],
   "source": [
    "X_train.info()"
   ]
  },
  {
   "cell_type": "markdown",
   "id": "c8171bb7",
   "metadata": {},
   "source": [
    "**conf_id** and **mins_played** contain missing values. We can create another category, **missing** for **conf_id** and fill the missing values in **mins_played** with the median"
   ]
  },
  {
   "cell_type": "code",
   "execution_count": 66,
   "id": "01a88264",
   "metadata": {},
   "outputs": [],
   "source": [
    "from sklearn.impute import SimpleImputer\n",
    "from sklearn.base import BaseEstimator,TransformerMixin\n",
    "\n",
    "class Imputer(BaseEstimator,TransformerMixin):\n",
    "    def __init__(self):\n",
    "        self.conf_imputer = SimpleImputer(strategy='constant',fill_value='missing')\n",
    "        self.mins_imputer = SimpleImputer(strategy='median')\n",
    "    \n",
    "    def fit(self,X,y=None):\n",
    "        self.conf_imputer.fit(X['conf_id'].values.reshape(-1,1))\n",
    "        self.mins_imputer.fit(X['mins_played'].values.reshape(-1,1))\n",
    "        return self\n",
    "    \n",
    "    def transform(self,X,y=None):\n",
    "        df = X.copy()\n",
    "        df['conf_id'] = self.conf_imputer.transform(X['conf_id'].values.reshape(-1,1))\n",
    "        df['mins_played'] = self.mins_imputer.transform(X['mins_played'].values.reshape(-1,1))\n",
    "        return df"
   ]
  },
  {
   "cell_type": "code",
   "execution_count": 67,
   "id": "3a06be1d",
   "metadata": {},
   "outputs": [
    {
     "name": "stdout",
     "output_type": "stream",
     "text": [
      "<class 'pandas.core.frame.DataFrame'>\n",
      "Int64Index: 575 entries, 357 to 102\n",
      "Data columns (total 53 columns):\n",
      " #   Column              Non-Null Count  Dtype  \n",
      "---  ------              --------------  -----  \n",
      " 0   year                575 non-null    int64  \n",
      " 1   conf_id             575 non-null    object \n",
      " 2   div_id              575 non-null    object \n",
      " 3   div_rank            575 non-null    int64  \n",
      " 4   conf_rank           575 non-null    int64  \n",
      " 5   fg_made             575 non-null    int64  \n",
      " 6   fg_attempts         575 non-null    int64  \n",
      " 7   ft_made             575 non-null    int64  \n",
      " 8   ft_attempts         575 non-null    int64  \n",
      " 9   treys_made          575 non-null    int64  \n",
      " 10  treys_attempts      575 non-null    int64  \n",
      " 11  off_reb             575 non-null    int64  \n",
      " 12  def_reb             575 non-null    int64  \n",
      " 13  reb                 575 non-null    int64  \n",
      " 14  assists             575 non-null    int64  \n",
      " 15  fouls               575 non-null    int64  \n",
      " 16  steals              575 non-null    int64  \n",
      " 17  turnovers           575 non-null    int64  \n",
      " 18  blocks              575 non-null    int64  \n",
      " 19  points              575 non-null    int64  \n",
      " 20  opp_fg_made         575 non-null    int64  \n",
      " 21  opp_fg_attempts     575 non-null    int64  \n",
      " 22  opp_ft_made         575 non-null    int64  \n",
      " 23  opp_ft_attempts     575 non-null    int64  \n",
      " 24  opp_treys_made      575 non-null    int64  \n",
      " 25  opp_treys_attempts  575 non-null    int64  \n",
      " 26  opp_off_reb         575 non-null    int64  \n",
      " 27  opp_def_reb         575 non-null    int64  \n",
      " 28  opp_reb             575 non-null    int64  \n",
      " 29  opp_assists         575 non-null    int64  \n",
      " 30  opp_fouls           575 non-null    int64  \n",
      " 31  opp_steals          575 non-null    int64  \n",
      " 32  opp_turnovers       575 non-null    int64  \n",
      " 33  opp_blocks          575 non-null    int64  \n",
      " 34  opp_points          575 non-null    int64  \n",
      " 35  tm_reb              575 non-null    int64  \n",
      " 36  opp_tm_reb          575 non-null    int64  \n",
      " 37  home_wins           575 non-null    int64  \n",
      " 38  home_losses         575 non-null    int64  \n",
      " 39  away_wins           575 non-null    int64  \n",
      " 40  away_losses         575 non-null    int64  \n",
      " 41  net_wins            575 non-null    int64  \n",
      " 42  net_losses          575 non-null    int64  \n",
      " 43  conf_wins           575 non-null    int64  \n",
      " 44  conf_losses         575 non-null    int64  \n",
      " 45  div_wins            575 non-null    int64  \n",
      " 46  div_losses          575 non-null    int64  \n",
      " 47  pace                575 non-null    int64  \n",
      " 48  tot_wins            575 non-null    int64  \n",
      " 49  tot_losses          575 non-null    int64  \n",
      " 50  games_played        575 non-null    int64  \n",
      " 51  mins_played         575 non-null    float64\n",
      " 52  attendance          575 non-null    int64  \n",
      "dtypes: float64(1), int64(50), object(2)\n",
      "memory usage: 242.6+ KB\n"
     ]
    }
   ],
   "source": [
    "imputer = Imputer()\n",
    "X_train_imputed = imputer.fit_transform(X_train)\n",
    "X_train_imputed.info()"
   ]
  },
  {
   "cell_type": "markdown",
   "id": "e65fe6f6",
   "metadata": {},
   "source": [
    "Let's encode the categorical columns"
   ]
  },
  {
   "cell_type": "code",
   "execution_count": 68,
   "id": "05fcef8f",
   "metadata": {},
   "outputs": [
    {
     "data": {
      "text/plain": [
       "conf_id    3\n",
       "div_id     9\n",
       "dtype: int64"
      ]
     },
     "execution_count": 68,
     "metadata": {},
     "output_type": "execute_result"
    }
   ],
   "source": [
    "X_train_imputed[['conf_id','div_id']].nunique()"
   ]
  },
  {
   "cell_type": "code",
   "execution_count": 69,
   "id": "fd6db6d6",
   "metadata": {},
   "outputs": [],
   "source": [
    "from category_encoders import OneHotEncoder\n",
    "encoder = OneHotEncoder(cols=['conf_id','div_id'])\n",
    "X_train_imp_enc = encoder.fit_transform(X_train_imputed)"
   ]
  },
  {
   "cell_type": "code",
   "execution_count": 70,
   "id": "db4fd4e7",
   "metadata": {},
   "outputs": [],
   "source": [
    "# import random forest classifier\n",
    "from sklearn.ensemble import RandomForestClassifier\n",
    "\n",
    "rf = RandomForestClassifier(random_state=42)\n",
    "rf.fit(X_train_imp_enc,y_train) # fit model on the preprocessed data\n",
    "X_test_imputed = imputer.transform(X_test)\n",
    "X_test_imp_enc = encoder.transform(X_test_imputed)\n",
    "test_preds = rf.predict(X_test_imp_enc)"
   ]
  },
  {
   "cell_type": "markdown",
   "id": "d4fd6e49",
   "metadata": {},
   "source": [
    "## Test Results"
   ]
  },
  {
   "cell_type": "code",
   "execution_count": 71,
   "id": "7942b213",
   "metadata": {},
   "outputs": [
    {
     "data": {
      "text/plain": [
       "array([[153,   2],\n",
       "       [ 27,  10]], dtype=int64)"
      ]
     },
     "execution_count": 71,
     "metadata": {},
     "output_type": "execute_result"
    }
   ],
   "source": [
    "from sklearn.metrics import confusion_matrix as cm\n",
    "from sklearn.metrics import accuracy_score,precision_score,recall_score\n",
    "cm(y_test,test_preds)"
   ]
  },
  {
   "cell_type": "code",
   "execution_count": 72,
   "id": "117e7238",
   "metadata": {},
   "outputs": [
    {
     "name": "stdout",
     "output_type": "stream",
     "text": [
      "Accuracy: 0.8489583333333334\n",
      "Precision: 0.8333333333333334\n",
      "Recall: 0.2702702702702703\n"
     ]
    }
   ],
   "source": [
    "print('Accuracy:',accuracy_score(y_test,test_preds))\n",
    "print('Precision:',precision_score(y_test,test_preds))\n",
    "print('Recall:',recall_score(y_test,test_preds))"
   ]
  },
  {
   "cell_type": "markdown",
   "id": "ae116ad3",
   "metadata": {},
   "source": [
    "## Train Results"
   ]
  },
  {
   "cell_type": "code",
   "execution_count": 73,
   "id": "c0c3bd84",
   "metadata": {
    "scrolled": false
   },
   "outputs": [
    {
     "data": {
      "text/plain": [
       "array([[481,   0],\n",
       "       [  0,  94]], dtype=int64)"
      ]
     },
     "execution_count": 73,
     "metadata": {},
     "output_type": "execute_result"
    }
   ],
   "source": [
    "train_preds = rf.predict(X_train_imp_enc)\n",
    "cm(y_train,train_preds)"
   ]
  },
  {
   "cell_type": "code",
   "execution_count": 74,
   "id": "a74fdb1d",
   "metadata": {},
   "outputs": [
    {
     "name": "stdout",
     "output_type": "stream",
     "text": [
      "Accuracy: 1.0\n",
      "Precision: 1.0\n",
      "Recall: 1.0\n"
     ]
    }
   ],
   "source": [
    "print('Accuracy:',accuracy_score(y_train,train_preds))\n",
    "print('Precision:',precision_score(y_train,train_preds))\n",
    "print('Recall:',recall_score(y_train,train_preds))"
   ]
  },
  {
   "cell_type": "code",
   "execution_count": 75,
   "id": "3067e855",
   "metadata": {},
   "outputs": [
    {
     "data": {
      "image/png": "[encoded data removed]",
      "text/plain": [
       "<Figure size 720x1440 with 1 Axes>"
      ]
     },
     "metadata": {
      "needs_background": "light"
     },
     "output_type": "display_data"
    }
   ],
   "source": [
    "imps = sorted(zip(rf.feature_importances_,X_train_imp_enc.columns),reverse=True)\n",
    "x_axis = [imp[0] for imp in imps]\n",
    "y_axis = [imp[1] for imp in imps]\n",
    "plt.figure(figsize=(10,20))\n",
    "sns.barplot(x_axis,y_axis)\n",
    "plt.title('Feature Importances');"
   ]
  }
 ],
 "metadata": {
  "kernelspec": {
   "display_name": "Python 3",
   "language": "python",
   "name": "python3"
  },
  "language_info": {
   "codemirror_mode": {
    "name": "ipython",
    "version": 3
   },
   "file_extension": ".py",
   "mimetype": "text/x-python",
   "name": "python",
   "nbconvert_exporter": "python",
   "pygments_lexer": "ipython3",
   "version": "3.7.3"
  }
 },
 "nbformat": 4,
 "nbformat_minor": 5
}
