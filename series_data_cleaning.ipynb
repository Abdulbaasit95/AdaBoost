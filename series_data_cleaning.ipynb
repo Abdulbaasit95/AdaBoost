{
 "cells": [
  {
   "cell_type": "code",
   "execution_count": 1,
   "metadata": {},
   "outputs": [],
   "source": [
    "import numpy as np\n",
    "import pandas as pd\n",
    "import seaborn as sns\n"
   ]
  },
  {
   "cell_type": "code",
   "execution_count": 2,
   "metadata": {},
   "outputs": [],
   "source": [
    "df_series = pd.read_csv('basketball_series_post.csv')"
   ]
  },
  {
   "cell_type": "code",
   "execution_count": 7,
   "metadata": {},
   "outputs": [
    {
     "data": {
      "text/html": [
       "<div>\n",
       "<style scoped>\n",
       "    .dataframe tbody tr th:only-of-type {\n",
       "        vertical-align: middle;\n",
       "    }\n",
       "\n",
       "    .dataframe tbody tr th {\n",
       "        vertical-align: top;\n",
       "    }\n",
       "\n",
       "    .dataframe thead th {\n",
       "        text-align: right;\n",
       "    }\n",
       "</style>\n",
       "<table border=\"1\" class=\"dataframe\">\n",
       "  <thead>\n",
       "    <tr style=\"text-align: right;\">\n",
       "      <th></th>\n",
       "      <th>year</th>\n",
       "      <th>round</th>\n",
       "      <th>series</th>\n",
       "      <th>tmIDWinner</th>\n",
       "      <th>lgIDWinner</th>\n",
       "      <th>tmIDLoser</th>\n",
       "      <th>lgIDLoser</th>\n",
       "      <th>W</th>\n",
       "      <th>L</th>\n",
       "    </tr>\n",
       "  </thead>\n",
       "  <tbody>\n",
       "    <tr>\n",
       "      <th>0</th>\n",
       "      <td>1946</td>\n",
       "      <td>F</td>\n",
       "      <td>O</td>\n",
       "      <td>PHW</td>\n",
       "      <td>NBA</td>\n",
       "      <td>CHS</td>\n",
       "      <td>NBA</td>\n",
       "      <td>4</td>\n",
       "      <td>1</td>\n",
       "    </tr>\n",
       "    <tr>\n",
       "      <th>1</th>\n",
       "      <td>1946</td>\n",
       "      <td>QF</td>\n",
       "      <td>M</td>\n",
       "      <td>NYK</td>\n",
       "      <td>NBA</td>\n",
       "      <td>CLR</td>\n",
       "      <td>NBA</td>\n",
       "      <td>2</td>\n",
       "      <td>1</td>\n",
       "    </tr>\n",
       "    <tr>\n",
       "      <th>2</th>\n",
       "      <td>1946</td>\n",
       "      <td>QF</td>\n",
       "      <td>M</td>\n",
       "      <td>PHW</td>\n",
       "      <td>NBA</td>\n",
       "      <td>STB</td>\n",
       "      <td>NBA</td>\n",
       "      <td>2</td>\n",
       "      <td>1</td>\n",
       "    </tr>\n",
       "    <tr>\n",
       "      <th>3</th>\n",
       "      <td>1946</td>\n",
       "      <td>SF</td>\n",
       "      <td>N</td>\n",
       "      <td>PHW</td>\n",
       "      <td>NBA</td>\n",
       "      <td>NYK</td>\n",
       "      <td>NBA</td>\n",
       "      <td>2</td>\n",
       "      <td>0</td>\n",
       "    </tr>\n",
       "    <tr>\n",
       "      <th>4</th>\n",
       "      <td>1946</td>\n",
       "      <td>SF</td>\n",
       "      <td>N</td>\n",
       "      <td>CHS</td>\n",
       "      <td>NBA</td>\n",
       "      <td>WSC</td>\n",
       "      <td>NBA</td>\n",
       "      <td>4</td>\n",
       "      <td>2</td>\n",
       "    </tr>\n",
       "  </tbody>\n",
       "</table>\n",
       "</div>"
      ],
      "text/plain": [
       "   year round series tmIDWinner lgIDWinner tmIDLoser lgIDLoser  W  L\n",
       "0  1946     F      O        PHW        NBA       CHS       NBA  4  1\n",
       "1  1946    QF      M        NYK        NBA       CLR       NBA  2  1\n",
       "2  1946    QF      M        PHW        NBA       STB       NBA  2  1\n",
       "3  1946    SF      N        PHW        NBA       NYK       NBA  2  0\n",
       "4  1946    SF      N        CHS        NBA       WSC       NBA  4  2"
      ]
     },
     "execution_count": 7,
     "metadata": {},
     "output_type": "execute_result"
    }
   ],
   "source": [
    "df_series.head()"
   ]
  },
  {
   "cell_type": "code",
   "execution_count": 8,
   "metadata": {},
   "outputs": [
    {
     "data": {
      "text/plain": [
       "year          0\n",
       "round         0\n",
       "series        0\n",
       "tmIDWinner    0\n",
       "lgIDWinner    0\n",
       "tmIDLoser     6\n",
       "lgIDLoser     0\n",
       "W             0\n",
       "L             0\n",
       "dtype: int64"
      ]
     },
     "execution_count": 8,
     "metadata": {},
     "output_type": "execute_result"
    }
   ],
   "source": [
    "df_series.isnull().sum()"
   ]
  },
  {
   "cell_type": "code",
   "execution_count": 10,
   "metadata": {},
   "outputs": [
    {
     "data": {
      "text/plain": [
       "(775, 9)"
      ]
     },
     "execution_count": 10,
     "metadata": {},
     "output_type": "execute_result"
    }
   ],
   "source": [
    "df_series.shape"
   ]
  },
  {
   "cell_type": "code",
   "execution_count": 12,
   "metadata": {},
   "outputs": [
    {
     "data": {
      "text/html": [
       "<div>\n",
       "<style scoped>\n",
       "    .dataframe tbody tr th:only-of-type {\n",
       "        vertical-align: middle;\n",
       "    }\n",
       "\n",
       "    .dataframe tbody tr th {\n",
       "        vertical-align: top;\n",
       "    }\n",
       "\n",
       "    .dataframe thead th {\n",
       "        text-align: right;\n",
       "    }\n",
       "</style>\n",
       "<table border=\"1\" class=\"dataframe\">\n",
       "  <thead>\n",
       "    <tr style=\"text-align: right;\">\n",
       "      <th></th>\n",
       "      <th>year</th>\n",
       "      <th>round</th>\n",
       "      <th>series</th>\n",
       "      <th>tmIDWinner</th>\n",
       "      <th>lgIDWinner</th>\n",
       "      <th>tmIDLoser</th>\n",
       "      <th>lgIDLoser</th>\n",
       "      <th>W</th>\n",
       "      <th>L</th>\n",
       "    </tr>\n",
       "  </thead>\n",
       "  <tbody>\n",
       "    <tr>\n",
       "      <th>0</th>\n",
       "      <td>1946</td>\n",
       "      <td>F</td>\n",
       "      <td>O</td>\n",
       "      <td>PHW</td>\n",
       "      <td>NBA</td>\n",
       "      <td>CHS</td>\n",
       "      <td>NBA</td>\n",
       "      <td>4</td>\n",
       "      <td>1</td>\n",
       "    </tr>\n",
       "    <tr>\n",
       "      <th>1</th>\n",
       "      <td>1946</td>\n",
       "      <td>QF</td>\n",
       "      <td>M</td>\n",
       "      <td>NYK</td>\n",
       "      <td>NBA</td>\n",
       "      <td>CLR</td>\n",
       "      <td>NBA</td>\n",
       "      <td>2</td>\n",
       "      <td>1</td>\n",
       "    </tr>\n",
       "    <tr>\n",
       "      <th>2</th>\n",
       "      <td>1946</td>\n",
       "      <td>QF</td>\n",
       "      <td>M</td>\n",
       "      <td>PHW</td>\n",
       "      <td>NBA</td>\n",
       "      <td>STB</td>\n",
       "      <td>NBA</td>\n",
       "      <td>2</td>\n",
       "      <td>1</td>\n",
       "    </tr>\n",
       "    <tr>\n",
       "      <th>3</th>\n",
       "      <td>1946</td>\n",
       "      <td>SF</td>\n",
       "      <td>N</td>\n",
       "      <td>PHW</td>\n",
       "      <td>NBA</td>\n",
       "      <td>NYK</td>\n",
       "      <td>NBA</td>\n",
       "      <td>2</td>\n",
       "      <td>0</td>\n",
       "    </tr>\n",
       "    <tr>\n",
       "      <th>4</th>\n",
       "      <td>1946</td>\n",
       "      <td>SF</td>\n",
       "      <td>N</td>\n",
       "      <td>CHS</td>\n",
       "      <td>NBA</td>\n",
       "      <td>WSC</td>\n",
       "      <td>NBA</td>\n",
       "      <td>4</td>\n",
       "      <td>2</td>\n",
       "    </tr>\n",
       "    <tr>\n",
       "      <th>...</th>\n",
       "      <td>...</td>\n",
       "      <td>...</td>\n",
       "      <td>...</td>\n",
       "      <td>...</td>\n",
       "      <td>...</td>\n",
       "      <td>...</td>\n",
       "      <td>...</td>\n",
       "      <td>...</td>\n",
       "      <td>...</td>\n",
       "    </tr>\n",
       "    <tr>\n",
       "      <th>770</th>\n",
       "      <td>1974</td>\n",
       "      <td>DT</td>\n",
       "      <td>A</td>\n",
       "      <td>KEN</td>\n",
       "      <td>ABA</td>\n",
       "      <td>NYA</td>\n",
       "      <td>ABA</td>\n",
       "      <td>1</td>\n",
       "      <td>0</td>\n",
       "    </tr>\n",
       "    <tr>\n",
       "      <th>771</th>\n",
       "      <td>1975</td>\n",
       "      <td>F</td>\n",
       "      <td>D</td>\n",
       "      <td>NYA</td>\n",
       "      <td>ABA</td>\n",
       "      <td>DNA</td>\n",
       "      <td>ABA</td>\n",
       "      <td>4</td>\n",
       "      <td>2</td>\n",
       "    </tr>\n",
       "    <tr>\n",
       "      <th>772</th>\n",
       "      <td>1975</td>\n",
       "      <td>SF</td>\n",
       "      <td>C</td>\n",
       "      <td>DNA</td>\n",
       "      <td>ABA</td>\n",
       "      <td>KEN</td>\n",
       "      <td>ABA</td>\n",
       "      <td>4</td>\n",
       "      <td>3</td>\n",
       "    </tr>\n",
       "    <tr>\n",
       "      <th>773</th>\n",
       "      <td>1975</td>\n",
       "      <td>SF</td>\n",
       "      <td>C</td>\n",
       "      <td>NYA</td>\n",
       "      <td>ABA</td>\n",
       "      <td>SAA</td>\n",
       "      <td>ABA</td>\n",
       "      <td>4</td>\n",
       "      <td>3</td>\n",
       "    </tr>\n",
       "    <tr>\n",
       "      <th>774</th>\n",
       "      <td>1975</td>\n",
       "      <td>FR</td>\n",
       "      <td>B</td>\n",
       "      <td>KEN</td>\n",
       "      <td>ABA</td>\n",
       "      <td>INA</td>\n",
       "      <td>ABA</td>\n",
       "      <td>2</td>\n",
       "      <td>1</td>\n",
       "    </tr>\n",
       "  </tbody>\n",
       "</table>\n",
       "<p>769 rows × 9 columns</p>\n",
       "</div>"
      ],
      "text/plain": [
       "     year round series tmIDWinner lgIDWinner tmIDLoser lgIDLoser  W  L\n",
       "0    1946     F      O        PHW        NBA       CHS       NBA  4  1\n",
       "1    1946    QF      M        NYK        NBA       CLR       NBA  2  1\n",
       "2    1946    QF      M        PHW        NBA       STB       NBA  2  1\n",
       "3    1946    SF      N        PHW        NBA       NYK       NBA  2  0\n",
       "4    1946    SF      N        CHS        NBA       WSC       NBA  4  2\n",
       "..    ...   ...    ...        ...        ...       ...       ... .. ..\n",
       "770  1974    DT      A        KEN        ABA       NYA       ABA  1  0\n",
       "771  1975     F      D        NYA        ABA       DNA       ABA  4  2\n",
       "772  1975    SF      C        DNA        ABA       KEN       ABA  4  3\n",
       "773  1975    SF      C        NYA        ABA       SAA       ABA  4  3\n",
       "774  1975    FR      B        KEN        ABA       INA       ABA  2  1\n",
       "\n",
       "[769 rows x 9 columns]"
      ]
     },
     "execution_count": 12,
     "metadata": {},
     "output_type": "execute_result"
    }
   ],
   "source": [
    "df_series_drop = df_series.dropna()\n",
    "df_series_drop"
   ]
  },
  {
   "cell_type": "code",
   "execution_count": 20,
   "metadata": {},
   "outputs": [
    {
     "data": {
      "text/plain": [
       "0"
      ]
     },
     "execution_count": 20,
     "metadata": {},
     "output_type": "execute_result"
    }
   ],
   "source": [
    "df_series_drop.isnull().sum().sum()"
   ]
  },
  {
   "cell_type": "code",
   "execution_count": null,
   "metadata": {},
   "outputs": [],
   "source": []
  },
  {
   "cell_type": "code",
   "execution_count": null,
   "metadata": {},
   "outputs": [],
   "source": []
  },
  {
   "cell_type": "code",
   "execution_count": null,
   "metadata": {},
   "outputs": [],
   "source": []
  },
  {
   "cell_type": "code",
   "execution_count": null,
   "metadata": {},
   "outputs": [],
   "source": []
  },
  {
   "cell_type": "code",
   "execution_count": null,
   "metadata": {},
   "outputs": [],
   "source": []
  },
  {
   "cell_type": "code",
   "execution_count": null,
   "metadata": {},
   "outputs": [],
   "source": []
  }
 ],
 "metadata": {
  "kernelspec": {
   "display_name": "Python 3",
   "language": "python",
   "name": "python3"
  },
  "language_info": {
   "codemirror_mode": {
    "name": "ipython",
    "version": 3
   },
   "file_extension": ".py",
   "mimetype": "text/x-python",
   "name": "python",
   "nbconvert_exporter": "python",
   "pygments_lexer": "ipython3",
   "version": "3.7.6"
  }
 },
 "nbformat": 4,
 "nbformat_minor": 4
}
